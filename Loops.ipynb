{
  "nbformat": 4,
  "nbformat_minor": 0,
  "metadata": {
    "colab": {
      "name": "Loops.ipynb",
      "provenance": [],
      "authorship_tag": "ABX9TyPl5WHnAocyCBV79Dy2eQaX",
      "include_colab_link": true
    },
    "kernelspec": {
      "name": "python3",
      "display_name": "Python 3"
    },
    "language_info": {
      "name": "python"
    }
  },
  "cells": [
    {
      "cell_type": "markdown",
      "metadata": {
        "id": "view-in-github",
        "colab_type": "text"
      },
      "source": [
        "<a href=\"https://colab.research.google.com/github/gokanb/python_basic/blob/main/Loops.ipynb\" target=\"_parent\"><img src=\"https://colab.research.google.com/assets/colab-badge.svg\" alt=\"Open In Colab\"/></a>"
      ]
    },
    {
      "cell_type": "markdown",
      "metadata": {
        "id": "8uUVjN4r-7Kj"
      },
      "source": [
        "# Loops"
      ]
    },
    {
      "cell_type": "markdown",
      "metadata": {
        "id": "nnBh-B7U-7Ii"
      },
      "source": [
        "## For Loop"
      ]
    },
    {
      "cell_type": "code",
      "metadata": {
        "id": "ODhzUBRA-_4f"
      },
      "source": [
        "my_list = [ 1, 2, 3, 4, 5, 6, 7, 8, 9, 10, 11, 12, 13, 14, 15, 16, 17, 18, 19, 20]"
      ],
      "execution_count": 9,
      "outputs": []
    },
    {
      "cell_type": "code",
      "metadata": {
        "colab": {
          "base_uri": "https://localhost:8080/"
        },
        "id": "V1MHVixM-_18",
        "outputId": "e3c8237a-3188-4c42-f072-e9aa2dbb8ed0"
      },
      "source": [
        "for i in my_list:\n",
        "  print(i)"
      ],
      "execution_count": 3,
      "outputs": [
        {
          "output_type": "stream",
          "name": "stdout",
          "text": [
            "1\n",
            "2\n",
            "3\n",
            "4\n",
            "5\n",
            "6\n",
            "7\n",
            "8\n",
            "9\n",
            "10\n"
          ]
        }
      ]
    },
    {
      "cell_type": "code",
      "metadata": {
        "colab": {
          "base_uri": "https://localhost:8080/"
        },
        "id": "Dl0eUj5Z-_zT",
        "outputId": "8c377a4e-2163-4c60-a02e-22aa716ab8a9"
      },
      "source": [
        "for i in my_list:\n",
        "  print(i + 2 )\n",
        "  #print out and and adding 2 "
      ],
      "execution_count": 4,
      "outputs": [
        {
          "output_type": "stream",
          "name": "stdout",
          "text": [
            "3\n",
            "4\n",
            "5\n",
            "6\n",
            "7\n",
            "8\n",
            "9\n",
            "10\n",
            "11\n",
            "12\n"
          ]
        }
      ]
    },
    {
      "cell_type": "code",
      "metadata": {
        "colab": {
          "base_uri": "https://localhost:8080/"
        },
        "id": "MYGe7GyU-_xA",
        "outputId": "6cb1ebe1-1383-4d12-9a6f-9cc935294e41"
      },
      "source": [
        "for i in range(10):\n",
        "  print(i)"
      ],
      "execution_count": 5,
      "outputs": [
        {
          "output_type": "stream",
          "name": "stdout",
          "text": [
            "0\n",
            "1\n",
            "2\n",
            "3\n",
            "4\n",
            "5\n",
            "6\n",
            "7\n",
            "8\n",
            "9\n"
          ]
        }
      ]
    },
    {
      "cell_type": "code",
      "metadata": {
        "colab": {
          "base_uri": "https://localhost:8080/"
        },
        "id": "JPYZu3Xn-7GO",
        "outputId": "e49eb18c-a81d-4eb4-fb78-5177b4209cac"
      },
      "source": [
        "for i in range(1, 10, 2):\n",
        "  print(i)\n",
        "  # start stop step "
      ],
      "execution_count": 7,
      "outputs": [
        {
          "output_type": "stream",
          "name": "stdout",
          "text": [
            "1\n",
            "3\n",
            "5\n",
            "7\n",
            "9\n"
          ]
        }
      ]
    },
    {
      "cell_type": "code",
      "metadata": {
        "colab": {
          "base_uri": "https://localhost:8080/"
        },
        "id": "ALoUe2aAG9kt",
        "outputId": "eb4a2c00-608e-448d-c391-cff051d1fea6"
      },
      "source": [
        "print(range(10))"
      ],
      "execution_count": 31,
      "outputs": [
        {
          "output_type": "stream",
          "name": "stdout",
          "text": [
            "range(0, 10)\n"
          ]
        }
      ]
    },
    {
      "cell_type": "code",
      "metadata": {
        "colab": {
          "base_uri": "https://localhost:8080/"
        },
        "id": "98ZQU1DtHGzK",
        "outputId": "0ff26c73-ebc7-4ecf-8b2b-3d2a800723b0"
      },
      "source": [
        "for i in range(1,100,3):\n",
        "  print(i)"
      ],
      "execution_count": 32,
      "outputs": [
        {
          "output_type": "stream",
          "name": "stdout",
          "text": [
            "1\n",
            "4\n",
            "7\n",
            "10\n",
            "13\n",
            "16\n",
            "19\n",
            "22\n",
            "25\n",
            "28\n",
            "31\n",
            "34\n",
            "37\n",
            "40\n",
            "43\n",
            "46\n",
            "49\n",
            "52\n",
            "55\n",
            "58\n",
            "61\n",
            "64\n",
            "67\n",
            "70\n",
            "73\n",
            "76\n",
            "79\n",
            "82\n",
            "85\n",
            "88\n",
            "91\n",
            "94\n",
            "97\n"
          ]
        }
      ]
    },
    {
      "cell_type": "code",
      "metadata": {
        "id": "KhcJ4kKYHGt2"
      },
      "source": [
        ""
      ],
      "execution_count": null,
      "outputs": []
    },
    {
      "cell_type": "code",
      "metadata": {
        "colab": {
          "base_uri": "https://localhost:8080/"
        },
        "id": "cycpTRdB-7D_",
        "outputId": "5a9204ad-1d1d-444a-88b4-5666e9d60cbe"
      },
      "source": [
        "for i in range(10, 1, -1):\n",
        "  print(i) \n",
        "  # starting from end"
      ],
      "execution_count": 8,
      "outputs": [
        {
          "output_type": "stream",
          "name": "stdout",
          "text": [
            "10\n",
            "9\n",
            "8\n",
            "7\n",
            "6\n",
            "5\n",
            "4\n",
            "3\n",
            "2\n"
          ]
        }
      ]
    },
    {
      "cell_type": "code",
      "metadata": {
        "colab": {
          "base_uri": "https://localhost:8080/"
        },
        "id": "SEBgfgNP-7BW",
        "outputId": "6a438b8a-2508-42ca-ce1e-999c060a6038"
      },
      "source": [
        "5 % 3\n",
        "# printing put remain"
      ],
      "execution_count": 10,
      "outputs": [
        {
          "output_type": "execute_result",
          "data": {
            "text/plain": [
              "2"
            ]
          },
          "metadata": {},
          "execution_count": 10
        }
      ]
    },
    {
      "cell_type": "code",
      "metadata": {
        "colab": {
          "base_uri": "https://localhost:8080/"
        },
        "id": "ecFUbx29-6-9",
        "outputId": "4baac526-16da-4116-8bc5-5cf79bb3aca0"
      },
      "source": [
        "for i in my_list:\n",
        "  if i % 2 == 0:\n",
        "    print(i)\n",
        "    # printing even numbers because we ask for reminders is equal to 0 "
      ],
      "execution_count": 15,
      "outputs": [
        {
          "output_type": "stream",
          "name": "stdout",
          "text": [
            "2\n",
            "4\n",
            "6\n",
            "8\n",
            "10\n",
            "12\n",
            "14\n",
            "16\n",
            "18\n",
            "20\n"
          ]
        }
      ]
    },
    {
      "cell_type": "code",
      "metadata": {
        "colab": {
          "base_uri": "https://localhost:8080/"
        },
        "id": "pCokUSVlA_ZV",
        "outputId": "c12000c8-977f-47f9-9e46-ced00b5ccf66"
      },
      "source": [
        "for i in my_list:\n",
        "  if i % 2 != 0:\n",
        "    print(i)\n",
        "    # printing even numbers because we ask for reminders is not equal to 0 "
      ],
      "execution_count": 17,
      "outputs": [
        {
          "output_type": "stream",
          "name": "stdout",
          "text": [
            "1\n",
            "3\n",
            "5\n",
            "7\n",
            "9\n",
            "11\n",
            "13\n",
            "15\n",
            "17\n",
            "19\n"
          ]
        }
      ]
    },
    {
      "cell_type": "code",
      "metadata": {
        "colab": {
          "base_uri": "https://localhost:8080/"
        },
        "id": "ohetwo85A_Wp",
        "outputId": "ceb682ca-4bbf-46ca-ff02-1778442f46be"
      },
      "source": [
        "for i in my_list:\n",
        "  if i % 2 == 1:\n",
        "    print(i)\n",
        "    # printing even numbers because we ask for reminders is not equal to 0 "
      ],
      "execution_count": 29,
      "outputs": [
        {
          "output_type": "stream",
          "name": "stdout",
          "text": [
            "1\n",
            "3\n",
            "5\n",
            "7\n",
            "9\n",
            "11\n",
            "13\n",
            "15\n",
            "17\n",
            "19\n"
          ]
        }
      ]
    },
    {
      "cell_type": "code",
      "metadata": {
        "id": "W8PWsrfTA_UN"
      },
      "source": [
        "# print out the in the list plus 3.\n",
        "# print out the items the list time 17.\n",
        "# print out the items of the list power of 5."
      ],
      "execution_count": null,
      "outputs": []
    },
    {
      "cell_type": "code",
      "metadata": {
        "colab": {
          "base_uri": "https://localhost:8080/"
        },
        "id": "gD2sV5bMA_Ro",
        "outputId": "6568cc38-f68a-4859-c7e3-2b34d7757ab2"
      },
      "source": [
        "for i in my_list:\n",
        "  print(i + 3 )"
      ],
      "execution_count": 20,
      "outputs": [
        {
          "output_type": "stream",
          "name": "stdout",
          "text": [
            "4\n",
            "5\n",
            "6\n",
            "7\n",
            "8\n",
            "9\n",
            "10\n",
            "11\n",
            "12\n",
            "13\n",
            "14\n",
            "15\n",
            "16\n",
            "17\n",
            "18\n",
            "19\n",
            "20\n",
            "21\n",
            "22\n",
            "23\n"
          ]
        }
      ]
    },
    {
      "cell_type": "code",
      "metadata": {
        "colab": {
          "base_uri": "https://localhost:8080/"
        },
        "id": "QyV7CDy-A_PC",
        "outputId": "f80ae134-619b-4339-f15c-2e68b816b4fb"
      },
      "source": [
        "for i in my_list:\n",
        "  print(i * 17 )"
      ],
      "execution_count": 21,
      "outputs": [
        {
          "output_type": "stream",
          "name": "stdout",
          "text": [
            "17\n",
            "34\n",
            "51\n",
            "68\n",
            "85\n",
            "102\n",
            "119\n",
            "136\n",
            "153\n",
            "170\n",
            "187\n",
            "204\n",
            "221\n",
            "238\n",
            "255\n",
            "272\n",
            "289\n",
            "306\n",
            "323\n",
            "340\n"
          ]
        }
      ]
    },
    {
      "cell_type": "code",
      "metadata": {
        "colab": {
          "base_uri": "https://localhost:8080/"
        },
        "id": "uGccawmQA_Mm",
        "outputId": "f51de67f-d906-4808-c7fe-99c85d761d33"
      },
      "source": [
        "for i in my_list:\n",
        "  print(i ** 5 )"
      ],
      "execution_count": 22,
      "outputs": [
        {
          "output_type": "stream",
          "name": "stdout",
          "text": [
            "1\n",
            "32\n",
            "243\n",
            "1024\n",
            "3125\n",
            "7776\n",
            "16807\n",
            "32768\n",
            "59049\n",
            "100000\n",
            "161051\n",
            "248832\n",
            "371293\n",
            "537824\n",
            "759375\n",
            "1048576\n",
            "1419857\n",
            "1889568\n",
            "2476099\n",
            "3200000\n"
          ]
        }
      ]
    },
    {
      "cell_type": "code",
      "metadata": {
        "colab": {
          "base_uri": "https://localhost:8080/"
        },
        "id": "BzQSJh-vA_J1",
        "outputId": "d832b2ea-e9a3-4d7a-b7bc-62ac84893086"
      },
      "source": [
        "for i in my_list:\n",
        "  print(pow(i, 5 ))"
      ],
      "execution_count": 23,
      "outputs": [
        {
          "output_type": "stream",
          "name": "stdout",
          "text": [
            "1\n",
            "32\n",
            "243\n",
            "1024\n",
            "3125\n",
            "7776\n",
            "16807\n",
            "32768\n",
            "59049\n",
            "100000\n",
            "161051\n",
            "248832\n",
            "371293\n",
            "537824\n",
            "759375\n",
            "1048576\n",
            "1419857\n",
            "1889568\n",
            "2476099\n",
            "3200000\n"
          ]
        }
      ]
    },
    {
      "cell_type": "code",
      "metadata": {
        "colab": {
          "base_uri": "https://localhost:8080/"
        },
        "id": "fmM1-4XBEa5P",
        "outputId": "c44fed11-ab17-4cfe-c6de-ba55bffdaceb"
      },
      "source": [
        "pow(my_list[3], 2)"
      ],
      "execution_count": 24,
      "outputs": [
        {
          "output_type": "execute_result",
          "data": {
            "text/plain": [
              "16"
            ]
          },
          "metadata": {},
          "execution_count": 24
        }
      ]
    },
    {
      "cell_type": "code",
      "metadata": {
        "id": "2zXmDouYEwxR"
      },
      "source": [
        "myString = 'Hello Word'"
      ],
      "execution_count": 27,
      "outputs": []
    },
    {
      "cell_type": "code",
      "metadata": {
        "colab": {
          "base_uri": "https://localhost:8080/"
        },
        "id": "MJPYcVFwE-oW",
        "outputId": "9b8b6578-898d-4f60-89c1-611b2edbd23f"
      },
      "source": [
        "for letter in myString:\n",
        "  print(letter)"
      ],
      "execution_count": 28,
      "outputs": [
        {
          "output_type": "stream",
          "name": "stdout",
          "text": [
            "H\n",
            "e\n",
            "l\n",
            "l\n",
            "o\n",
            " \n",
            "W\n",
            "o\n",
            "r\n",
            "d\n"
          ]
        }
      ]
    },
    {
      "cell_type": "code",
      "metadata": {
        "colab": {
          "base_uri": "https://localhost:8080/"
        },
        "id": "zxRiydrzFS6C",
        "outputId": "8a78374e-4dbc-4300-941e-a5a2129b32fa"
      },
      "source": [
        "my_list"
      ],
      "execution_count": 33,
      "outputs": [
        {
          "output_type": "execute_result",
          "data": {
            "text/plain": [
              "[1, 2, 3, 4, 5, 6, 7, 8, 9, 10, 11, 12, 13, 14, 15, 16, 17, 18, 19, 20]"
            ]
          },
          "metadata": {},
          "execution_count": 33
        }
      ]
    },
    {
      "cell_type": "code",
      "metadata": {
        "colab": {
          "base_uri": "https://localhost:8080/"
        },
        "id": "nj9mnLdpHlJG",
        "outputId": "b8402f44-ddfc-4e17-e5fd-5cfe61a300a0"
      },
      "source": [
        "for i in range(0, len(my_list)):\n",
        "  print('Iteration #: ' ,i + 1)\n",
        "  for j in range(i+1, len(my_list)):\n",
        "    print('The oustside loop value is: ',\n",
        "          my_list[i], 'The inner loop value is: ', my_list[j])\n",
        "  # "
      ],
      "execution_count": 40,
      "outputs": [
        {
          "output_type": "stream",
          "name": "stdout",
          "text": [
            "Iteration #:  1\n",
            "The oustside loop value is:  1 The inner loop value is:  2\n",
            "The oustside loop value is:  1 The inner loop value is:  3\n",
            "The oustside loop value is:  1 The inner loop value is:  4\n",
            "The oustside loop value is:  1 The inner loop value is:  5\n",
            "The oustside loop value is:  1 The inner loop value is:  6\n",
            "The oustside loop value is:  1 The inner loop value is:  7\n",
            "The oustside loop value is:  1 The inner loop value is:  8\n",
            "The oustside loop value is:  1 The inner loop value is:  9\n",
            "The oustside loop value is:  1 The inner loop value is:  10\n",
            "The oustside loop value is:  1 The inner loop value is:  11\n",
            "The oustside loop value is:  1 The inner loop value is:  12\n",
            "The oustside loop value is:  1 The inner loop value is:  13\n",
            "The oustside loop value is:  1 The inner loop value is:  14\n",
            "The oustside loop value is:  1 The inner loop value is:  15\n",
            "The oustside loop value is:  1 The inner loop value is:  16\n",
            "The oustside loop value is:  1 The inner loop value is:  17\n",
            "The oustside loop value is:  1 The inner loop value is:  18\n",
            "The oustside loop value is:  1 The inner loop value is:  19\n",
            "The oustside loop value is:  1 The inner loop value is:  20\n",
            "Iteration #:  2\n",
            "The oustside loop value is:  2 The inner loop value is:  3\n",
            "The oustside loop value is:  2 The inner loop value is:  4\n",
            "The oustside loop value is:  2 The inner loop value is:  5\n",
            "The oustside loop value is:  2 The inner loop value is:  6\n",
            "The oustside loop value is:  2 The inner loop value is:  7\n",
            "The oustside loop value is:  2 The inner loop value is:  8\n",
            "The oustside loop value is:  2 The inner loop value is:  9\n",
            "The oustside loop value is:  2 The inner loop value is:  10\n",
            "The oustside loop value is:  2 The inner loop value is:  11\n",
            "The oustside loop value is:  2 The inner loop value is:  12\n",
            "The oustside loop value is:  2 The inner loop value is:  13\n",
            "The oustside loop value is:  2 The inner loop value is:  14\n",
            "The oustside loop value is:  2 The inner loop value is:  15\n",
            "The oustside loop value is:  2 The inner loop value is:  16\n",
            "The oustside loop value is:  2 The inner loop value is:  17\n",
            "The oustside loop value is:  2 The inner loop value is:  18\n",
            "The oustside loop value is:  2 The inner loop value is:  19\n",
            "The oustside loop value is:  2 The inner loop value is:  20\n",
            "Iteration #:  3\n",
            "The oustside loop value is:  3 The inner loop value is:  4\n",
            "The oustside loop value is:  3 The inner loop value is:  5\n",
            "The oustside loop value is:  3 The inner loop value is:  6\n",
            "The oustside loop value is:  3 The inner loop value is:  7\n",
            "The oustside loop value is:  3 The inner loop value is:  8\n",
            "The oustside loop value is:  3 The inner loop value is:  9\n",
            "The oustside loop value is:  3 The inner loop value is:  10\n",
            "The oustside loop value is:  3 The inner loop value is:  11\n",
            "The oustside loop value is:  3 The inner loop value is:  12\n",
            "The oustside loop value is:  3 The inner loop value is:  13\n",
            "The oustside loop value is:  3 The inner loop value is:  14\n",
            "The oustside loop value is:  3 The inner loop value is:  15\n",
            "The oustside loop value is:  3 The inner loop value is:  16\n",
            "The oustside loop value is:  3 The inner loop value is:  17\n",
            "The oustside loop value is:  3 The inner loop value is:  18\n",
            "The oustside loop value is:  3 The inner loop value is:  19\n",
            "The oustside loop value is:  3 The inner loop value is:  20\n",
            "Iteration #:  4\n",
            "The oustside loop value is:  4 The inner loop value is:  5\n",
            "The oustside loop value is:  4 The inner loop value is:  6\n",
            "The oustside loop value is:  4 The inner loop value is:  7\n",
            "The oustside loop value is:  4 The inner loop value is:  8\n",
            "The oustside loop value is:  4 The inner loop value is:  9\n",
            "The oustside loop value is:  4 The inner loop value is:  10\n",
            "The oustside loop value is:  4 The inner loop value is:  11\n",
            "The oustside loop value is:  4 The inner loop value is:  12\n",
            "The oustside loop value is:  4 The inner loop value is:  13\n",
            "The oustside loop value is:  4 The inner loop value is:  14\n",
            "The oustside loop value is:  4 The inner loop value is:  15\n",
            "The oustside loop value is:  4 The inner loop value is:  16\n",
            "The oustside loop value is:  4 The inner loop value is:  17\n",
            "The oustside loop value is:  4 The inner loop value is:  18\n",
            "The oustside loop value is:  4 The inner loop value is:  19\n",
            "The oustside loop value is:  4 The inner loop value is:  20\n",
            "Iteration #:  5\n",
            "The oustside loop value is:  5 The inner loop value is:  6\n",
            "The oustside loop value is:  5 The inner loop value is:  7\n",
            "The oustside loop value is:  5 The inner loop value is:  8\n",
            "The oustside loop value is:  5 The inner loop value is:  9\n",
            "The oustside loop value is:  5 The inner loop value is:  10\n",
            "The oustside loop value is:  5 The inner loop value is:  11\n",
            "The oustside loop value is:  5 The inner loop value is:  12\n",
            "The oustside loop value is:  5 The inner loop value is:  13\n",
            "The oustside loop value is:  5 The inner loop value is:  14\n",
            "The oustside loop value is:  5 The inner loop value is:  15\n",
            "The oustside loop value is:  5 The inner loop value is:  16\n",
            "The oustside loop value is:  5 The inner loop value is:  17\n",
            "The oustside loop value is:  5 The inner loop value is:  18\n",
            "The oustside loop value is:  5 The inner loop value is:  19\n",
            "The oustside loop value is:  5 The inner loop value is:  20\n",
            "Iteration #:  6\n",
            "The oustside loop value is:  6 The inner loop value is:  7\n",
            "The oustside loop value is:  6 The inner loop value is:  8\n",
            "The oustside loop value is:  6 The inner loop value is:  9\n",
            "The oustside loop value is:  6 The inner loop value is:  10\n",
            "The oustside loop value is:  6 The inner loop value is:  11\n",
            "The oustside loop value is:  6 The inner loop value is:  12\n",
            "The oustside loop value is:  6 The inner loop value is:  13\n",
            "The oustside loop value is:  6 The inner loop value is:  14\n",
            "The oustside loop value is:  6 The inner loop value is:  15\n",
            "The oustside loop value is:  6 The inner loop value is:  16\n",
            "The oustside loop value is:  6 The inner loop value is:  17\n",
            "The oustside loop value is:  6 The inner loop value is:  18\n",
            "The oustside loop value is:  6 The inner loop value is:  19\n",
            "The oustside loop value is:  6 The inner loop value is:  20\n",
            "Iteration #:  7\n",
            "The oustside loop value is:  7 The inner loop value is:  8\n",
            "The oustside loop value is:  7 The inner loop value is:  9\n",
            "The oustside loop value is:  7 The inner loop value is:  10\n",
            "The oustside loop value is:  7 The inner loop value is:  11\n",
            "The oustside loop value is:  7 The inner loop value is:  12\n",
            "The oustside loop value is:  7 The inner loop value is:  13\n",
            "The oustside loop value is:  7 The inner loop value is:  14\n",
            "The oustside loop value is:  7 The inner loop value is:  15\n",
            "The oustside loop value is:  7 The inner loop value is:  16\n",
            "The oustside loop value is:  7 The inner loop value is:  17\n",
            "The oustside loop value is:  7 The inner loop value is:  18\n",
            "The oustside loop value is:  7 The inner loop value is:  19\n",
            "The oustside loop value is:  7 The inner loop value is:  20\n",
            "Iteration #:  8\n",
            "The oustside loop value is:  8 The inner loop value is:  9\n",
            "The oustside loop value is:  8 The inner loop value is:  10\n",
            "The oustside loop value is:  8 The inner loop value is:  11\n",
            "The oustside loop value is:  8 The inner loop value is:  12\n",
            "The oustside loop value is:  8 The inner loop value is:  13\n",
            "The oustside loop value is:  8 The inner loop value is:  14\n",
            "The oustside loop value is:  8 The inner loop value is:  15\n",
            "The oustside loop value is:  8 The inner loop value is:  16\n",
            "The oustside loop value is:  8 The inner loop value is:  17\n",
            "The oustside loop value is:  8 The inner loop value is:  18\n",
            "The oustside loop value is:  8 The inner loop value is:  19\n",
            "The oustside loop value is:  8 The inner loop value is:  20\n",
            "Iteration #:  9\n",
            "The oustside loop value is:  9 The inner loop value is:  10\n",
            "The oustside loop value is:  9 The inner loop value is:  11\n",
            "The oustside loop value is:  9 The inner loop value is:  12\n",
            "The oustside loop value is:  9 The inner loop value is:  13\n",
            "The oustside loop value is:  9 The inner loop value is:  14\n",
            "The oustside loop value is:  9 The inner loop value is:  15\n",
            "The oustside loop value is:  9 The inner loop value is:  16\n",
            "The oustside loop value is:  9 The inner loop value is:  17\n",
            "The oustside loop value is:  9 The inner loop value is:  18\n",
            "The oustside loop value is:  9 The inner loop value is:  19\n",
            "The oustside loop value is:  9 The inner loop value is:  20\n",
            "Iteration #:  10\n",
            "The oustside loop value is:  10 The inner loop value is:  11\n",
            "The oustside loop value is:  10 The inner loop value is:  12\n",
            "The oustside loop value is:  10 The inner loop value is:  13\n",
            "The oustside loop value is:  10 The inner loop value is:  14\n",
            "The oustside loop value is:  10 The inner loop value is:  15\n",
            "The oustside loop value is:  10 The inner loop value is:  16\n",
            "The oustside loop value is:  10 The inner loop value is:  17\n",
            "The oustside loop value is:  10 The inner loop value is:  18\n",
            "The oustside loop value is:  10 The inner loop value is:  19\n",
            "The oustside loop value is:  10 The inner loop value is:  20\n",
            "Iteration #:  11\n",
            "The oustside loop value is:  11 The inner loop value is:  12\n",
            "The oustside loop value is:  11 The inner loop value is:  13\n",
            "The oustside loop value is:  11 The inner loop value is:  14\n",
            "The oustside loop value is:  11 The inner loop value is:  15\n",
            "The oustside loop value is:  11 The inner loop value is:  16\n",
            "The oustside loop value is:  11 The inner loop value is:  17\n",
            "The oustside loop value is:  11 The inner loop value is:  18\n",
            "The oustside loop value is:  11 The inner loop value is:  19\n",
            "The oustside loop value is:  11 The inner loop value is:  20\n",
            "Iteration #:  12\n",
            "The oustside loop value is:  12 The inner loop value is:  13\n",
            "The oustside loop value is:  12 The inner loop value is:  14\n",
            "The oustside loop value is:  12 The inner loop value is:  15\n",
            "The oustside loop value is:  12 The inner loop value is:  16\n",
            "The oustside loop value is:  12 The inner loop value is:  17\n",
            "The oustside loop value is:  12 The inner loop value is:  18\n",
            "The oustside loop value is:  12 The inner loop value is:  19\n",
            "The oustside loop value is:  12 The inner loop value is:  20\n",
            "Iteration #:  13\n",
            "The oustside loop value is:  13 The inner loop value is:  14\n",
            "The oustside loop value is:  13 The inner loop value is:  15\n",
            "The oustside loop value is:  13 The inner loop value is:  16\n",
            "The oustside loop value is:  13 The inner loop value is:  17\n",
            "The oustside loop value is:  13 The inner loop value is:  18\n",
            "The oustside loop value is:  13 The inner loop value is:  19\n",
            "The oustside loop value is:  13 The inner loop value is:  20\n",
            "Iteration #:  14\n",
            "The oustside loop value is:  14 The inner loop value is:  15\n",
            "The oustside loop value is:  14 The inner loop value is:  16\n",
            "The oustside loop value is:  14 The inner loop value is:  17\n",
            "The oustside loop value is:  14 The inner loop value is:  18\n",
            "The oustside loop value is:  14 The inner loop value is:  19\n",
            "The oustside loop value is:  14 The inner loop value is:  20\n",
            "Iteration #:  15\n",
            "The oustside loop value is:  15 The inner loop value is:  16\n",
            "The oustside loop value is:  15 The inner loop value is:  17\n",
            "The oustside loop value is:  15 The inner loop value is:  18\n",
            "The oustside loop value is:  15 The inner loop value is:  19\n",
            "The oustside loop value is:  15 The inner loop value is:  20\n",
            "Iteration #:  16\n",
            "The oustside loop value is:  16 The inner loop value is:  17\n",
            "The oustside loop value is:  16 The inner loop value is:  18\n",
            "The oustside loop value is:  16 The inner loop value is:  19\n",
            "The oustside loop value is:  16 The inner loop value is:  20\n",
            "Iteration #:  17\n",
            "The oustside loop value is:  17 The inner loop value is:  18\n",
            "The oustside loop value is:  17 The inner loop value is:  19\n",
            "The oustside loop value is:  17 The inner loop value is:  20\n",
            "Iteration #:  18\n",
            "The oustside loop value is:  18 The inner loop value is:  19\n",
            "The oustside loop value is:  18 The inner loop value is:  20\n",
            "Iteration #:  19\n",
            "The oustside loop value is:  19 The inner loop value is:  20\n",
            "Iteration #:  20\n"
          ]
        }
      ]
    },
    {
      "cell_type": "code",
      "metadata": {
        "id": "9BU5NY7GH1LD"
      },
      "source": [
        ""
      ],
      "execution_count": null,
      "outputs": []
    }
  ]
}