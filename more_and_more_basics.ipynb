{
  "nbformat": 4,
  "nbformat_minor": 0,
  "metadata": {
    "colab": {
      "name": "more and more basics.ipynb",
      "provenance": [],
      "authorship_tag": "ABX9TyNUCbY393R2cXf1ytewBTCT",
      "include_colab_link": true
    },
    "kernelspec": {
      "name": "python3",
      "display_name": "Python 3"
    },
    "language_info": {
      "name": "python"
    }
  },
  "cells": [
    {
      "cell_type": "markdown",
      "metadata": {
        "id": "view-in-github",
        "colab_type": "text"
      },
      "source": [
        "<a href=\"https://colab.research.google.com/github/gokanb/python_basic/blob/main/more_and_more_basics.ipynb\" target=\"_parent\"><img src=\"https://colab.research.google.com/assets/colab-badge.svg\" alt=\"Open In Colab\"/></a>"
      ]
    },
    {
      "cell_type": "markdown",
      "metadata": {
        "id": "fF9xehfniqHb"
      },
      "source": [
        "# More Basics"
      ]
    },
    {
      "cell_type": "markdown",
      "metadata": {
        "id": "zI1cWWlqivSB"
      },
      "source": [
        "## Booleans"
      ]
    },
    {
      "cell_type": "code",
      "metadata": {
        "colab": {
          "base_uri": "https://localhost:8080/"
        },
        "id": "LgFk3FXCivPb",
        "outputId": "e3c05e54-6c14-418c-fd5d-8935651ae9fe"
      },
      "source": [
        "True \n",
        "#this is boolen operator"
      ],
      "execution_count": 1,
      "outputs": [
        {
          "output_type": "execute_result",
          "data": {
            "text/plain": [
              "True"
            ]
          },
          "metadata": {},
          "execution_count": 1
        }
      ]
    },
    {
      "cell_type": "code",
      "metadata": {
        "colab": {
          "base_uri": "https://localhost:8080/"
        },
        "id": "l99yl0zRivM3",
        "outputId": "31f0b22b-d17d-4e53-b870-6550f4098bc0"
      },
      "source": [
        "type(True)"
      ],
      "execution_count": 2,
      "outputs": [
        {
          "output_type": "execute_result",
          "data": {
            "text/plain": [
              "bool"
            ]
          },
          "metadata": {},
          "execution_count": 2
        }
      ]
    },
    {
      "cell_type": "code",
      "metadata": {
        "colab": {
          "base_uri": "https://localhost:8080/"
        },
        "id": "tOApnSNJivKf",
        "outputId": "9b38593f-0b0d-4354-cb07-77c78fe0654d"
      },
      "source": [
        "False\n",
        "#this is boolen operator"
      ],
      "execution_count": 3,
      "outputs": [
        {
          "output_type": "execute_result",
          "data": {
            "text/plain": [
              "False"
            ]
          },
          "metadata": {},
          "execution_count": 3
        }
      ]
    },
    {
      "cell_type": "code",
      "metadata": {
        "colab": {
          "base_uri": "https://localhost:8080/"
        },
        "id": "fI4fki8QivIJ",
        "outputId": "0dd6f436-7425-4501-e50b-c65d94673459"
      },
      "source": [
        "type(False)"
      ],
      "execution_count": 5,
      "outputs": [
        {
          "output_type": "execute_result",
          "data": {
            "text/plain": [
              "bool"
            ]
          },
          "metadata": {},
          "execution_count": 5
        }
      ]
    },
    {
      "cell_type": "code",
      "metadata": {
        "colab": {
          "base_uri": "https://localhost:8080/"
        },
        "id": "IJgk_YZ4ivF1",
        "outputId": "37e99c47-0778-453b-9655-c7d5616938b0"
      },
      "source": [
        "10 > 9\n",
        "#comparation 10 is is greater then 9"
      ],
      "execution_count": 6,
      "outputs": [
        {
          "output_type": "execute_result",
          "data": {
            "text/plain": [
              "True"
            ]
          },
          "metadata": {},
          "execution_count": 6
        }
      ]
    },
    {
      "cell_type": "code",
      "metadata": {
        "colab": {
          "base_uri": "https://localhost:8080/"
        },
        "id": "w7AKDZbjivDg",
        "outputId": "691ecfa3-ae92-4d79-a8f1-d32a320b339a"
      },
      "source": [
        "type(10 > 9)\n",
        "#type command shows me what "
      ],
      "execution_count": 8,
      "outputs": [
        {
          "output_type": "execute_result",
          "data": {
            "text/plain": [
              "bool"
            ]
          },
          "metadata": {},
          "execution_count": 8
        }
      ]
    },
    {
      "cell_type": "markdown",
      "metadata": {
        "id": "LW8BeqkdivBM"
      },
      "source": [
        "## Operators"
      ]
    },
    {
      "cell_type": "markdown",
      "metadata": {
        "id": "3tfCb6E9iu-6"
      },
      "source": [
        "### Comparison Operations "
      ]
    },
    {
      "cell_type": "code",
      "metadata": {
        "colab": {
          "base_uri": "https://localhost:8080/"
        },
        "id": "EWIsHvXajaik",
        "outputId": "491aab8a-9cf5-40a4-f666-8184e58b7f03"
      },
      "source": [
        "12 == 4\n",
        "# == equall to"
      ],
      "execution_count": 9,
      "outputs": [
        {
          "output_type": "execute_result",
          "data": {
            "text/plain": [
              "False"
            ]
          },
          "metadata": {},
          "execution_count": 9
        }
      ]
    },
    {
      "cell_type": "code",
      "metadata": {
        "colab": {
          "base_uri": "https://localhost:8080/"
        },
        "id": "KsrxBIjFjaeC",
        "outputId": "164c1d25-a3c5-49f0-e317-e7c3d7172bd8"
      },
      "source": [
        "'Hi there ' == \"HI There\"\n",
        "# == equal too"
      ],
      "execution_count": 10,
      "outputs": [
        {
          "output_type": "execute_result",
          "data": {
            "text/plain": [
              "False"
            ]
          },
          "metadata": {},
          "execution_count": 10
        }
      ]
    },
    {
      "cell_type": "code",
      "metadata": {
        "colab": {
          "base_uri": "https://localhost:8080/"
        },
        "id": "mpJoXVivjaZa",
        "outputId": "1e8e00e3-4d16-4a64-ead6-a356651a7fe5"
      },
      "source": [
        "7 == \"hi\"\n",
        "# comparing int vs str"
      ],
      "execution_count": 12,
      "outputs": [
        {
          "output_type": "execute_result",
          "data": {
            "text/plain": [
              "False"
            ]
          },
          "metadata": {},
          "execution_count": 12
        }
      ]
    },
    {
      "cell_type": "code",
      "metadata": {
        "colab": {
          "base_uri": "https://localhost:8080/"
        },
        "id": "3M6T_N6VjaU6",
        "outputId": "a8a935ae-b98f-4a93-e4d2-d85294f41baf"
      },
      "source": [
        "2 == len(\"hi\")\n",
        "# comparation to lengh "
      ],
      "execution_count": 36,
      "outputs": [
        {
          "output_type": "execute_result",
          "data": {
            "text/plain": [
              "True"
            ]
          },
          "metadata": {},
          "execution_count": 36
        }
      ]
    },
    {
      "cell_type": "code",
      "metadata": {
        "colab": {
          "base_uri": "https://localhost:8080/"
        },
        "id": "qFJo77dVjaQA",
        "outputId": "4dc915fa-5a4b-42d2-8938-3423cccf8186"
      },
      "source": [
        "5 != 7\n",
        "#comparation not operator"
      ],
      "execution_count": 13,
      "outputs": [
        {
          "output_type": "execute_result",
          "data": {
            "text/plain": [
              "True"
            ]
          },
          "metadata": {},
          "execution_count": 13
        }
      ]
    },
    {
      "cell_type": "code",
      "metadata": {
        "colab": {
          "base_uri": "https://localhost:8080/"
        },
        "id": "Q3Yu24aKjaL6",
        "outputId": "441253fa-3c4e-4d74-9154-f82f5bc6c8b1"
      },
      "source": [
        "5 != 5\n",
        "# not equal to"
      ],
      "execution_count": 37,
      "outputs": [
        {
          "output_type": "execute_result",
          "data": {
            "text/plain": [
              "False"
            ]
          },
          "metadata": {},
          "execution_count": 37
        }
      ]
    },
    {
      "cell_type": "code",
      "metadata": {
        "colab": {
          "base_uri": "https://localhost:8080/"
        },
        "id": "chhBKRDGjaIG",
        "outputId": "49f0d1a9-d1e6-4b19-fd1d-2af7c5132299"
      },
      "source": [
        "7 > 9"
      ],
      "execution_count": 38,
      "outputs": [
        {
          "output_type": "execute_result",
          "data": {
            "text/plain": [
              "False"
            ]
          },
          "metadata": {},
          "execution_count": 38
        }
      ]
    },
    {
      "cell_type": "code",
      "metadata": {
        "colab": {
          "base_uri": "https://localhost:8080/"
        },
        "id": "HoSNI-86jaEZ",
        "outputId": "9c2de912-32ba-4fc7-d70a-a01f96219838"
      },
      "source": [
        "89 < 898"
      ],
      "execution_count": 16,
      "outputs": [
        {
          "output_type": "execute_result",
          "data": {
            "text/plain": [
              "True"
            ]
          },
          "metadata": {},
          "execution_count": 16
        }
      ]
    },
    {
      "cell_type": "code",
      "metadata": {
        "colab": {
          "base_uri": "https://localhost:8080/"
        },
        "id": "yZJNdzjXjaA6",
        "outputId": "e5697117-7907-40ac-e389-ea424e653153"
      },
      "source": [
        "9 <= 8 "
      ],
      "execution_count": 17,
      "outputs": [
        {
          "output_type": "execute_result",
          "data": {
            "text/plain": [
              "False"
            ]
          },
          "metadata": {},
          "execution_count": 17
        }
      ]
    },
    {
      "cell_type": "code",
      "metadata": {
        "colab": {
          "base_uri": "https://localhost:8080/"
        },
        "id": "8xYTyaFIiu8o",
        "outputId": "7432ee4c-63bc-40fb-fe29-ec0a77f3f610"
      },
      "source": [
        "9 <= 9 \n",
        "# less than and equal to"
      ],
      "execution_count": 18,
      "outputs": [
        {
          "output_type": "execute_result",
          "data": {
            "text/plain": [
              "True"
            ]
          },
          "metadata": {},
          "execution_count": 18
        }
      ]
    },
    {
      "cell_type": "markdown",
      "metadata": {
        "id": "NEboHFlmleAt"
      },
      "source": [
        "### Logical Operators"
      ]
    },
    {
      "cell_type": "code",
      "metadata": {
        "colab": {
          "base_uri": "https://localhost:8080/"
        },
        "id": "HsWFRjD8ld-E",
        "outputId": "05a37ac3-9c8f-4b34-a02c-bdedd8849689"
      },
      "source": [
        "3 > 2 > 1 \n",
        "# chain operator"
      ],
      "execution_count": 19,
      "outputs": [
        {
          "output_type": "execute_result",
          "data": {
            "text/plain": [
              "True"
            ]
          },
          "metadata": {},
          "execution_count": 19
        }
      ]
    },
    {
      "cell_type": "code",
      "metadata": {
        "colab": {
          "base_uri": "https://localhost:8080/"
        },
        "id": "BNq5KqJhld69",
        "outputId": "fda8dda6-de19-42d6-f81c-2cc6208c56c3"
      },
      "source": [
        "3 > 2 < 1"
      ],
      "execution_count": 20,
      "outputs": [
        {
          "output_type": "execute_result",
          "data": {
            "text/plain": [
              "False"
            ]
          },
          "metadata": {},
          "execution_count": 20
        }
      ]
    },
    {
      "cell_type": "code",
      "metadata": {
        "colab": {
          "base_uri": "https://localhost:8080/"
        },
        "id": "MuM9TC1Ild4G",
        "outputId": "03608ba7-cb1e-4066-d2ce-851c48f219d7"
      },
      "source": [
        "3 > 2 and 2 > 1"
      ],
      "execution_count": 24,
      "outputs": [
        {
          "output_type": "execute_result",
          "data": {
            "text/plain": [
              "True"
            ]
          },
          "metadata": {},
          "execution_count": 24
        }
      ]
    },
    {
      "cell_type": "code",
      "metadata": {
        "colab": {
          "base_uri": "https://localhost:8080/"
        },
        "id": "Uwe_e0_Qld1e",
        "outputId": "b7631650-32f5-49a4-b43f-9bdd53015034"
      },
      "source": [
        "(3 > 2 and 2 > 1 ) or ( 34 < 2 or 7 > 2 )"
      ],
      "execution_count": 25,
      "outputs": [
        {
          "output_type": "execute_result",
          "data": {
            "text/plain": [
              "True"
            ]
          },
          "metadata": {},
          "execution_count": 25
        }
      ]
    },
    {
      "cell_type": "code",
      "metadata": {
        "colab": {
          "base_uri": "https://localhost:8080/"
        },
        "id": "WiPGauFXldyt",
        "outputId": "6ae89b4e-e3f5-480c-aa93-f560037a3d1a"
      },
      "source": [
        "(3 > 2 and 2 > 1 ) or ( 34 < 2 or 7 > 2 ) and  90 < 3 "
      ],
      "execution_count": 27,
      "outputs": [
        {
          "output_type": "execute_result",
          "data": {
            "text/plain": [
              "True"
            ]
          },
          "metadata": {},
          "execution_count": 27
        }
      ]
    },
    {
      "cell_type": "code",
      "metadata": {
        "colab": {
          "base_uri": "https://localhost:8080/"
        },
        "id": "_ZF4yMqMldv5",
        "outputId": "9fe1936f-3ec9-4f7e-a33b-d3375e95faf3"
      },
      "source": [
        "((3 > 2 and 2 > 1 ) or ( 34 < 2 or 7 > 2 )) and  90 < 3 "
      ],
      "execution_count": 28,
      "outputs": [
        {
          "output_type": "execute_result",
          "data": {
            "text/plain": [
              "False"
            ]
          },
          "metadata": {},
          "execution_count": 28
        }
      ]
    },
    {
      "cell_type": "code",
      "metadata": {
        "colab": {
          "base_uri": "https://localhost:8080/"
        },
        "id": "u4argi3TogWN",
        "outputId": "4de315cd-b5dd-49c2-9378-70f0b4a09e65"
      },
      "source": [
        "((3 > 2 and 2 > 1 ) or ( 34 < 2 or 7 > 2 )) and (90 < 3 )"
      ],
      "execution_count": 31,
      "outputs": [
        {
          "output_type": "execute_result",
          "data": {
            "text/plain": [
              "False"
            ]
          },
          "metadata": {},
          "execution_count": 31
        }
      ]
    },
    {
      "cell_type": "code",
      "metadata": {
        "colab": {
          "base_uri": "https://localhost:8080/"
        },
        "id": "raXEi_jmohE1",
        "outputId": "dba3cc9c-a46e-4501-9724-5599e1368854"
      },
      "source": [
        "((3 > 2 and 2 > 1 ) or ( 34 < 2 or 7 > 2 )) and not (90 < 3 )"
      ],
      "execution_count": 32,
      "outputs": [
        {
          "output_type": "execute_result",
          "data": {
            "text/plain": [
              "True"
            ]
          },
          "metadata": {},
          "execution_count": 32
        }
      ]
    },
    {
      "cell_type": "code",
      "metadata": {
        "colab": {
          "base_uri": "https://localhost:8080/"
        },
        "id": "NXXA4M51ooJA",
        "outputId": "d14f9697-18b9-4a51-c4a5-e7208fcaefe1"
      },
      "source": [
        "' hello ' > ' hi '\n",
        "# comparing the alphabettic "
      ],
      "execution_count": 39,
      "outputs": [
        {
          "output_type": "execute_result",
          "data": {
            "text/plain": [
              "False"
            ]
          },
          "metadata": {},
          "execution_count": 39
        }
      ]
    },
    {
      "cell_type": "code",
      "metadata": {
        "colab": {
          "base_uri": "https://localhost:8080/"
        },
        "id": "UBQjB5d7ooC6",
        "outputId": "1c863cab-dbef-4b27-b1c6-a01d13eabe05"
      },
      "source": [
        "len(' hello ') > len( ' hi ')\n",
        "# comparing lenght of string"
      ],
      "execution_count": 35,
      "outputs": [
        {
          "output_type": "execute_result",
          "data": {
            "text/plain": [
              "True"
            ]
          },
          "metadata": {},
          "execution_count": 35
        }
      ]
    },
    {
      "cell_type": "markdown",
      "metadata": {
        "id": "oSlYPVFpon8r"
      },
      "source": [
        " ##  More on list"
      ]
    },
    {
      "cell_type": "code",
      "metadata": {
        "colab": {
          "base_uri": "https://localhost:8080/",
          "height": 37
        },
        "id": "ey9fIMMlon2v",
        "outputId": "2dd8434d-4419-410b-c25c-45bd1c404d05"
      },
      "source": [
        "myList = [ 2, 3, 5 ,7, 8, 9]\n",
        "\n",
        "\n",
        "\n",
        "\n",
        " \n",
        "'''\n",
        "# giving name variable ( PICK YOUR OWN PATTERN / STYLE)\n",
        "# oneWordsecondWord\n",
        "# OneWordSecondWord\n",
        "# one_word\n",
        "# _oneword\n",
        "'''\n",
        " \n"
      ],
      "execution_count": 80,
      "outputs": [
        {
          "output_type": "execute_result",
          "data": {
            "application/vnd.google.colaboratory.intrinsic+json": {
              "type": "string"
            },
            "text/plain": [
              "'\\n# giving name variable ( PICK YOUR OWN PATTERN / STYLE)\\n# oneWordsecondWord\\n# OneWordSecondWord\\n# one_word\\n# _oneword\\n'"
            ]
          },
          "metadata": {},
          "execution_count": 80
        }
      ]
    },
    {
      "cell_type": "code",
      "metadata": {
        "colab": {
          "base_uri": "https://localhost:8080/"
        },
        "id": "CrhpkiPXonx4",
        "outputId": "fb31a00e-b165-4bd3-8ecc-7a070a865f06"
      },
      "source": [
        " # append \n",
        "\n",
        " myList.append(78)\n",
        " myList"
      ],
      "execution_count": 81,
      "outputs": [
        {
          "output_type": "execute_result",
          "data": {
            "text/plain": [
              "[2, 3, 5, 7, 8, 9, 78]"
            ]
          },
          "metadata": {},
          "execution_count": 81
        }
      ]
    },
    {
      "cell_type": "code",
      "metadata": {
        "id": "uh9DzW3h79Pg"
      },
      "source": [
        ""
      ],
      "execution_count": null,
      "outputs": []
    },
    {
      "cell_type": "code",
      "metadata": {
        "colab": {
          "base_uri": "https://localhost:8080/"
        },
        "id": "IM8Jn3Wp7eS1",
        "outputId": "5a58316c-b13e-458f-bb09-d64c9c274cd2"
      },
      "source": [
        "myList.append('This is my string')\n",
        "myList"
      ],
      "execution_count": 93,
      "outputs": [
        {
          "output_type": "execute_result",
          "data": {
            "text/plain": [
              "[2,\n",
              " 3,\n",
              " 5,\n",
              " 7,\n",
              " 8,\n",
              " 9,\n",
              " 78,\n",
              " 'This is my string',\n",
              " 'This is my string',\n",
              " 'This is my string',\n",
              " ['This is my string']]"
            ]
          },
          "metadata": {},
          "execution_count": 93
        }
      ]
    },
    {
      "cell_type": "code",
      "metadata": {
        "colab": {
          "base_uri": "https://localhost:8080/"
        },
        "id": "eVQ0RDdB8D6Y",
        "outputId": "b0f6205d-603e-4d02-ae0e-2bd10bf7147d"
      },
      "source": [
        "myList.extend(['is a string'])\n",
        "myList"
      ],
      "execution_count": 94,
      "outputs": [
        {
          "output_type": "execute_result",
          "data": {
            "text/plain": [
              "[2,\n",
              " 3,\n",
              " 5,\n",
              " 7,\n",
              " 8,\n",
              " 9,\n",
              " 78,\n",
              " 'This is my string',\n",
              " 'This is my string',\n",
              " 'This is my string',\n",
              " ['This is my string'],\n",
              " 'is a string']"
            ]
          },
          "metadata": {},
          "execution_count": 94
        }
      ]
    },
    {
      "cell_type": "code",
      "metadata": {
        "colab": {
          "base_uri": "https://localhost:8080/"
        },
        "id": "I-VELdjbontX",
        "outputId": "10276331-9ff4-4a19-9808-9d95777c2a80"
      },
      "source": [
        "# count \n",
        "myList.count(5)"
      ],
      "execution_count": 82,
      "outputs": [
        {
          "output_type": "execute_result",
          "data": {
            "text/plain": [
              "1"
            ]
          },
          "metadata": {},
          "execution_count": 82
        }
      ]
    },
    {
      "cell_type": "code",
      "metadata": {
        "colab": {
          "base_uri": "https://localhost:8080/"
        },
        "id": "d3U6raOionj8",
        "outputId": "a9922594-063c-4548-b646-8b84468fafec"
      },
      "source": [
        "myList.count(78)"
      ],
      "execution_count": 83,
      "outputs": [
        {
          "output_type": "execute_result",
          "data": {
            "text/plain": [
              "1"
            ]
          },
          "metadata": {},
          "execution_count": 83
        }
      ]
    },
    {
      "cell_type": "code",
      "metadata": {
        "colab": {
          "base_uri": "https://localhost:8080/"
        },
        "id": "jWYk3-a5onbO",
        "outputId": "2632733c-bf8b-4ee5-bf57-339fd18c886a"
      },
      "source": [
        "# index\n",
        "myList.index(9)"
      ],
      "execution_count": 89,
      "outputs": [
        {
          "output_type": "execute_result",
          "data": {
            "text/plain": [
              "5"
            ]
          },
          "metadata": {},
          "execution_count": 89
        }
      ]
    },
    {
      "cell_type": "code",
      "metadata": {
        "colab": {
          "base_uri": "https://localhost:8080/",
          "height": 37
        },
        "id": "vpTCIwubonWs",
        "outputId": "330cc53d-d024-4e38-c4c9-dda0db377008"
      },
      "source": [
        "# pop \n",
        "myList.pop()\n",
        "# remove the last one if you pick the line then it will remove item. "
      ],
      "execution_count": 95,
      "outputs": [
        {
          "output_type": "execute_result",
          "data": {
            "application/vnd.google.colaboratory.intrinsic+json": {
              "type": "string"
            },
            "text/plain": [
              "'is a string'"
            ]
          },
          "metadata": {},
          "execution_count": 95
        }
      ]
    },
    {
      "cell_type": "code",
      "metadata": {
        "colab": {
          "base_uri": "https://localhost:8080/"
        },
        "id": "xWX-9RVE8OQ_",
        "outputId": "49c1c754-1133-4276-a64c-df361ad4cffb"
      },
      "source": [
        "print(myList)"
      ],
      "execution_count": 101,
      "outputs": [
        {
          "output_type": "stream",
          "name": "stdout",
          "text": [
            "[2, 3, 5, 7, 8, 'This is my string', 'This is my string', 'This is my string', ['This is my string']]\n"
          ]
        }
      ]
    },
    {
      "cell_type": "code",
      "metadata": {
        "colab": {
          "base_uri": "https://localhost:8080/"
        },
        "id": "tUfOO0Wo8Siv",
        "outputId": "ace87126-08ff-4e34-d66a-e10fede22399"
      },
      "source": [
        "myList.pop(5)"
      ],
      "execution_count": 98,
      "outputs": [
        {
          "output_type": "execute_result",
          "data": {
            "text/plain": [
              "78"
            ]
          },
          "metadata": {},
          "execution_count": 98
        }
      ]
    },
    {
      "cell_type": "code",
      "metadata": {
        "id": "STBiMV9F8l8I"
      },
      "source": [
        "myList2 = myList.copy()\n",
        "# copies "
      ],
      "execution_count": 102,
      "outputs": []
    },
    {
      "cell_type": "markdown",
      "metadata": {
        "id": "CaLvMQAR8_da"
      },
      "source": [
        "## More on Dictionaries"
      ]
    },
    {
      "cell_type": "code",
      "metadata": {
        "id": "stdSZdJE9lr8"
      },
      "source": [
        "myDict = {\"k1\" : 'v1', \"k2\" : \"v2\", 'k3' : 'v3' }"
      ],
      "execution_count": 103,
      "outputs": []
    },
    {
      "cell_type": "code",
      "metadata": {
        "colab": {
          "base_uri": "https://localhost:8080/"
        },
        "id": "qBIbFER89lmk",
        "outputId": "206b44ca-8207-48b8-ac22-eaeaf5fddd59"
      },
      "source": [
        "myDict.keys()"
      ],
      "execution_count": 104,
      "outputs": [
        {
          "output_type": "execute_result",
          "data": {
            "text/plain": [
              "dict_keys(['k1', 'k2', 'k3'])"
            ]
          },
          "metadata": {},
          "execution_count": 104
        }
      ]
    },
    {
      "cell_type": "code",
      "metadata": {
        "colab": {
          "base_uri": "https://localhost:8080/"
        },
        "id": "zzhAVfwe9lhT",
        "outputId": "c80c58d1-aea9-43c0-fe2a-6c2fad9bd19d"
      },
      "source": [
        "myDict.values()"
      ],
      "execution_count": 105,
      "outputs": [
        {
          "output_type": "execute_result",
          "data": {
            "text/plain": [
              "dict_values(['v1', 'v2', 'v3'])"
            ]
          },
          "metadata": {},
          "execution_count": 105
        }
      ]
    },
    {
      "cell_type": "code",
      "metadata": {
        "colab": {
          "base_uri": "https://localhost:8080/"
        },
        "id": "5u_wCoib9lc9",
        "outputId": "f0b2ff4a-66ec-4003-8399-6a75d726e96e"
      },
      "source": [
        "myDict.items()"
      ],
      "execution_count": 107,
      "outputs": [
        {
          "output_type": "execute_result",
          "data": {
            "text/plain": [
              "dict_items([('k1', 'v1'), ('k2', 'v2'), ('k3', 'v3')])"
            ]
          },
          "metadata": {},
          "execution_count": 107
        }
      ]
    }
  ]
}