{
  "nbformat": 4,
  "nbformat_minor": 0,
  "metadata": {
    "colab": {
      "name": "Collection Data Types.ipynb",
      "provenance": [],
      "authorship_tag": "ABX9TyOcrndy9uTdTuAuHjUdPSqx",
      "include_colab_link": true
    },
    "kernelspec": {
      "name": "python3",
      "display_name": "Python 3"
    },
    "language_info": {
      "name": "python"
    }
  },
  "cells": [
    {
      "cell_type": "markdown",
      "metadata": {
        "id": "view-in-github",
        "colab_type": "text"
      },
      "source": [
        "<a href=\"https://colab.research.google.com/github/gokanb/python_basic/blob/main/Collection_Data_Types.ipynb\" target=\"_parent\"><img src=\"https://colab.research.google.com/assets/colab-badge.svg\" alt=\"Open In Colab\"/></a>"
      ]
    },
    {
      "cell_type": "markdown",
      "metadata": {
        "id": "AF6jG0x7fZSi"
      },
      "source": [
        "#Collection Date Types"
      ]
    },
    {
      "cell_type": "markdown",
      "metadata": {
        "id": "T1cg7iFbfZPe"
      },
      "source": [
        "## List"
      ]
    },
    {
      "cell_type": "code",
      "metadata": {
        "colab": {
          "base_uri": "https://localhost:8080/"
        },
        "id": "oyusB6mAfZM1",
        "outputId": "6b7ef6e6-32fc-45d3-9af4-d806403da987"
      },
      "source": [
        "myList = [\"Hello\", 100 , 23 ,47 ]\n",
        "print(myList)"
      ],
      "execution_count": null,
      "outputs": [
        {
          "output_type": "stream",
          "name": "stdout",
          "text": [
            "['Hello', 100, 23, 47]\n"
          ]
        }
      ]
    },
    {
      "cell_type": "code",
      "metadata": {
        "colab": {
          "base_uri": "https://localhost:8080/"
        },
        "id": "qYQSIsqffY16",
        "outputId": "768ec7c0-cf51-47c5-c58c-049807627a96"
      },
      "source": [
        "anotherList = [\"one\", \"two\", \"three\"]\n",
        "anotherList"
      ],
      "execution_count": null,
      "outputs": [
        {
          "output_type": "execute_result",
          "data": {
            "text/plain": [
              "['one', 'two', 'three']"
            ]
          },
          "metadata": {},
          "execution_count": 2
        }
      ]
    },
    {
      "cell_type": "code",
      "metadata": {
        "colab": {
          "base_uri": "https://localhost:8080/"
        },
        "id": "a7x8AbQbiODE",
        "outputId": "7a83eb3f-5380-45ba-fd1d-c62aa171a32c"
      },
      "source": [
        "newList = myList + anotherList\n",
        "newList"
      ],
      "execution_count": null,
      "outputs": [
        {
          "output_type": "execute_result",
          "data": {
            "text/plain": [
              "['Hello', 100, 23, 47, 'one', 'two', 'three']"
            ]
          },
          "metadata": {},
          "execution_count": 4
        }
      ]
    },
    {
      "cell_type": "code",
      "metadata": {
        "colab": {
          "base_uri": "https://localhost:8080/"
        },
        "id": "NCMzz6dkiYB1",
        "outputId": "0344b088-eef1-45b3-8e3e-47d5fc547746"
      },
      "source": [
        "emptyList = [ ]\n",
        "emptyList"
      ],
      "execution_count": null,
      "outputs": [
        {
          "output_type": "execute_result",
          "data": {
            "text/plain": [
              "[]"
            ]
          },
          "metadata": {},
          "execution_count": 5
        }
      ]
    },
    {
      "cell_type": "markdown",
      "metadata": {
        "id": "VTCAXWXMnRfw"
      },
      "source": [
        "###Indexing through list"
      ]
    },
    {
      "cell_type": "code",
      "metadata": {
        "id": "sN4r7pkVnapr"
      },
      "source": [
        "cars = [ \"Mercedes\", \"Volvo\", \"Jaguar\", 'Bmw', \"Audi\"]\n",
        "cars"
      ],
      "execution_count": null,
      "outputs": []
    },
    {
      "cell_type": "code",
      "metadata": {
        "id": "jyOGPOHgneAT"
      },
      "source": [
        "cars[1]\n",
        "cars[0], cars[3]\n",
        "#always print out last line"
      ],
      "execution_count": null,
      "outputs": []
    },
    {
      "cell_type": "code",
      "metadata": {
        "colab": {
          "base_uri": "https://localhost:8080/"
        },
        "id": "16-ItW1tnhF1",
        "outputId": "e704684c-efc7-490c-808a-25f9cd368729"
      },
      "source": [
        "cars[1], cars[2], cars [3]"
      ],
      "execution_count": null,
      "outputs": [
        {
          "output_type": "execute_result",
          "data": {
            "text/plain": [
              "('Volvo', 'Jaguar', 'Bmw')"
            ]
          },
          "metadata": {},
          "execution_count": 13
        }
      ]
    },
    {
      "cell_type": "code",
      "metadata": {
        "colab": {
          "base_uri": "https://localhost:8080/"
        },
        "id": "A3Lu8TlZnhBl",
        "outputId": "04532b53-ae9d-4758-ff0b-38c0c43e2e8c"
      },
      "source": [
        "len(cars)"
      ],
      "execution_count": null,
      "outputs": [
        {
          "output_type": "execute_result",
          "data": {
            "text/plain": [
              "5"
            ]
          },
          "metadata": {},
          "execution_count": 14
        }
      ]
    },
    {
      "cell_type": "code",
      "metadata": {
        "colab": {
          "base_uri": "https://localhost:8080/",
          "height": 37
        },
        "id": "BVtjuwBRng9T",
        "outputId": "847cb983-3208-4bd2-8963-8c931ab28cc6"
      },
      "source": [
        "name = \"GOKAN BEKTAS\"\n",
        "name"
      ],
      "execution_count": null,
      "outputs": [
        {
          "output_type": "execute_result",
          "data": {
            "application/vnd.google.colaboratory.intrinsic+json": {
              "type": "string"
            },
            "text/plain": [
              "'GOKAN BEKTAS'"
            ]
          },
          "metadata": {},
          "execution_count": 15
        }
      ]
    },
    {
      "cell_type": "code",
      "metadata": {
        "colab": {
          "base_uri": "https://localhost:8080/"
        },
        "id": "wEdg_OT8ng4W",
        "outputId": "410b85a5-8253-472c-f9ad-83df1f12f9a1"
      },
      "source": [
        "len(name)"
      ],
      "execution_count": null,
      "outputs": [
        {
          "output_type": "execute_result",
          "data": {
            "text/plain": [
              "12"
            ]
          },
          "metadata": {},
          "execution_count": 16
        }
      ]
    },
    {
      "cell_type": "markdown",
      "metadata": {
        "id": "vIWkbrYln1fq"
      },
      "source": [
        "### Editing List"
      ]
    },
    {
      "cell_type": "code",
      "metadata": {
        "colab": {
          "base_uri": "https://localhost:8080/"
        },
        "id": "5ixvJbPBn1ba",
        "outputId": "b649cdc2-c7a8-4e3a-e2e5-a87689bd35eb"
      },
      "source": [
        "cars[0] = \"Tesla\"\n",
        "cars"
      ],
      "execution_count": null,
      "outputs": [
        {
          "output_type": "execute_result",
          "data": {
            "text/plain": [
              "['Tesla', 'Volvo', 'Jaguar', 'Bmw', 'Audi', 'Jeep']"
            ]
          },
          "metadata": {},
          "execution_count": 19
        }
      ]
    },
    {
      "cell_type": "code",
      "metadata": {
        "colab": {
          "base_uri": "https://localhost:8080/"
        },
        "id": "OCmtzTm4n1Xh",
        "outputId": "def0ce15-37c4-4699-f899-122da1980bd4"
      },
      "source": [
        "cars.append('Jeep')\n",
        "cars"
      ],
      "execution_count": null,
      "outputs": [
        {
          "output_type": "execute_result",
          "data": {
            "text/plain": [
              "['Tesla', 'Volvo', 'Jeep', 'Jeep']"
            ]
          },
          "metadata": {},
          "execution_count": 38
        }
      ]
    },
    {
      "cell_type": "code",
      "metadata": {
        "colab": {
          "base_uri": "https://localhost:8080/",
          "height": 37
        },
        "id": "i1o8TcyKoIzn",
        "outputId": "701f9867-5d57-4a7e-d38b-d3f87887cb89"
      },
      "source": [
        "cars.pop()\n",
        "#takes last item  "
      ],
      "execution_count": null,
      "outputs": [
        {
          "output_type": "execute_result",
          "data": {
            "application/vnd.google.colaboratory.intrinsic+json": {
              "type": "string"
            },
            "text/plain": [
              "'Jeep'"
            ]
          },
          "metadata": {},
          "execution_count": 35
        }
      ]
    },
    {
      "cell_type": "code",
      "metadata": {
        "colab": {
          "base_uri": "https://localhost:8080/",
          "height": 37
        },
        "id": "xY3aHwELoIuU",
        "outputId": "d47ebe7c-ef3f-42fb-9639-dc0354681ed3"
      },
      "source": [
        "cars.pop(2)"
      ],
      "execution_count": null,
      "outputs": [
        {
          "output_type": "execute_result",
          "data": {
            "application/vnd.google.colaboratory.intrinsic+json": {
              "type": "string"
            },
            "text/plain": [
              "'Jeep'"
            ]
          },
          "metadata": {},
          "execution_count": 39
        }
      ]
    },
    {
      "cell_type": "code",
      "metadata": {
        "colab": {
          "base_uri": "https://localhost:8080/"
        },
        "id": "Vn7NiEBuoIpY",
        "outputId": "a1c47b33-22d3-4819-9f90-7bfd33c4fbfb"
      },
      "source": [
        "cars.remove(\"Jeep\")\n",
        "cars"
      ],
      "execution_count": null,
      "outputs": [
        {
          "output_type": "execute_result",
          "data": {
            "text/plain": [
              "['Tesla', 'Volvo']"
            ]
          },
          "metadata": {},
          "execution_count": 40
        }
      ]
    },
    {
      "cell_type": "code",
      "metadata": {
        "colab": {
          "base_uri": "https://localhost:8080/"
        },
        "id": "WiQdVakxn1SW",
        "outputId": "deea2314-38f7-4238-c892-f01f681d6c4b"
      },
      "source": [
        "cars"
      ],
      "execution_count": null,
      "outputs": [
        {
          "output_type": "execute_result",
          "data": {
            "text/plain": [
              "['Tesla', 'Volvo', 'Bmw', 'Audi']"
            ]
          },
          "metadata": {},
          "execution_count": 29
        }
      ]
    },
    {
      "cell_type": "code",
      "metadata": {
        "id": "W86_96mho8GR"
      },
      "source": [
        "even = [2,4,6,8]\n",
        "odd = [1,3,5,7,9]"
      ],
      "execution_count": null,
      "outputs": []
    },
    {
      "cell_type": "code",
      "metadata": {
        "colab": {
          "base_uri": "https://localhost:8080/"
        },
        "id": "9asJb-O-p2no",
        "outputId": "ee953316-f054-4a9d-fa29-cbcd963c78b3"
      },
      "source": [
        "numbers = odd + even\n",
        "numbers"
      ],
      "execution_count": null,
      "outputs": [
        {
          "output_type": "execute_result",
          "data": {
            "text/plain": [
              "[1, 3, 5, 7, 9, 2, 4, 6, 8]"
            ]
          },
          "metadata": {},
          "execution_count": 46
        }
      ]
    },
    {
      "cell_type": "code",
      "metadata": {
        "colab": {
          "base_uri": "https://localhost:8080/"
        },
        "id": "D4A36MGdp2i2",
        "outputId": "f9f70814-342a-47d4-cc4f-858f7b64ac12"
      },
      "source": [
        "num = 67.989\n",
        "type(num)"
      ],
      "execution_count": null,
      "outputs": [
        {
          "output_type": "execute_result",
          "data": {
            "text/plain": [
              "float"
            ]
          },
          "metadata": {},
          "execution_count": 47
        }
      ]
    },
    {
      "cell_type": "code",
      "metadata": {
        "colab": {
          "base_uri": "https://localhost:8080/"
        },
        "id": "CSh7Sb3Hp2c-",
        "outputId": "133d5fab-3775-4831-b5c0-d51636c07c0f"
      },
      "source": [
        "len(numbers)"
      ],
      "execution_count": null,
      "outputs": [
        {
          "output_type": "execute_result",
          "data": {
            "text/plain": [
              "9"
            ]
          },
          "metadata": {},
          "execution_count": 48
        }
      ]
    },
    {
      "cell_type": "code",
      "metadata": {
        "colab": {
          "base_uri": "https://localhost:8080/"
        },
        "id": "2hUbrRLap2X3",
        "outputId": "dad2461c-7819-4858-92df-2e4020147a64"
      },
      "source": [
        "sorted(numbers)"
      ],
      "execution_count": null,
      "outputs": [
        {
          "output_type": "execute_result",
          "data": {
            "text/plain": [
              "[1, 2, 3, 4, 5, 6, 7, 8, 9]"
            ]
          },
          "metadata": {},
          "execution_count": 49
        }
      ]
    },
    {
      "cell_type": "code",
      "metadata": {
        "colab": {
          "base_uri": "https://localhost:8080/"
        },
        "id": "vq4EeB3cqJgy",
        "outputId": "4f356a20-cbd7-4bad-f040-f98a647673ce"
      },
      "source": [
        "numbers = sorted(numbers)\n",
        "numbers"
      ],
      "execution_count": null,
      "outputs": [
        {
          "output_type": "execute_result",
          "data": {
            "text/plain": [
              "[1, 2, 3, 4, 5, 6, 7, 8, 9]"
            ]
          },
          "metadata": {},
          "execution_count": 51
        }
      ]
    },
    {
      "cell_type": "code",
      "metadata": {
        "colab": {
          "base_uri": "https://localhost:8080/"
        },
        "id": "acT8uvKtqQEW",
        "outputId": "9e968384-2d57-4df5-bf48-b8e67b2ddd72"
      },
      "source": [
        "max(numbers)"
      ],
      "execution_count": null,
      "outputs": [
        {
          "output_type": "execute_result",
          "data": {
            "text/plain": [
              "9"
            ]
          },
          "metadata": {},
          "execution_count": 52
        }
      ]
    },
    {
      "cell_type": "code",
      "metadata": {
        "colab": {
          "base_uri": "https://localhost:8080/"
        },
        "id": "UQjIWxKkqP9H",
        "outputId": "b1d902f6-98d7-469b-e6e2-e3064906db6b"
      },
      "source": [
        "min(numbers)"
      ],
      "execution_count": null,
      "outputs": [
        {
          "output_type": "execute_result",
          "data": {
            "text/plain": [
              "1"
            ]
          },
          "metadata": {},
          "execution_count": 54
        }
      ]
    },
    {
      "cell_type": "markdown",
      "metadata": {
        "id": "rKFktSkFfYzW"
      },
      "source": [
        "## Dictionaries"
      ]
    },
    {
      "cell_type": "code",
      "metadata": {
        "id": "BSOgiEngfYw8",
        "colab": {
          "base_uri": "https://localhost:8080/"
        },
        "outputId": "060bb488-b8ed-460d-df76-062b77086492"
      },
      "source": [
        " myDict = {\"key1\" : \"value1\", \"key2\" : \"value2\", \"key3\" : \"value3\"} \n",
        " myDict"
      ],
      "execution_count": 57,
      "outputs": [
        {
          "output_type": "execute_result",
          "data": {
            "text/plain": [
              "{'key1': 'value1', 'key2': 'value2', 'key3': 'value3'}"
            ]
          },
          "metadata": {},
          "execution_count": 57
        }
      ]
    },
    {
      "cell_type": "code",
      "metadata": {
        "id": "5bbE9JKpfYub",
        "colab": {
          "base_uri": "https://localhost:8080/"
        },
        "outputId": "c26b3613-aa3e-416d-b924-9c39b163b6ea"
      },
      "source": [
        "myDict[\"key1\"] = \"mango\"\n",
        "myDict"
      ],
      "execution_count": 60,
      "outputs": [
        {
          "output_type": "execute_result",
          "data": {
            "text/plain": [
              "{'key1': 'mango', 'key2': 'value2', 'key3': 'value3'}"
            ]
          },
          "metadata": {},
          "execution_count": 60
        }
      ]
    },
    {
      "cell_type": "code",
      "metadata": {
        "id": "WCYwXEWRpKUV",
        "colab": {
          "base_uri": "https://localhost:8080/"
        },
        "outputId": "c1693b6e-7b3e-489d-d1b6-d24b2d8ebe16"
      },
      "source": [
        "fruits = {'passionFruit' : '$13', \"banana\" : \"$2\", \"mango\" : \"$5\", \"apple\" : \"$3\", \"grape\" : \"$6\", \"grapefruit\" : \"$7\", \"tomatoes\" : \"$3\", \"cherry\" : \"$9\", \"kiwi\" : \"$60\", \"orange\" : \"$13\"}\n",
        "fruits"
      ],
      "execution_count": 63,
      "outputs": [
        {
          "output_type": "execute_result",
          "data": {
            "text/plain": [
              "{'apple': '$3',\n",
              " 'banana': '$2',\n",
              " 'cherry': '$9',\n",
              " 'grape': '$6',\n",
              " 'grapefruit': '$7',\n",
              " 'kiwi': '$60',\n",
              " 'mango': '$5',\n",
              " 'orange': '$13',\n",
              " 'passionFruit': '$13',\n",
              " 'tomatoes': '$3'}"
            ]
          },
          "metadata": {},
          "execution_count": 63
        }
      ]
    },
    {
      "cell_type": "code",
      "metadata": {
        "colab": {
          "base_uri": "https://localhost:8080/"
        },
        "id": "Wj011328pKRW",
        "outputId": "08f77d6a-9384-49c6-a839-6e5b3bd959de"
      },
      "source": [
        "myDict2 = {'k1' : 147, 'k2' : [14,67,8,], 'k3' : {'cherry' : 3 }}\n",
        "myDict2"
      ],
      "execution_count": 70,
      "outputs": [
        {
          "output_type": "execute_result",
          "data": {
            "text/plain": [
              "{'k1': 147, 'k2': [14, 67, 8], 'k3': {'cherry': 3}}"
            ]
          },
          "metadata": {},
          "execution_count": 70
        }
      ]
    },
    {
      "cell_type": "code",
      "metadata": {
        "colab": {
          "base_uri": "https://localhost:8080/"
        },
        "id": "Al05gl8HpKOk",
        "outputId": "c284e01a-b4f3-4edd-b080-5f508e51dbc9"
      },
      "source": [
        "myDict2.keys()"
      ],
      "execution_count": 72,
      "outputs": [
        {
          "output_type": "execute_result",
          "data": {
            "text/plain": [
              "dict_keys(['k1', 'k2', 'k3'])"
            ]
          },
          "metadata": {},
          "execution_count": 72
        }
      ]
    },
    {
      "cell_type": "code",
      "metadata": {
        "id": "0hgoIO7-pbN6",
        "colab": {
          "base_uri": "https://localhost:8080/"
        },
        "outputId": "f7904ace-54df-4bed-f0e2-80add490eeef"
      },
      "source": [
        "myDict2.values()"
      ],
      "execution_count": 73,
      "outputs": [
        {
          "output_type": "execute_result",
          "data": {
            "text/plain": [
              "dict_values([147, [14, 67, 8], {'cherry': 3}])"
            ]
          },
          "metadata": {},
          "execution_count": 73
        }
      ]
    },
    {
      "cell_type": "code",
      "metadata": {
        "id": "qYXCVMd5pbIG",
        "colab": {
          "base_uri": "https://localhost:8080/"
        },
        "outputId": "493af1c6-c4d5-440c-c6ba-ac81aad8bb1a"
      },
      "source": [
        "myDict2.items()"
      ],
      "execution_count": 74,
      "outputs": [
        {
          "output_type": "execute_result",
          "data": {
            "text/plain": [
              "dict_items([('k1', 147), ('k2', [14, 67, 8]), ('k3', {'cherry': 3})])"
            ]
          },
          "metadata": {},
          "execution_count": 74
        }
      ]
    },
    {
      "cell_type": "code",
      "metadata": {
        "colab": {
          "base_uri": "https://localhost:8080/",
          "height": 37
        },
        "id": "xbOauNaIrgFo",
        "outputId": "9adfcf6e-e90f-427a-efdd-cc601327eb20"
      },
      "source": [
        "'''\n",
        "Define a dicttionary\n",
        "Dictionaries with all data type's\n",
        "add values\n",
        "replace values\n",
        "keys, values and item's retrieval\n",
        "'''"
      ],
      "execution_count": 75,
      "outputs": [
        {
          "output_type": "execute_result",
          "data": {
            "application/vnd.google.colaboratory.intrinsic+json": {
              "type": "string"
            },
            "text/plain": [
              "\"\\nDefine a dicttionary\\nDictionaries with all data type's\\nadd values\\nreplace values\\nkeys, values and item's retrieval\\n\""
            ]
          },
          "metadata": {},
          "execution_count": 75
        }
      ]
    },
    {
      "cell_type": "code",
      "metadata": {
        "id": "kYsgt1kqrgAw"
      },
      "source": [
        ""
      ],
      "execution_count": null,
      "outputs": []
    },
    {
      "cell_type": "code",
      "metadata": {
        "id": "2jrBpQrsrf7_"
      },
      "source": [
        ""
      ],
      "execution_count": null,
      "outputs": []
    },
    {
      "cell_type": "code",
      "metadata": {
        "id": "fo51p2K1rf3F"
      },
      "source": [
        ""
      ],
      "execution_count": null,
      "outputs": []
    },
    {
      "cell_type": "code",
      "metadata": {
        "id": "0x-RlRbMrfyW"
      },
      "source": [
        ""
      ],
      "execution_count": null,
      "outputs": []
    },
    {
      "cell_type": "code",
      "metadata": {
        "id": "ZtVPVwC7rftw"
      },
      "source": [
        ""
      ],
      "execution_count": null,
      "outputs": []
    },
    {
      "cell_type": "code",
      "metadata": {
        "id": "BguToIdPrfpM"
      },
      "source": [
        ""
      ],
      "execution_count": null,
      "outputs": []
    },
    {
      "cell_type": "code",
      "metadata": {
        "id": "gVnBA1e_rfkl"
      },
      "source": [
        ""
      ],
      "execution_count": null,
      "outputs": []
    },
    {
      "cell_type": "code",
      "metadata": {
        "id": "FK5leUyQrfgK"
      },
      "source": [
        ""
      ],
      "execution_count": null,
      "outputs": []
    },
    {
      "cell_type": "code",
      "metadata": {
        "id": "GvDVKqCprfbe"
      },
      "source": [
        ""
      ],
      "execution_count": null,
      "outputs": []
    },
    {
      "cell_type": "code",
      "metadata": {
        "id": "eRSg3n2brfWs"
      },
      "source": [
        ""
      ],
      "execution_count": null,
      "outputs": []
    },
    {
      "cell_type": "code",
      "metadata": {
        "id": "C7buResErfTe"
      },
      "source": [
        ""
      ],
      "execution_count": null,
      "outputs": []
    },
    {
      "cell_type": "code",
      "metadata": {
        "id": "wMqcqFu8rfQI"
      },
      "source": [
        ""
      ],
      "execution_count": null,
      "outputs": []
    },
    {
      "cell_type": "code",
      "metadata": {
        "id": "5V-QZ9ZcrfLv"
      },
      "source": [
        ""
      ],
      "execution_count": null,
      "outputs": []
    },
    {
      "cell_type": "code",
      "metadata": {
        "id": "QABETutrrfHa"
      },
      "source": [
        ""
      ],
      "execution_count": null,
      "outputs": []
    },
    {
      "cell_type": "code",
      "metadata": {
        "id": "JThiW9CerfDC"
      },
      "source": [
        ""
      ],
      "execution_count": null,
      "outputs": []
    },
    {
      "cell_type": "markdown",
      "metadata": {
        "id": "G58gK1cpfYsQ"
      },
      "source": [
        "## Tuples"
      ]
    },
    {
      "cell_type": "code",
      "metadata": {
        "id": "N3LvX_BFfYp6"
      },
      "source": [
        ""
      ],
      "execution_count": null,
      "outputs": []
    },
    {
      "cell_type": "code",
      "metadata": {
        "id": "E1FsMyBtfYnS"
      },
      "source": [
        ""
      ],
      "execution_count": null,
      "outputs": []
    },
    {
      "cell_type": "code",
      "metadata": {
        "id": "unkbV1eZfYkZ"
      },
      "source": [
        ""
      ],
      "execution_count": null,
      "outputs": []
    },
    {
      "cell_type": "code",
      "metadata": {
        "id": "BDV3LrrjriIN"
      },
      "source": [
        ""
      ],
      "execution_count": null,
      "outputs": []
    },
    {
      "cell_type": "code",
      "metadata": {
        "id": "VFKMXvP2riDR"
      },
      "source": [
        ""
      ],
      "execution_count": null,
      "outputs": []
    },
    {
      "cell_type": "code",
      "metadata": {
        "id": "F51RHW6zrh-J"
      },
      "source": [
        ""
      ],
      "execution_count": null,
      "outputs": []
    },
    {
      "cell_type": "code",
      "metadata": {
        "id": "Lb-1m0IMrh4d"
      },
      "source": [
        ""
      ],
      "execution_count": null,
      "outputs": []
    },
    {
      "cell_type": "code",
      "metadata": {
        "id": "P2eaAVMGrhzU"
      },
      "source": [
        ""
      ],
      "execution_count": null,
      "outputs": []
    },
    {
      "cell_type": "code",
      "metadata": {
        "id": "blHWAVATrhuM"
      },
      "source": [
        ""
      ],
      "execution_count": null,
      "outputs": []
    },
    {
      "cell_type": "code",
      "metadata": {
        "id": "3reJNoc9rhqq"
      },
      "source": [
        ""
      ],
      "execution_count": null,
      "outputs": []
    },
    {
      "cell_type": "code",
      "metadata": {
        "id": "3glliFKIrhm2"
      },
      "source": [
        ""
      ],
      "execution_count": null,
      "outputs": []
    },
    {
      "cell_type": "code",
      "metadata": {
        "id": "TR6shDHhrhjx"
      },
      "source": [
        ""
      ],
      "execution_count": null,
      "outputs": []
    },
    {
      "cell_type": "code",
      "metadata": {
        "id": "l275RdCbrhgY"
      },
      "source": [
        ""
      ],
      "execution_count": null,
      "outputs": []
    },
    {
      "cell_type": "code",
      "metadata": {
        "id": "iuqXd572rhdE"
      },
      "source": [
        ""
      ],
      "execution_count": null,
      "outputs": []
    },
    {
      "cell_type": "code",
      "metadata": {
        "id": "ZJs0uOzorhaa"
      },
      "source": [
        ""
      ],
      "execution_count": null,
      "outputs": []
    },
    {
      "cell_type": "code",
      "metadata": {
        "id": "u7n1drHHrhXf"
      },
      "source": [
        ""
      ],
      "execution_count": null,
      "outputs": []
    }
  ]
}