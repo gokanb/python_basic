{
  "nbformat": 4,
  "nbformat_minor": 0,
  "metadata": {
    "colab": {
      "name": "Number Guessing Game.ipynb",
      "provenance": [],
      "authorship_tag": "ABX9TyNERXrk2TvDq6Uzw2Ld4m7V",
      "include_colab_link": true
    },
    "kernelspec": {
      "name": "python3",
      "display_name": "Python 3"
    },
    "language_info": {
      "name": "python"
    }
  },
  "cells": [
    {
      "cell_type": "markdown",
      "metadata": {
        "id": "view-in-github",
        "colab_type": "text"
      },
      "source": [
        "<a href=\"https://colab.research.google.com/github/gokanb/python_basic/blob/main/Number_Guessing_Game.ipynb\" target=\"_parent\"><img src=\"https://colab.research.google.com/assets/colab-badge.svg\" alt=\"Open In Colab\"/></a>"
      ]
    },
    {
      "cell_type": "markdown",
      "metadata": {
        "id": "dMXSyPqNWpBq"
      },
      "source": [
        "# Number Guessing Game"
      ]
    },
    {
      "cell_type": "code",
      "metadata": {
        "colab": {
          "base_uri": "https://localhost:8080/"
        },
        "id": "QDo-5UBVWxgB",
        "outputId": "02aebf13-8540-43bd-d4fe-67f60b943477"
      },
      "source": [
        "import random\n",
        "\n",
        "guess = [ ]\n",
        "cpu_num = random.randint(1, 100)\n",
        "player_number = int(input(\"Enter a number between 1 and 100: \"))\n",
        "guess.append(player_number)\n",
        "\n",
        "\n",
        "while player_number != cpu_num:\n",
        "  if player_number > cpu_num:\n",
        "    print(\"Too high\")\n",
        "  else:\n",
        "    print(\"Too low\")\n",
        "  player_number = int(input(\"Enter a number between 1 and 100: \"))\n",
        "\n",
        "  guess.append(player_number)\n",
        "else:\n",
        "  print(\"Well Done!! \")\n",
        "  print(\"You have taken {} guesses\".format(len(guess)))\n",
        "  print(\"Here are your guesses\") \n",
        "  print(guess)"
      ],
      "execution_count": 3,
      "outputs": [
        {
          "output_type": "stream",
          "name": "stdout",
          "text": [
            "Enter a number between 1 and 100: 78\n",
            "Too high\n",
            "Enter a number between 1 and 100: 4\n",
            "Too low\n",
            "Enter a number between 1 and 100: 6\n",
            "Too low\n",
            "Enter a number between 1 and 100: 50\n",
            "Too high\n",
            "Enter a number between 1 and 100: 2\n",
            "Too low\n",
            "Enter a number between 1 and 100: 25\n",
            "Too low\n",
            "Enter a number between 1 and 100: 62\n",
            "Too high\n",
            "Enter a number between 1 and 100: 55\n",
            "Too high\n",
            "Enter a number between 1 and 100: 60\n",
            "Too high\n",
            "Enter a number between 1 and 100: 55\n",
            "Too high\n",
            "Enter a number between 1 and 100: 54\n",
            "Too high\n",
            "Enter a number between 1 and 100: 53\n",
            "Too high\n",
            "Enter a number between 1 and 100: 52\n",
            "Too high\n",
            "Enter a number between 1 and 100: 50\n",
            "Too high\n",
            "Enter a number between 1 and 100: 57\n",
            "Too high\n",
            "Enter a number between 1 and 100: 25\n",
            "Too low\n",
            "Enter a number between 1 and 100: 40\n",
            "Too low\n",
            "Enter a number between 1 and 100: 50\n",
            "Too high\n",
            "Enter a number between 1 and 100: 45\n",
            "Too high\n",
            "Enter a number between 1 and 100: 4\n",
            "Too low\n",
            "Enter a number between 1 and 100: 42\n",
            "Well Done!! \n",
            "You have taken 21 guesses\n",
            "Here are your guesses\n",
            "[78, 4, 6, 50, 2, 25, 62, 55, 60, 55, 54, 53, 52, 50, 57, 25, 40, 50, 45, 4, 42]\n"
          ]
        }
      ]
    },
    {
      "cell_type": "code",
      "metadata": {
        "id": "3rxDtHVPWxdn"
      },
      "source": [
        "0"
      ],
      "execution_count": null,
      "outputs": []
    },
    {
      "cell_type": "code",
      "metadata": {
        "id": "3seQGv2EWxa7"
      },
      "source": [
        ""
      ],
      "execution_count": null,
      "outputs": []
    }
  ]
}