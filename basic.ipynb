{
  "nbformat": 4,
  "nbformat_minor": 0,
  "metadata": {
    "colab": {
      "name": "basic.ipynb",
      "provenance": [],
      "authorship_tag": "ABX9TyPS7vc6ZjLzV2iYXzeASQGS",
      "include_colab_link": true
    },
    "kernelspec": {
      "name": "python3",
      "display_name": "Python 3"
    },
    "language_info": {
      "name": "python"
    }
  },
  "cells": [
    {
      "cell_type": "markdown",
      "metadata": {
        "id": "view-in-github",
        "colab_type": "text"
      },
      "source": [
        "<a href=\"https://colab.research.google.com/github/gokanb/python_basic/blob/main/basic.ipynb\" target=\"_parent\"><img src=\"https://colab.research.google.com/assets/colab-badge.svg\" alt=\"Open In Colab\"/></a>"
      ]
    },
    {
      "cell_type": "code",
      "metadata": {
        "colab": {
          "base_uri": "https://localhost:8080/"
        },
        "id": "Qg9X5g0zbNxt",
        "outputId": "fc2e299b-7edc-4cec-e889-67eb1190864b"
      },
      "source": [
        " print(\"Hello There\")\n",
        " #print command printing out"
      ],
      "execution_count": 2,
      "outputs": [
        {
          "output_type": "stream",
          "name": "stdout",
          "text": [
            "Hello There\n"
          ]
        }
      ]
    },
    {
      "cell_type": "code",
      "metadata": {
        "colab": {
          "base_uri": "https://localhost:8080/"
        },
        "id": "LagSuMYTkX_w",
        "outputId": "a699d186-af14-4cd1-95a0-dbd98434f204"
      },
      "source": [
        "print(12+3)\n",
        "#built in math "
      ],
      "execution_count": 3,
      "outputs": [
        {
          "output_type": "stream",
          "name": "stdout",
          "text": [
            "15\n"
          ]
        }
      ]
    },
    {
      "cell_type": "code",
      "metadata": {
        "colab": {
          "base_uri": "https://localhost:8080/"
        },
        "id": "CdKPVURpk6_j",
        "outputId": "a86f04ce-1dd5-489d-f8fe-9ef2abecfda3"
      },
      "source": [
        "print(\"I am learning Pyhton and it is alots of fun\")\n",
        "#string"
      ],
      "execution_count": 4,
      "outputs": [
        {
          "output_type": "stream",
          "name": "stdout",
          "text": [
            "I am learning Pyhton and it is alots of fun\n"
          ]
        }
      ]
    },
    {
      "cell_type": "code",
      "metadata": {
        "colab": {
          "base_uri": "https://localhost:8080/"
        },
        "id": "MNZpOH7plEdx",
        "outputId": "75c3b326-46c2-4265-dc4d-2ee764403e05"
      },
      "source": [
        "print(3*5)"
      ],
      "execution_count": 5,
      "outputs": [
        {
          "output_type": "stream",
          "name": "stdout",
          "text": [
            "15\n"
          ]
        }
      ]
    },
    {
      "cell_type": "code",
      "metadata": {
        "colab": {
          "base_uri": "https://localhost:8080/"
        },
        "id": "5zUTIa4ilHHR",
        "outputId": "75b3e43d-6125-4a03-aa9c-764f7707f70d"
      },
      "source": [
        "print(2**2)"
      ],
      "execution_count": 6,
      "outputs": [
        {
          "output_type": "stream",
          "name": "stdout",
          "text": [
            "4\n"
          ]
        }
      ]
    },
    {
      "cell_type": "code",
      "metadata": {
        "colab": {
          "base_uri": "https://localhost:8080/",
          "height": 37
        },
        "id": "tMcinOBilmxr",
        "outputId": "c5c23356-53cd-41bd-b855-10353446b8fe"
      },
      "source": [
        "#This is a comment\n",
        "\n",
        "\"\"\"\n",
        "This is a multi line comment\n",
        "it may take more than line\n",
        "and more \n",
        "\"\"\"\n"
      ],
      "execution_count": 7,
      "outputs": [
        {
          "output_type": "execute_result",
          "data": {
            "application/vnd.google.colaboratory.intrinsic+json": {
              "type": "string"
            },
            "text/plain": [
              "'\\nThis is a multi line comment\\nit may take more than line\\nand more \\n'"
            ]
          },
          "metadata": {},
          "execution_count": 7
        }
      ]
    },
    {
      "cell_type": "code",
      "metadata": {
        "colab": {
          "base_uri": "https://localhost:8080/"
        },
        "id": "DqPUHmADmVx7",
        "outputId": "0e3a6bd4-2885-4647-b372-4bdaf482d633"
      },
      "source": [
        "dir(print)"
      ],
      "execution_count": 9,
      "outputs": [
        {
          "output_type": "execute_result",
          "data": {
            "text/plain": [
              "['__call__',\n",
              " '__class__',\n",
              " '__delattr__',\n",
              " '__dir__',\n",
              " '__doc__',\n",
              " '__eq__',\n",
              " '__format__',\n",
              " '__ge__',\n",
              " '__getattribute__',\n",
              " '__gt__',\n",
              " '__hash__',\n",
              " '__init__',\n",
              " '__init_subclass__',\n",
              " '__le__',\n",
              " '__lt__',\n",
              " '__module__',\n",
              " '__name__',\n",
              " '__ne__',\n",
              " '__new__',\n",
              " '__qualname__',\n",
              " '__reduce__',\n",
              " '__reduce_ex__',\n",
              " '__repr__',\n",
              " '__self__',\n",
              " '__setattr__',\n",
              " '__sizeof__',\n",
              " '__str__',\n",
              " '__subclasshook__',\n",
              " '__text_signature__']"
            ]
          },
          "metadata": {},
          "execution_count": 9
        }
      ]
    },
    {
      "cell_type": "code",
      "metadata": {
        "id": "RAgyP2GWmkIW"
      },
      "source": [
        "number = 3\n",
        "#variable"
      ],
      "execution_count": 10,
      "outputs": []
    },
    {
      "cell_type": "code",
      "metadata": {
        "colab": {
          "base_uri": "https://localhost:8080/"
        },
        "id": "ruvCO-IGmvja",
        "outputId": "dafd7ded-62cb-42a8-b496-55275d5f5d12"
      },
      "source": [
        "number "
      ],
      "execution_count": 12,
      "outputs": [
        {
          "output_type": "execute_result",
          "data": {
            "text/plain": [
              "3"
            ]
          },
          "metadata": {},
          "execution_count": 12
        }
      ]
    },
    {
      "cell_type": "code",
      "metadata": {
        "colab": {
          "base_uri": "https://localhost:8080/"
        },
        "id": "MRMKWMbemx4k",
        "outputId": "4d5233c7-a109-4485-914c-667038ab37e9"
      },
      "source": [
        "number + 4 "
      ],
      "execution_count": 13,
      "outputs": [
        {
          "output_type": "execute_result",
          "data": {
            "text/plain": [
              "7"
            ]
          },
          "metadata": {},
          "execution_count": 13
        }
      ]
    },
    {
      "cell_type": "code",
      "metadata": {
        "id": "NIYb0JTjm06w"
      },
      "source": [
        "num1 = 3\n",
        "num2 = 5\n",
        "num3 = 8\n",
        "num4 = 6\n",
        "num5 = 7\n",
        "num6 = 180\n",
        "num7 = 90\n",
        "num8 = 77\n",
        "num9 = 12\n",
        "num10 = 2"
      ],
      "execution_count": 15,
      "outputs": []
    },
    {
      "cell_type": "code",
      "metadata": {
        "colab": {
          "base_uri": "https://localhost:8080/"
        },
        "id": "g-WTz4D3nYg5",
        "outputId": "f4d170dd-31f0-4ac7-e7e2-721311ac7672"
      },
      "source": [
        "num1 + num9"
      ],
      "execution_count": 16,
      "outputs": [
        {
          "output_type": "execute_result",
          "data": {
            "text/plain": [
              "15"
            ]
          },
          "metadata": {},
          "execution_count": 16
        }
      ]
    },
    {
      "cell_type": "code",
      "metadata": {
        "colab": {
          "base_uri": "https://localhost:8080/"
        },
        "id": "YfVaiiuGnrTF",
        "outputId": "cc60ecb0-f6fa-44aa-a509-83f6a5f90dff"
      },
      "source": [
        "num1/num2"
      ],
      "execution_count": 18,
      "outputs": [
        {
          "output_type": "execute_result",
          "data": {
            "text/plain": [
              "0.6"
            ]
          },
          "metadata": {},
          "execution_count": 18
        }
      ]
    },
    {
      "cell_type": "markdown",
      "metadata": {
        "id": "141j7V7Nnv-l"
      },
      "source": [
        "This is a text cell. "
      ]
    },
    {
      "cell_type": "markdown",
      "metadata": {
        "id": "srs4YxXOoUof"
      },
      "source": [
        "# This is a heading\n",
        "## This s a sub heading\n",
        "### This is a another sube heading\n",
        "#### This is another one"
      ]
    },
    {
      "cell_type": "code",
      "metadata": {
        "id": "LIo0_krWoW3j"
      },
      "source": [
        "car = 'Mercedes'\n",
        "#variable"
      ],
      "execution_count": 19,
      "outputs": []
    },
    {
      "cell_type": "code",
      "metadata": {
        "colab": {
          "base_uri": "https://localhost:8080/"
        },
        "id": "Z71-VvyzoW09",
        "outputId": "62610300-f5d6-4ac7-ea7a-bb5f5ef66cc5"
      },
      "source": [
        "print(car)"
      ],
      "execution_count": 20,
      "outputs": [
        {
          "output_type": "stream",
          "name": "stdout",
          "text": [
            "Mercedes\n"
          ]
        }
      ]
    },
    {
      "cell_type": "code",
      "metadata": {
        "colab": {
          "base_uri": "https://localhost:8080/"
        },
        "id": "Bc3Jku06oWyf",
        "outputId": "4145ebad-dd35-4fcb-a56d-ad458a233daf"
      },
      "source": [
        "type (car)"
      ],
      "execution_count": 22,
      "outputs": [
        {
          "output_type": "execute_result",
          "data": {
            "text/plain": [
              "str"
            ]
          },
          "metadata": {},
          "execution_count": 22
        }
      ]
    },
    {
      "cell_type": "code",
      "metadata": {
        "id": "miOmifcPoWmg"
      },
      "source": [
        "CAR = \"Audi\""
      ],
      "execution_count": 23,
      "outputs": []
    },
    {
      "cell_type": "code",
      "metadata": {
        "colab": {
          "base_uri": "https://localhost:8080/"
        },
        "id": "BLP0dVFip61i",
        "outputId": "b1855247-04ca-4dc5-be77-1df905295da2"
      },
      "source": [
        "print(CAR + ' ' + car)"
      ],
      "execution_count": 26,
      "outputs": [
        {
          "output_type": "stream",
          "name": "stdout",
          "text": [
            "Audi Mercedes\n"
          ]
        }
      ]
    },
    {
      "cell_type": "markdown",
      "metadata": {
        "id": "RXhWcd75p-af"
      },
      "source": [
        "#String"
      ]
    },
    {
      "cell_type": "markdown",
      "metadata": {
        "id": "AI0C7Ub2qL6P"
      },
      "source": [
        "## Concatination "
      ]
    },
    {
      "cell_type": "code",
      "metadata": {
        "id": "9flFyBQQqYr-"
      },
      "source": [
        "greeting = \"Hi There \"\n",
        "name = \" Gokan, \"\n",
        "comment = \" I hope you are having a good day.\"\n",
        "congrat = \" Congratulations your new journey.\""
      ],
      "execution_count": 56,
      "outputs": []
    },
    {
      "cell_type": "code",
      "metadata": {
        "colab": {
          "base_uri": "https://localhost:8080/"
        },
        "id": "GL6A_iMjqYnA",
        "outputId": "3eebeed4-8939-49c1-bf62-1e49c2b159da"
      },
      "source": [
        "print(greeting + ' ' + name , ' ' + comment + ' ' + congrat)"
      ],
      "execution_count": 57,
      "outputs": [
        {
          "output_type": "stream",
          "name": "stdout",
          "text": [
            "Hi There   Gokan,    I hope you are having a good day.  Congratulations your new journey.\n"
          ]
        }
      ]
    },
    {
      "cell_type": "code",
      "metadata": {
        "id": "mHiuK8x0qYje"
      },
      "source": [
        "import this"
      ],
      "execution_count": 58,
      "outputs": []
    },
    {
      "cell_type": "code",
      "metadata": {
        "colab": {
          "base_uri": "https://localhost:8080/"
        },
        "id": "CKqzkK0yqYSW",
        "outputId": "81ed8d3c-1856-4210-c2f4-67d1148d7916"
      },
      "source": [
        "name = input(\"What is your name?\")\n",
        "print(greeting + name)"
      ],
      "execution_count": 59,
      "outputs": [
        {
          "output_type": "stream",
          "name": "stdout",
          "text": [
            "What is your name?Gokan\n",
            "Hi There Gokan\n"
          ]
        }
      ]
    },
    {
      "cell_type": "code",
      "metadata": {
        "colab": {
          "base_uri": "https://localhost:8080/",
          "height": 37
        },
        "id": "if1zrPVSxaPL",
        "outputId": "aa270b33-2612-42d8-e812-73faa42d1c3e"
      },
      "source": [
        "greeting"
      ],
      "execution_count": 60,
      "outputs": [
        {
          "output_type": "execute_result",
          "data": {
            "application/vnd.google.colaboratory.intrinsic+json": {
              "type": "string"
            },
            "text/plain": [
              "'Hi There '"
            ]
          },
          "metadata": {},
          "execution_count": 60
        }
      ]
    },
    {
      "cell_type": "code",
      "metadata": {
        "colab": {
          "base_uri": "https://localhost:8080/",
          "height": 37
        },
        "id": "SZOZ_jOz2bXy",
        "outputId": "7bc7996f-acdd-45b3-db93-2e70133f4f0c"
      },
      "source": [
        "greeting[0]"
      ],
      "execution_count": 61,
      "outputs": [
        {
          "output_type": "execute_result",
          "data": {
            "application/vnd.google.colaboratory.intrinsic+json": {
              "type": "string"
            },
            "text/plain": [
              "'H'"
            ]
          },
          "metadata": {},
          "execution_count": 61
        }
      ]
    },
    {
      "cell_type": "code",
      "metadata": {
        "colab": {
          "base_uri": "https://localhost:8080/",
          "height": 37
        },
        "id": "JizvWSaT2oO7",
        "outputId": "a620de82-7d60-4b45-dab4-6dab7c9837e6"
      },
      "source": [
        "name[3]"
      ],
      "execution_count": 62,
      "outputs": [
        {
          "output_type": "execute_result",
          "data": {
            "application/vnd.google.colaboratory.intrinsic+json": {
              "type": "string"
            },
            "text/plain": [
              "'a'"
            ]
          },
          "metadata": {},
          "execution_count": 62
        }
      ]
    },
    {
      "cell_type": "code",
      "metadata": {
        "colab": {
          "base_uri": "https://localhost:8080/",
          "height": 37
        },
        "id": "IDVgos9q2_43",
        "outputId": "12bbfe0b-51b6-4597-d8d8-2b015c4a4a92"
      },
      "source": [
        "greeting "
      ],
      "execution_count": 63,
      "outputs": [
        {
          "output_type": "execute_result",
          "data": {
            "application/vnd.google.colaboratory.intrinsic+json": {
              "type": "string"
            },
            "text/plain": [
              "'Hi There '"
            ]
          },
          "metadata": {},
          "execution_count": 63
        }
      ]
    },
    {
      "cell_type": "code",
      "metadata": {
        "colab": {
          "base_uri": "https://localhost:8080/",
          "height": 37
        },
        "id": "ejYvZ50X3RSb",
        "outputId": "3dfc0959-d722-4559-965f-9dcac189b389"
      },
      "source": [
        "greeting [2:5]"
      ],
      "execution_count": 65,
      "outputs": [
        {
          "output_type": "execute_result",
          "data": {
            "application/vnd.google.colaboratory.intrinsic+json": {
              "type": "string"
            },
            "text/plain": [
              "' Th'"
            ]
          },
          "metadata": {},
          "execution_count": 65
        }
      ]
    },
    {
      "cell_type": "code",
      "metadata": {
        "colab": {
          "base_uri": "https://localhost:8080/",
          "height": 37
        },
        "id": "HYYoSegF3qwq",
        "outputId": "a2326c7b-d00f-49ba-c7ec-6682e5f13f38"
      },
      "source": [
        "greeting"
      ],
      "execution_count": 66,
      "outputs": [
        {
          "output_type": "execute_result",
          "data": {
            "application/vnd.google.colaboratory.intrinsic+json": {
              "type": "string"
            },
            "text/plain": [
              "'Hi There '"
            ]
          },
          "metadata": {},
          "execution_count": 66
        }
      ]
    },
    {
      "cell_type": "code",
      "metadata": {
        "colab": {
          "base_uri": "https://localhost:8080/",
          "height": 37
        },
        "id": "B6zaI_E43uH_",
        "outputId": "b38a6a33-906b-411b-b871-4ce35d84e203"
      },
      "source": [
        "greeting[-6:-1]"
      ],
      "execution_count": 67,
      "outputs": [
        {
          "output_type": "execute_result",
          "data": {
            "application/vnd.google.colaboratory.intrinsic+json": {
              "type": "string"
            },
            "text/plain": [
              "'There'"
            ]
          },
          "metadata": {},
          "execution_count": 67
        }
      ]
    },
    {
      "cell_type": "code",
      "metadata": {
        "id": "djLTverE3w5T"
      },
      "source": [
        "fruits = [ 'apple', 'cherry', ' banana', 'mango' , 'pineapple ']"
      ],
      "execution_count": 68,
      "outputs": []
    },
    {
      "cell_type": "code",
      "metadata": {
        "colab": {
          "base_uri": "https://localhost:8080/",
          "height": 37
        },
        "id": "sApYpInt4y_P",
        "outputId": "f096758d-e66d-4df9-f140-43bd8cac98e3"
      },
      "source": [
        "fruits[1]"
      ],
      "execution_count": 69,
      "outputs": [
        {
          "output_type": "execute_result",
          "data": {
            "application/vnd.google.colaboratory.intrinsic+json": {
              "type": "string"
            },
            "text/plain": [
              "'cherry'"
            ]
          },
          "metadata": {},
          "execution_count": 69
        }
      ]
    },
    {
      "cell_type": "code",
      "metadata": {
        "id": "KKt1Kwxc41wm"
      },
      "source": [
        "fruits[ 1 ] = 'avacado'\n",
        "#adding to list location 1"
      ],
      "execution_count": 70,
      "outputs": []
    },
    {
      "cell_type": "code",
      "metadata": {
        "colab": {
          "base_uri": "https://localhost:8080/"
        },
        "id": "FpXZXPQT4_xo",
        "outputId": "7cdd5ceb-6394-422b-895b-b1e0fd7e1843"
      },
      "source": [
        "fruits"
      ],
      "execution_count": 71,
      "outputs": [
        {
          "output_type": "execute_result",
          "data": {
            "text/plain": [
              "['apple', 'avacado', ' banana', 'mango', 'pineapple ']"
            ]
          },
          "metadata": {},
          "execution_count": 71
        }
      ]
    },
    {
      "cell_type": "code",
      "metadata": {
        "id": "XaSc8jbW5BDL"
      },
      "source": [
        "fruits[3] = 5 \n",
        "#adding more stuff"
      ],
      "execution_count": 72,
      "outputs": []
    },
    {
      "cell_type": "code",
      "metadata": {
        "colab": {
          "base_uri": "https://localhost:8080/"
        },
        "id": "bNzkE5AZ50nb",
        "outputId": "3710c0bb-d21a-4cdb-9adf-9d2c19889103"
      },
      "source": [
        "fruits"
      ],
      "execution_count": 73,
      "outputs": [
        {
          "output_type": "execute_result",
          "data": {
            "text/plain": [
              "['apple', 'avacado', ' banana', 5, 'pineapple ']"
            ]
          },
          "metadata": {},
          "execution_count": 73
        }
      ]
    },
    {
      "cell_type": "code",
      "metadata": {
        "id": "F4Xlcpnh51jr"
      },
      "source": [
        "fruits.append(\"plum\")\n",
        "#another way to add stuff"
      ],
      "execution_count": 74,
      "outputs": []
    },
    {
      "cell_type": "code",
      "metadata": {
        "colab": {
          "base_uri": "https://localhost:8080/"
        },
        "id": "Uzx1oH3C6Jfe",
        "outputId": "ef975501-fc8b-4c1f-9891-1bce1942862c"
      },
      "source": [
        "fruits"
      ],
      "execution_count": 75,
      "outputs": [
        {
          "output_type": "execute_result",
          "data": {
            "text/plain": [
              "['apple', 'avacado', ' banana', 5, 'pineapple ', 'plum']"
            ]
          },
          "metadata": {},
          "execution_count": 75
        }
      ]
    },
    {
      "cell_type": "code",
      "metadata": {
        "colab": {
          "base_uri": "https://localhost:8080/"
        },
        "id": "BqBpWzsN6OUW",
        "outputId": "3e983de8-cf94-45b2-a732-9e78c02e9b32"
      },
      "source": [
        "type(fruits)\n",
        "#looking for what kind of"
      ],
      "execution_count": 77,
      "outputs": [
        {
          "output_type": "execute_result",
          "data": {
            "text/plain": [
              "list"
            ]
          },
          "metadata": {},
          "execution_count": 77
        }
      ]
    },
    {
      "cell_type": "code",
      "metadata": {
        "id": "hjjZD_om6Yyr"
      },
      "source": [
        "obj = [23, \"this \", [12, 34]]\n",
        "#list inside of list"
      ],
      "execution_count": 81,
      "outputs": []
    },
    {
      "cell_type": "code",
      "metadata": {
        "id": "_g02kbtc6wkh"
      },
      "source": [
        "fruits[4] = obj\n",
        "#adding list to inside of list fourt place."
      ],
      "execution_count": 79,
      "outputs": []
    },
    {
      "cell_type": "code",
      "metadata": {
        "colab": {
          "base_uri": "https://localhost:8080/"
        },
        "id": "bNs_csPV60GJ",
        "outputId": "d5bbf504-a420-47cb-a107-694aafcbc166"
      },
      "source": [
        "fruits"
      ],
      "execution_count": 80,
      "outputs": [
        {
          "output_type": "execute_result",
          "data": {
            "text/plain": [
              "['apple', 'avacado', ' banana', 5, [23, 'this ', [12, 34]], 'plum']"
            ]
          },
          "metadata": {},
          "execution_count": 80
        }
      ]
    },
    {
      "cell_type": "code",
      "metadata": {
        "colab": {
          "base_uri": "https://localhost:8080/"
        },
        "id": "CuZMJ4d_-22S",
        "outputId": "3dbb43a4-2107-4e79-ae9d-8512d32a2ef2"
      },
      "source": [
        "name = 'Gokan'\n",
        "print('I am ' + name)\n",
        "#i am using the print statement Concatination with variable"
      ],
      "execution_count": 86,
      "outputs": [
        {
          "output_type": "stream",
          "name": "stdout",
          "text": [
            "I am The Pope\n"
          ]
        }
      ]
    },
    {
      "cell_type": "code",
      "metadata": {
        "id": "0sjqlzvb-2vG"
      },
      "source": [
        ""
      ],
      "execution_count": null,
      "outputs": []
    },
    {
      "cell_type": "code",
      "metadata": {
        "id": "pue33BrP-2pp"
      },
      "source": [
        ""
      ],
      "execution_count": null,
      "outputs": []
    },
    {
      "cell_type": "code",
      "metadata": {
        "colab": {
          "base_uri": "https://localhost:8080/"
        },
        "id": "0xFV4nhv-2j7",
        "outputId": "621ec3f1-9da5-4f6d-81f6-ef62e5593e30"
      },
      "source": [
        "print(\"The colors are {} {} {}\".format(\"Red\", \"Green\", \"Yellow\"))\n",
        "#string formatting"
      ],
      "execution_count": 88,
      "outputs": [
        {
          "output_type": "stream",
          "name": "stdout",
          "text": [
            "The colors are Red Green Yellow\n"
          ]
        }
      ]
    },
    {
      "cell_type": "code",
      "metadata": {
        "colab": {
          "base_uri": "https://localhost:8080/"
        },
        "id": "rq2K8uFY-2eI",
        "outputId": "827e61ef-1e55-49d4-ac9f-e026e8603189"
      },
      "source": [
        "print(\"The colors are {0} {1} {2}\".format(\"Red\", \"Green\", \"Yellow\"))"
      ],
      "execution_count": 89,
      "outputs": [
        {
          "output_type": "stream",
          "name": "stdout",
          "text": [
            "The colors are Red Green Yellow\n"
          ]
        }
      ]
    },
    {
      "cell_type": "code",
      "metadata": {
        "colab": {
          "base_uri": "https://localhost:8080/"
        },
        "id": "5XIK9af3-2YP",
        "outputId": "73a317ca-d731-4dbc-db50-5e83b929aa3d"
      },
      "source": [
        "print(\"The colors are {1} {1} {1}\".format(\"Red\", \"Green\", \"Yellow\"))"
      ],
      "execution_count": 90,
      "outputs": [
        {
          "output_type": "stream",
          "name": "stdout",
          "text": [
            "The colors are Green Green Green\n"
          ]
        }
      ]
    },
    {
      "cell_type": "code",
      "metadata": {
        "colab": {
          "base_uri": "https://localhost:8080/"
        },
        "id": "EEHF0YyO-2S2",
        "outputId": "2f056de0-1ccd-4316-e381-b97282ca6537"
      },
      "source": [
        "print(\"The colors are {r} {g} {y}\".format(r=\"Red\", g=\"Green\", y=\"Yellow\"))"
      ],
      "execution_count": 91,
      "outputs": [
        {
          "output_type": "stream",
          "name": "stdout",
          "text": [
            "The colors are Red Green Yellow\n"
          ]
        }
      ]
    },
    {
      "cell_type": "code",
      "metadata": {
        "colab": {
          "base_uri": "https://localhost:8080/"
        },
        "id": "igUSlo5r-2Nb",
        "outputId": "e7cbe470-3f10-48cc-8f9b-44b31a445176"
      },
      "source": [
        "print(\"The colors are {r} {r} {r}\".format(r=\"Red\", g=\"Green\", y=\"Yellow\"))"
      ],
      "execution_count": 92,
      "outputs": [
        {
          "output_type": "stream",
          "name": "stdout",
          "text": [
            "The colors are Red Red Red\n"
          ]
        }
      ]
    },
    {
      "cell_type": "code",
      "metadata": {
        "id": "Bz9RiKvQ-2H3"
      },
      "source": [
        "r=\"Red\"\n",
        "g=\"Green\"\n",
        "y=\"Yellow\""
      ],
      "execution_count": 93,
      "outputs": []
    },
    {
      "cell_type": "code",
      "metadata": {
        "colab": {
          "base_uri": "https://localhost:8080/"
        },
        "id": "DH6TC5Ql-2Ca",
        "outputId": "c74659a6-e606-4a74-ed70-40660c3b91b5"
      },
      "source": [
        "print(f\"The colors are {r} {g} {y}\")\n",
        "#f formating needs action between parentheses "
      ],
      "execution_count": 94,
      "outputs": [
        {
          "output_type": "stream",
          "name": "stdout",
          "text": [
            "The colors are Red Green Yellow\n"
          ]
        }
      ]
    },
    {
      "cell_type": "code",
      "metadata": {
        "id": "LAy97gd1TdFq"
      },
      "source": [
        ""
      ],
      "execution_count": null,
      "outputs": []
    },
    {
      "cell_type": "code",
      "metadata": {
        "id": "Aq9q1ZMYTc_l"
      },
      "source": [
        ""
      ],
      "execution_count": null,
      "outputs": []
    },
    {
      "cell_type": "code",
      "metadata": {
        "id": "U1OeyrD6Tc5Q"
      },
      "source": [
        ""
      ],
      "execution_count": null,
      "outputs": []
    },
    {
      "cell_type": "code",
      "metadata": {
        "id": "IhERYcoNTcym"
      },
      "source": [
        ""
      ],
      "execution_count": null,
      "outputs": []
    },
    {
      "cell_type": "code",
      "metadata": {
        "id": "clKY3xC0TcsH"
      },
      "source": [
        ""
      ],
      "execution_count": null,
      "outputs": []
    }
  ]
}