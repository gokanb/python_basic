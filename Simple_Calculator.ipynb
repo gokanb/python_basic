{
  "nbformat": 4,
  "nbformat_minor": 0,
  "metadata": {
    "colab": {
      "name": "Simple Calculator.ipynb",
      "provenance": [],
      "authorship_tag": "ABX9TyP2qyL9No01vgouVlrC8Yqu",
      "include_colab_link": true
    },
    "kernelspec": {
      "name": "python3",
      "display_name": "Python 3"
    },
    "language_info": {
      "name": "python"
    }
  },
  "cells": [
    {
      "cell_type": "markdown",
      "metadata": {
        "id": "view-in-github",
        "colab_type": "text"
      },
      "source": [
        "<a href=\"https://colab.research.google.com/github/gokanb/python_basic/blob/main/Simple_Calculator.ipynb\" target=\"_parent\"><img src=\"https://colab.research.google.com/assets/colab-badge.svg\" alt=\"Open In Colab\"/></a>"
      ]
    },
    {
      "cell_type": "markdown",
      "metadata": {
        "id": "TR2kmHHIbCoj"
      },
      "source": [
        "# Simple Calculator"
      ]
    },
    {
      "cell_type": "code",
      "metadata": {
        "id": "FyscUdHIbKcU"
      },
      "source": [
        "def add(x, y,):\n",
        "  return x + y"
      ],
      "execution_count": 1,
      "outputs": []
    },
    {
      "cell_type": "code",
      "metadata": {
        "id": "Y1WiK6Q0bWG3"
      },
      "source": [
        "def substract(x, y):\n",
        "  return x - y"
      ],
      "execution_count": 2,
      "outputs": []
    },
    {
      "cell_type": "code",
      "metadata": {
        "id": "DW_IOHv6bd-Y"
      },
      "source": [
        "def multiply(x, y):\n",
        "  return x * y"
      ],
      "execution_count": 6,
      "outputs": []
    },
    {
      "cell_type": "code",
      "metadata": {
        "id": "WmAVv_3ibk-N"
      },
      "source": [
        "def divide(x, y):\n",
        "  return x / y"
      ],
      "execution_count": 4,
      "outputs": []
    },
    {
      "cell_type": "code",
      "metadata": {
        "colab": {
          "base_uri": "https://localhost:8080/"
        },
        "id": "78SCl15gbutI",
        "outputId": "62922e92-e6c2-41ea-9104-b6243976ecbc"
      },
      "source": [
        "# Take input from a user\n",
        "\n",
        "print('Select an operation ')\n",
        "print('1 - Addition' )\n",
        "print('2 - Subtraction' )\n",
        "print('3 - Multiplication ')\n",
        "print('4 - Division' )\n",
        "\n",
        "choice = input(\"Enter a choice (1/2/3/4): \")\n",
        "\n",
        "num1 = int(input(\"Enter the first number: \"))\n",
        "num2 = int(input(\"Enter the second number: \"))\n",
        "\n",
        "if choice == \"1\":\n",
        "  print(num1, \"+\", num2, \"=\", add(num1, num2))\n",
        "\n",
        "elif choice == \"2\":\n",
        "  print(num1, \"-\", num2, \"=\", substract(num1, num2))\n",
        "\n",
        "elif choice == \"3\":\n",
        "  print(num1, \"*\", num2, \"=\", multiply(num1, num2))\n",
        "\n",
        "\n",
        "elif choice == \"4\":\n",
        "  print(num1, \"/\", num2, \"=\", divide(num1, num2))  \n",
        "\n",
        "else:\n",
        "  print('Invalid input')"
      ],
      "execution_count": 11,
      "outputs": [
        {
          "output_type": "stream",
          "name": "stdout",
          "text": [
            "Select an operation \n",
            "1 - Addition\n",
            "2 - Subtraction\n",
            "3 - Multiplication \n",
            "4 - Division\n",
            "Enter a choice (1/2/3/4): 1\n",
            "Enter the first number: 38\n",
            "Enter the second number: 2\n",
            "38 + 2 = 40\n"
          ]
        }
      ]
    },
    {
      "cell_type": "code",
      "metadata": {
        "id": "Vxl7p0nQduTH"
      },
      "source": [
        ""
      ],
      "execution_count": null,
      "outputs": []
    }
  ]
}