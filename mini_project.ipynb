{
  "nbformat": 4,
  "nbformat_minor": 0,
  "metadata": {
    "colab": {
      "name": "mini project.ipynb",
      "provenance": [],
      "authorship_tag": "ABX9TyN6hC3KPmXD5d0W9207YF5L",
      "include_colab_link": true
    },
    "kernelspec": {
      "name": "python3",
      "display_name": "Python 3"
    },
    "language_info": {
      "name": "python"
    }
  },
  "cells": [
    {
      "cell_type": "markdown",
      "metadata": {
        "id": "view-in-github",
        "colab_type": "text"
      },
      "source": [
        "<a href=\"https://colab.research.google.com/github/gokanb/python_basic/blob/main/mini_project.ipynb\" target=\"_parent\"><img src=\"https://colab.research.google.com/assets/colab-badge.svg\" alt=\"Open In Colab\"/></a>"
      ]
    },
    {
      "cell_type": "markdown",
      "metadata": {
        "id": "e36jmT356u4H"
      },
      "source": [
        "# Number Comvertion"
      ]
    },
    {
      "cell_type": "code",
      "metadata": {
        "id": "7tiaYPty32XH"
      },
      "source": [
        "num = 765"
      ],
      "execution_count": 5,
      "outputs": []
    },
    {
      "cell_type": "code",
      "metadata": {
        "id": "9SpYuk5z364a"
      },
      "source": [
        "conv = oct(num)"
      ],
      "execution_count": 7,
      "outputs": []
    },
    {
      "cell_type": "code",
      "metadata": {
        "colab": {
          "base_uri": "https://localhost:8080/"
        },
        "id": "-Cn8qdj-3612",
        "outputId": "d52d90bb-5da7-4d97-8fa2-9fe859bcf80e"
      },
      "source": [
        "print(f\"The number {num} in Octal form is {conv} \")"
      ],
      "execution_count": 9,
      "outputs": [
        {
          "output_type": "stream",
          "name": "stdout",
          "text": [
            "The number 765 in Octal form is 0o1375 \n"
          ]
        }
      ]
    },
    {
      "cell_type": "code",
      "metadata": {
        "colab": {
          "base_uri": "https://localhost:8080/"
        },
        "id": "yKgsbuAZ36zQ",
        "outputId": "f502ef55-6595-4691-f108-0d07d615e496"
      },
      "source": [
        "num = int(input(\"Enter a number \"))\n",
        "conv = oct(num) \n",
        "print(f\"The number {num} in Octal form is {conv} \")"
      ],
      "execution_count": 12,
      "outputs": [
        {
          "output_type": "stream",
          "name": "stdout",
          "text": [
            "Enter a number: 765\n",
            "The number 765 in Octal form is 0o1375 \n"
          ]
        }
      ]
    },
    {
      "cell_type": "code",
      "metadata": {
        "colab": {
          "base_uri": "https://localhost:8080/"
        },
        "id": "gS-gcQLh36wa",
        "outputId": "59d87888-d064-47cf-b536-e011f76a44c5"
      },
      "source": [
        "num = 765\n",
        "conv2 = hex(num)\n",
        "print(f\"The number {num} in Hexadecimal form is {conv2} \")"
      ],
      "execution_count": 14,
      "outputs": [
        {
          "output_type": "stream",
          "name": "stdout",
          "text": [
            "The number 765 in Hexadecimal form is 0x2fd \n"
          ]
        }
      ]
    },
    {
      "cell_type": "code",
      "metadata": {
        "id": "bLAB-hfa36t-"
      },
      "source": [
        ""
      ],
      "execution_count": null,
      "outputs": []
    },
    {
      "cell_type": "code",
      "metadata": {
        "colab": {
          "base_uri": "https://localhost:8080/"
        },
        "id": "-LKkxr5c6-nR",
        "outputId": "8f755b15-f6ca-4289-f345-9d187c76f568"
      },
      "source": [
        "num = int(input(\"Enter a number \"))\n",
        "conv = oct(num)\n",
        "conv2 = hex(num) \n",
        "print(f\"The number {num} in Octal form is {conv} \")\n",
        "print(f\"The number {num} in Hexadecimal form is {conv2} \")"
      ],
      "execution_count": 16,
      "outputs": [
        {
          "output_type": "stream",
          "name": "stdout",
          "text": [
            "Enter a number 312312\n",
            "The number 312312 in Octal form is 0o1141770 \n",
            "The number 312312 in Hexadecimal form is 0x4c3f8 \n"
          ]
        }
      ]
    },
    {
      "cell_type": "code",
      "metadata": {
        "id": "Hu_mCS_e6-ju"
      },
      "source": [
        ""
      ],
      "execution_count": null,
      "outputs": []
    },
    {
      "cell_type": "code",
      "metadata": {
        "colab": {
          "base_uri": "https://localhost:8080/"
        },
        "id": "C_P9BmnX36rc",
        "outputId": "7deb6a2f-af74-415b-888a-7807a9524c41"
      },
      "source": [
        "num = int(input(\"Enter a number \"))\n",
        "conv = oct(num)\n",
        "conv2 = hex(num) \n",
        "conv3 = bin(num)\n",
        "print(f\"The number {num} in Octal form is {conv} \")\n",
        "print(f\"The number {num} in Hexadecimal form is {conv2} \")\n",
        "print(f\"The number {num} in Binary form is {conv3} \")"
      ],
      "execution_count": 17,
      "outputs": [
        {
          "output_type": "stream",
          "name": "stdout",
          "text": [
            "Enter a number 8765\n",
            "The number 8765 in Octal form is 0o21075 \n",
            "The number 8765 in Hexadecimal form is 0x223d \n",
            "The number 8765 in Binary form is 0b10001000111101 \n"
          ]
        }
      ]
    },
    {
      "cell_type": "code",
      "metadata": {
        "id": "I4wp_a0n36oz"
      },
      "source": [
        ""
      ],
      "execution_count": 17,
      "outputs": []
    },
    {
      "cell_type": "code",
      "metadata": {
        "id": "BJRA2a3b36l9"
      },
      "source": [
        ""
      ],
      "execution_count": null,
      "outputs": []
    },
    {
      "cell_type": "code",
      "metadata": {
        "id": "PCKKxRIm36jU"
      },
      "source": [
        ""
      ],
      "execution_count": null,
      "outputs": []
    }
  ]
}