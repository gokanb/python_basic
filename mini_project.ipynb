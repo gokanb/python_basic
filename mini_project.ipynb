{
  "nbformat": 4,
  "nbformat_minor": 0,
  "metadata": {
    "colab": {
      "name": "mini project.ipynb",
      "provenance": [],
      "authorship_tag": "ABX9TyMstHQASIrfORwwHxNvkG88",
      "include_colab_link": true
    },
    "kernelspec": {
      "name": "python3",
      "display_name": "Python 3"
    },
    "language_info": {
      "name": "python"
    }
  },
  "cells": [
    {
      "cell_type": "markdown",
      "metadata": {
        "id": "view-in-github",
        "colab_type": "text"
      },
      "source": [
        "<a href=\"https://colab.research.google.com/github/gokanb/python_basic/blob/main/mini_project.ipynb\" target=\"_parent\"><img src=\"https://colab.research.google.com/assets/colab-badge.svg\" alt=\"Open In Colab\"/></a>"
      ]
    },
    {
      "cell_type": "markdown",
      "metadata": {
        "id": "e36jmT356u4H"
      },
      "source": [
        "# Number Comvertion"
      ]
    },
    {
      "cell_type": "code",
      "metadata": {
        "colab": {
          "base_uri": "https://localhost:8080/"
        },
        "id": "-Cn8qdj-3612",
        "outputId": "e701d876-caf0-4947-e9c9-fc1a2b1d4449"
      },
      "source": [
        "num = 765\n",
        "conv = oct(num)\n",
        "print(f\"The number {num} in Octal form is {conv} \")"
      ],
      "execution_count": 18,
      "outputs": [
        {
          "output_type": "stream",
          "name": "stdout",
          "text": [
            "The number 765 in Octal form is 0o1375 \n"
          ]
        }
      ]
    },
    {
      "cell_type": "code",
      "metadata": {
        "colab": {
          "base_uri": "https://localhost:8080/"
        },
        "id": "yKgsbuAZ36zQ",
        "outputId": "8207cf59-6739-46c2-9d38-e493b8795366"
      },
      "source": [
        "num = int(input(\"Enter a number \"))\n",
        "conv = oct(num) \n",
        "print(f\"The number {num} in Octal form is {conv} \")"
      ],
      "execution_count": 20,
      "outputs": [
        {
          "output_type": "stream",
          "name": "stdout",
          "text": [
            "Enter a number 786767\n",
            "The number 786767 in Octal form is 0o3000517 \n"
          ]
        }
      ]
    },
    {
      "cell_type": "code",
      "metadata": {
        "colab": {
          "base_uri": "https://localhost:8080/"
        },
        "id": "gS-gcQLh36wa",
        "outputId": "edf6d15a-bdc2-4ab1-e615-9161e5d97a71"
      },
      "source": [
        "num = 765\n",
        "conv2 = hex(num)\n",
        "print(f\"The number {num} in Hexadecimal form is {conv2} \")"
      ],
      "execution_count": 21,
      "outputs": [
        {
          "output_type": "stream",
          "name": "stdout",
          "text": [
            "The number 765 in Hexadecimal form is 0x2fd \n"
          ]
        }
      ]
    },
    {
      "cell_type": "code",
      "metadata": {
        "colab": {
          "base_uri": "https://localhost:8080/"
        },
        "id": "-LKkxr5c6-nR",
        "outputId": "8745cd59-2723-4aec-83f8-bfa581b70579"
      },
      "source": [
        "num = int(input(\"Enter a number \"))\n",
        "conv = oct(num)\n",
        "conv2 = hex(num) \n",
        "print(f\"The number {num} in Octal form is {conv} \")\n",
        "print(f\"The number {num} in Hexadecimal form is {conv2} \")"
      ],
      "execution_count": 22,
      "outputs": [
        {
          "output_type": "stream",
          "name": "stdout",
          "text": [
            "Enter a number 78907896806\n",
            "The number 78907896806 in Octal form is 0o1113721571746 \n",
            "The number 78907896806 in Hexadecimal form is 0x125f46f3e6 \n"
          ]
        }
      ]
    },
    {
      "cell_type": "code",
      "metadata": {
        "colab": {
          "base_uri": "https://localhost:8080/"
        },
        "id": "C_P9BmnX36rc",
        "outputId": "05e1322f-9646-43a8-91e9-19a1a46011c2"
      },
      "source": [
        "num = int(input(\"Enter a number \"))\n",
        "conv = oct(num)\n",
        "conv2 = hex(num) \n",
        "conv3 = bin(num)\n",
        "print(f\"The number {num} in Octal form is {conv} \")\n",
        "print(f\"The number {num} in Hexadecimal form is {conv2} \")\n",
        "print(f\"The number {num} in Binary form is {conv3} \")"
      ],
      "execution_count": 23,
      "outputs": [
        {
          "output_type": "stream",
          "name": "stdout",
          "text": [
            "Enter a number 897900987609\n",
            "The number 897900987609 in Octal form is 0o15041704342331 \n",
            "The number 897900987609 in Hexadecimal form is 0xd10f11c4d9 \n",
            "The number 897900987609 in Binary form is 0b1101000100001111000100011100010011011001 \n"
          ]
        }
      ]
    },
    {
      "cell_type": "code",
      "metadata": {
        "id": "I4wp_a0n36oz"
      },
      "source": [
        ""
      ],
      "execution_count": null,
      "outputs": []
    },
    {
      "cell_type": "code",
      "metadata": {
        "colab": {
          "base_uri": "https://localhost:8080/"
        },
        "id": "BJRA2a3b36l9",
        "outputId": "e81b9475-32df-4d73-9363-e598c5938d14"
      },
      "source": [
        "num = int(input(\"Enter a number \"))\n",
        "# conv = oct(num)\n",
        "# conv2 = hex(num) \n",
        "# conv3 = bin(num)\n",
        "print(f\"The number {num} in Octal form is {oct(num)} \")\n",
        "print(f\"The number {num} in Hexadecimal form is {hex(num)} \")\n",
        "print(f\"The number {num} in Binary form is {bin(num)} \")"
      ],
      "execution_count": 24,
      "outputs": [
        {
          "output_type": "stream",
          "name": "stdout",
          "text": [
            "Enter a number 987096889\n",
            "The number 987096889 in Octal form is 0o7265363471 \n",
            "The number 987096889 in Hexadecimal form is 0x3ad5e739 \n",
            "The number 987096889 in Binary form is 0b111010110101011110011100111001 \n"
          ]
        }
      ]
    },
    {
      "cell_type": "code",
      "metadata": {
        "id": "GqsLmHZ28BSp"
      },
      "source": [
        ""
      ],
      "execution_count": null,
      "outputs": []
    },
    {
      "cell_type": "code",
      "metadata": {
        "id": "4hVfdBsa8BOk"
      },
      "source": [
        ""
      ],
      "execution_count": null,
      "outputs": []
    },
    {
      "cell_type": "code",
      "metadata": {
        "id": "agydD0m78BKr"
      },
      "source": [
        ""
      ],
      "execution_count": null,
      "outputs": []
    },
    {
      "cell_type": "code",
      "metadata": {
        "id": "1IiLHjgf8BHO"
      },
      "source": [
        ""
      ],
      "execution_count": null,
      "outputs": []
    },
    {
      "cell_type": "code",
      "metadata": {
        "id": "PCKKxRIm36jU"
      },
      "source": [
        ""
      ],
      "execution_count": null,
      "outputs": []
    }
  ]
}