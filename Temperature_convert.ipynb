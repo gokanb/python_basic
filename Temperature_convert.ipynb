{
  "nbformat": 4,
  "nbformat_minor": 0,
  "metadata": {
    "colab": {
      "name": "Temperature convert.ipynb",
      "provenance": [],
      "collapsed_sections": [],
      "authorship_tag": "ABX9TyNz6Uu5OKyjRo/9KZknJurU",
      "include_colab_link": true
    },
    "kernelspec": {
      "name": "python3",
      "display_name": "Python 3"
    },
    "language_info": {
      "name": "python"
    }
  },
  "cells": [
    {
      "cell_type": "markdown",
      "metadata": {
        "id": "view-in-github",
        "colab_type": "text"
      },
      "source": [
        "<a href=\"https://colab.research.google.com/github/gokanb/python_basic/blob/main/Temperature_convert.ipynb\" target=\"_parent\"><img src=\"https://colab.research.google.com/assets/colab-badge.svg\" alt=\"Open In Colab\"/></a>"
      ]
    },
    {
      "cell_type": "markdown",
      "metadata": {
        "id": "4Kb9ExG1ck35"
      },
      "source": [
        "#Mini Warmup Project\n",
        "##Create a temperature convertion application\n",
        "\n",
        "###The application should ask the user a temperature value in fahrenheigh and then conver it to celcius and kelvin\n",
        "\n",
        "####Note: create and test the application in Colabs and then complete the application on its own folder file structure in\n",
        "\n",
        "#### VCCod. .py shoud be well documented with instruction on how to use. Also, a defined flowchart using draw.io"
      ]
    },
    {
      "cell_type": "code",
      "metadata": {
        "id": "VmkvK2oTchXi"
      },
      "source": [
        "fahrenheit = int(input(\"Enter temperature in fahrenheit: \"))\n",
        "celsius = (fahrenheit - 32) * 5/9\n",
        "kelvin = (fahrenheit - 32) * 5/9 + 273.15 \n",
        "print(fahrenheit, ' Fahrenheit is = ', celsius, 'Celsius.',  fahrenheit, ' Fahrenheit is = ', kelvin, \"Kelvin\")"
      ],
      "execution_count": null,
      "outputs": []
    }
  ]
}