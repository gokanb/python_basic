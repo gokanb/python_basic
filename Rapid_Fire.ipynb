{
  "nbformat": 4,
  "nbformat_minor": 0,
  "metadata": {
    "colab": {
      "name": "Rapid Fire.ipynb",
      "provenance": [],
      "collapsed_sections": [
        "IqpgNWk8qVxI",
        "RtddvJgc4THO",
        "Hemh3KI9qVi6",
        "weRgSx1GA7wL",
        "USPCqcu9Kci1",
        "kg9xt7IRK2Ye",
        "m8PWA4yRSq-Z",
        "l8owkBMJTWpt",
        "sr8HZBx4TZ96",
        "tiBVkszhTZuz",
        "cxS2k-m0TZpq",
        "q7Xst4BtTlTz",
        "IoQ0sPcdTlOU",
        "XyAV7VO3nbRG",
        "sM_W0KYRovmr",
        "5g0JTeFZoveg"
      ],
      "authorship_tag": "ABX9TyMxpuJSkKprBUc8GT8Lr/os",
      "include_colab_link": true
    },
    "kernelspec": {
      "name": "python3",
      "display_name": "Python 3"
    },
    "language_info": {
      "name": "python"
    }
  },
  "cells": [
    {
      "cell_type": "markdown",
      "metadata": {
        "id": "view-in-github",
        "colab_type": "text"
      },
      "source": [
        "<a href=\"https://colab.research.google.com/github/gokanb/python_basic/blob/main/Rapid_Fire.ipynb\" target=\"_parent\"><img src=\"https://colab.research.google.com/assets/colab-badge.svg\" alt=\"Open In Colab\"/></a>"
      ]
    },
    {
      "cell_type": "code",
      "metadata": {
        "id": "oLkIUx1WqEyf"
      },
      "source": [
        "'''\n",
        "# What do i want ?\n",
        "- 1. State the probelem.\n",
        "\n",
        "# What do i need ?\n",
        "- 2. Design your problem solution(algotrithm)\n",
        "\n",
        "# What do i have ? \n",
        "- 3. This is data provided by either the problem or assumed data.\n",
        "'''"
      ],
      "execution_count": null,
      "outputs": []
    },
    {
      "cell_type": "markdown",
      "metadata": {
        "id": "IqpgNWk8qVxI"
      },
      "source": [
        "##Return the count of a given substring from a substring "
      ]
    },
    {
      "cell_type": "code",
      "metadata": {
        "colab": {
          "base_uri": "https://localhost:8080/"
        },
        "id": "O08dlY-5qVvB",
        "outputId": "4d4f14e0-72ba-4fd3-dd3d-a1e96a785896"
      },
      "source": [
        "# What do i want? \n",
        "#i want to get any string and then get a subset of it and then count the length.\n",
        "#------------------\n",
        "\n",
        "\n",
        "\n",
        "#------------------\n",
        "\n",
        "\n",
        "# What do i need: \n",
        "#i need a string on any from! and i would take the length of it using the len() function\n",
        "\n",
        "len(strg2)\n",
        "len(strg3)\n",
        "len(strg0)\n",
        "\n",
        "\n",
        "\n",
        "#------------------\n",
        "# What do i have?\n",
        "# I can just make a string myself or ask the user for something. \n",
        "\n",
        "strg0 = input(\"Tell me something: \")\n",
        "strg01 = strg0[-1:4]\n",
        "strg = \"any string\"\n",
        "strg2 = \"any\"\n",
        "strg3= srtg[1:5]\n",
        "\n",
        "\n",
        "\n",
        "\n"
      ],
      "execution_count": null,
      "outputs": [
        {
          "output_type": "execute_result",
          "data": {
            "text/plain": [
              "3"
            ]
          },
          "metadata": {},
          "execution_count": 10
        }
      ]
    },
    {
      "cell_type": "code",
      "metadata": {
        "colab": {
          "base_uri": "https://localhost:8080/"
        },
        "id": "rt7eHRQZqVsw",
        "outputId": "8b258598-29ab-4784-be2a-c1cd7f2d4f3a"
      },
      "source": [
        "strg0 = input(\"Tell me something: \")\n",
        "strg01 = strg0[-1: ]\n",
        "print(f'The user entered: {strg0} and the length of a substring is {len(strg0)}')"
      ],
      "execution_count": null,
      "outputs": [
        {
          "output_type": "stream",
          "name": "stdout",
          "text": [
            "Tell me something: Gokan bektas\n",
            "The user entered: Gokan bektas and the length of a substring is 12\n"
          ]
        }
      ]
    },
    {
      "cell_type": "markdown",
      "metadata": {
        "id": "RtddvJgc4THO"
      },
      "source": [
        "## Display numbers divisible by 5 from a list\n"
      ]
    },
    {
      "cell_type": "code",
      "metadata": {
        "id": "uLPbaeZYqVn-"
      },
      "source": [
        "# What do i want?\n",
        "# we want to numbers divisible by 5.\n",
        "#-----------------\n",
        "\n",
        "\n",
        "# What do i need?\n",
        "# i need list of numbers.\n",
        "#-----------------\n",
        "\n",
        "\n",
        "# What do i have?\n",
        "# I have a list.\n",
        "\n",
        "\n",
        "\n"
      ],
      "execution_count": null,
      "outputs": []
    },
    {
      "cell_type": "code",
      "metadata": {
        "colab": {
          "base_uri": "https://localhost:8080/"
        },
        "id": "WhH3dlZOqVll",
        "outputId": "ca04367b-a760-46ef-ffd0-829d7a337b5f"
      },
      "source": [
        "num = [11, 56, 54, 67, 87, 55, 100, 15]\n",
        "print(f'Given my list: {num}')\n",
        "print('Numbers divisible by 5 from the list are: ')\n",
        "for i in num:\n",
        "  if i % 5 == 0:\n",
        "    print(i)"
      ],
      "execution_count": null,
      "outputs": [
        {
          "output_type": "stream",
          "name": "stdout",
          "text": [
            "Given my list: [11, 56, 54, 67, 87, 55, 100, 15]\n",
            "Numbers divisible by 5 from the list are: \n",
            "55\n",
            "100\n",
            "15\n"
          ]
        }
      ]
    },
    {
      "cell_type": "markdown",
      "metadata": {
        "id": "Hemh3KI9qVi6"
      },
      "source": [
        "## Check if the first and last number of a list is the same"
      ]
    },
    {
      "cell_type": "code",
      "metadata": {
        "id": "d3IWUgUHA73m"
      },
      "source": [
        "# What do i want?\n",
        "# check the list first and last number same\n",
        "#-----------------\n",
        "\n",
        "\n",
        "# What do i need?\n",
        "# make a list of number \n",
        "#-----------------\n",
        "\n",
        "\n",
        "# What do i have?\n",
        "# "
      ],
      "execution_count": null,
      "outputs": []
    },
    {
      "cell_type": "code",
      "metadata": {
        "colab": {
          "base_uri": "https://localhost:8080/"
        },
        "id": "T2dBOretA70-",
        "outputId": "fbfbd06f-1845-43cc-c108-22018d2460ea"
      },
      "source": [
        "num = [ 2,4,5,6,7,8,2]\n",
        "\n",
        "# num = [ ]\n",
        "# numb = int(input(\"Enter a number\"))\n",
        "# numbbc = num.append(numb)\n",
        "\n",
        "first = num[0]\n",
        "last = num[-1]\n",
        "\n",
        "if first == last:\n",
        "  print('True') \n",
        "else:\n",
        "  print('False')"
      ],
      "execution_count": null,
      "outputs": [
        {
          "output_type": "stream",
          "name": "stdout",
          "text": [
            "True\n"
          ]
        }
      ]
    },
    {
      "cell_type": "code",
      "metadata": {
        "colab": {
          "base_uri": "https://localhost:8080/"
        },
        "id": "cPWNd-aqA7yu",
        "outputId": "00468be6-c931-4ca8-a84c-ebacf501807a"
      },
      "source": [
        "numbers = [10,20,30,45,50,10]\n",
        "print(f'Given my list: {numbers} ')\n",
        "print('Numbers are same: ')\n",
        "if numbers[0] == numbers[-1]:\n",
        "  print('i')"
      ],
      "execution_count": null,
      "outputs": [
        {
          "output_type": "execute_result",
          "data": {
            "text/plain": [
              "[10, 20, 30]"
            ]
          },
          "metadata": {},
          "execution_count": 46
        }
      ]
    },
    {
      "cell_type": "markdown",
      "metadata": {
        "id": "weRgSx1GA7wL"
      },
      "source": [
        "## Print multiplication form 1 to 10"
      ]
    },
    {
      "cell_type": "code",
      "metadata": {
        "id": "VrH-mn0ZJOxd"
      },
      "source": [
        "# What do i want?\n",
        "# form for multiplication 1 to 10\n",
        "#-----------------\n",
        "\n",
        "\n",
        "# What do i need?\n",
        "# for loop method\n",
        "#-----------------\n",
        "\n",
        "\n",
        "# What do i have?\n",
        "# "
      ],
      "execution_count": null,
      "outputs": []
    },
    {
      "cell_type": "code",
      "metadata": {
        "colab": {
          "base_uri": "https://localhost:8080/"
        },
        "id": "seqs4jgrJW5g",
        "outputId": "d743d701-441c-4016-8afe-a51945637949"
      },
      "source": [
        "for i in range(1,11):\n",
        "  for j in range(1,11):\n",
        "    print(i * j, end=\" \")\n",
        "  print(\"\\t\\t\")"
      ],
      "execution_count": null,
      "outputs": [
        {
          "output_type": "stream",
          "name": "stdout",
          "text": [
            "1 2 3 4 5 6 7 8 9 10 \t\t\n",
            "2 4 6 8 10 12 14 16 18 20 \t\t\n",
            "3 6 9 12 15 18 21 24 27 30 \t\t\n",
            "4 8 12 16 20 24 28 32 36 40 \t\t\n",
            "5 10 15 20 25 30 35 40 45 50 \t\t\n",
            "6 12 18 24 30 36 42 48 54 60 \t\t\n",
            "7 14 21 28 35 42 49 56 63 70 \t\t\n",
            "8 16 24 32 40 48 56 64 72 80 \t\t\n",
            "9 18 27 36 45 54 63 72 81 90 \t\t\n",
            "10 20 30 40 50 60 70 80 90 100 \t\t\n"
          ]
        }
      ]
    },
    {
      "cell_type": "code",
      "metadata": {
        "colab": {
          "base_uri": "https://localhost:8080/"
        },
        "id": "vwi_hGbFGemF",
        "outputId": "1e93eafe-05aa-4d0e-f883-b798fec3745f"
      },
      "source": [
        "for i in range(1,11):\n",
        "    print(\"\\n\\nMULTIPLICATION TABLE FOR %d\\n\" %(i))\n",
        "    for j in range(1,11):\n",
        "        print(\"%-5d X %5d = %5d\" % (i, j, i*j))"
      ],
      "execution_count": null,
      "outputs": [
        {
          "output_type": "stream",
          "name": "stdout",
          "text": [
            "\n",
            "\n",
            "MULTIPLICATION TABLE FOR 1\n",
            "\n",
            "1     X     1 =     1\n",
            "1     X     2 =     2\n",
            "1     X     3 =     3\n",
            "1     X     4 =     4\n",
            "1     X     5 =     5\n",
            "1     X     6 =     6\n",
            "1     X     7 =     7\n",
            "1     X     8 =     8\n",
            "1     X     9 =     9\n",
            "1     X    10 =    10\n",
            "\n",
            "\n",
            "MULTIPLICATION TABLE FOR 2\n",
            "\n",
            "2     X     1 =     2\n",
            "2     X     2 =     4\n",
            "2     X     3 =     6\n",
            "2     X     4 =     8\n",
            "2     X     5 =    10\n",
            "2     X     6 =    12\n",
            "2     X     7 =    14\n",
            "2     X     8 =    16\n",
            "2     X     9 =    18\n",
            "2     X    10 =    20\n",
            "\n",
            "\n",
            "MULTIPLICATION TABLE FOR 3\n",
            "\n",
            "3     X     1 =     3\n",
            "3     X     2 =     6\n",
            "3     X     3 =     9\n",
            "3     X     4 =    12\n",
            "3     X     5 =    15\n",
            "3     X     6 =    18\n",
            "3     X     7 =    21\n",
            "3     X     8 =    24\n",
            "3     X     9 =    27\n",
            "3     X    10 =    30\n",
            "\n",
            "\n",
            "MULTIPLICATION TABLE FOR 4\n",
            "\n",
            "4     X     1 =     4\n",
            "4     X     2 =     8\n",
            "4     X     3 =    12\n",
            "4     X     4 =    16\n",
            "4     X     5 =    20\n",
            "4     X     6 =    24\n",
            "4     X     7 =    28\n",
            "4     X     8 =    32\n",
            "4     X     9 =    36\n",
            "4     X    10 =    40\n",
            "\n",
            "\n",
            "MULTIPLICATION TABLE FOR 5\n",
            "\n",
            "5     X     1 =     5\n",
            "5     X     2 =    10\n",
            "5     X     3 =    15\n",
            "5     X     4 =    20\n",
            "5     X     5 =    25\n",
            "5     X     6 =    30\n",
            "5     X     7 =    35\n",
            "5     X     8 =    40\n",
            "5     X     9 =    45\n",
            "5     X    10 =    50\n",
            "\n",
            "\n",
            "MULTIPLICATION TABLE FOR 6\n",
            "\n",
            "6     X     1 =     6\n",
            "6     X     2 =    12\n",
            "6     X     3 =    18\n",
            "6     X     4 =    24\n",
            "6     X     5 =    30\n",
            "6     X     6 =    36\n",
            "6     X     7 =    42\n",
            "6     X     8 =    48\n",
            "6     X     9 =    54\n",
            "6     X    10 =    60\n",
            "\n",
            "\n",
            "MULTIPLICATION TABLE FOR 7\n",
            "\n",
            "7     X     1 =     7\n",
            "7     X     2 =    14\n",
            "7     X     3 =    21\n",
            "7     X     4 =    28\n",
            "7     X     5 =    35\n",
            "7     X     6 =    42\n",
            "7     X     7 =    49\n",
            "7     X     8 =    56\n",
            "7     X     9 =    63\n",
            "7     X    10 =    70\n",
            "\n",
            "\n",
            "MULTIPLICATION TABLE FOR 8\n",
            "\n",
            "8     X     1 =     8\n",
            "8     X     2 =    16\n",
            "8     X     3 =    24\n",
            "8     X     4 =    32\n",
            "8     X     5 =    40\n",
            "8     X     6 =    48\n",
            "8     X     7 =    56\n",
            "8     X     8 =    64\n",
            "8     X     9 =    72\n",
            "8     X    10 =    80\n",
            "\n",
            "\n",
            "MULTIPLICATION TABLE FOR 9\n",
            "\n",
            "9     X     1 =     9\n",
            "9     X     2 =    18\n",
            "9     X     3 =    27\n",
            "9     X     4 =    36\n",
            "9     X     5 =    45\n",
            "9     X     6 =    54\n",
            "9     X     7 =    63\n",
            "9     X     8 =    72\n",
            "9     X     9 =    81\n",
            "9     X    10 =    90\n",
            "\n",
            "\n",
            "MULTIPLICATION TABLE FOR 10\n",
            "\n",
            "10    X     1 =    10\n",
            "10    X     2 =    20\n",
            "10    X     3 =    30\n",
            "10    X     4 =    40\n",
            "10    X     5 =    50\n",
            "10    X     6 =    60\n",
            "10    X     7 =    70\n",
            "10    X     8 =    80\n",
            "10    X     9 =    90\n",
            "10    X    10 =   100\n"
          ]
        }
      ]
    },
    {
      "cell_type": "code",
      "metadata": {
        "id": "hVUmZcrCGeiz"
      },
      "source": [
        ""
      ],
      "execution_count": null,
      "outputs": []
    },
    {
      "cell_type": "code",
      "metadata": {
        "id": "gxh7n6dMGeUF"
      },
      "source": [
        ""
      ],
      "execution_count": null,
      "outputs": []
    },
    {
      "cell_type": "markdown",
      "metadata": {
        "id": "USPCqcu9Kci1"
      },
      "source": [
        "## Display the current and time"
      ]
    },
    {
      "cell_type": "code",
      "metadata": {
        "colab": {
          "base_uri": "https://localhost:8080/"
        },
        "id": "KX-goiT_Kn6G",
        "outputId": "bde11472-3b7c-4e95-cd1d-681f06fb914e"
      },
      "source": [
        "import datetime\n",
        "#importing datetime\n",
        "now = datetime.datetime.now()\n",
        "# creating variable equal to date\n",
        "print(\"Current date and time : \")\n",
        "print(now.strftime(\"%Y-%m-%d %H:%M:%S\"))"
      ],
      "execution_count": null,
      "outputs": [
        {
          "output_type": "stream",
          "name": "stdout",
          "text": [
            "Current date and time : \n",
            "2021-11-12 17:21:45\n"
          ]
        }
      ]
    },
    {
      "cell_type": "markdown",
      "metadata": {
        "id": "kg9xt7IRK2Ye"
      },
      "source": [
        "## Print first and last name in reverse order with a space a between them"
      ]
    },
    {
      "cell_type": "code",
      "metadata": {
        "colab": {
          "base_uri": "https://localhost:8080/"
        },
        "id": "YZ3vPye8Laeh",
        "outputId": "72653946-2961-420e-deac-8c1ed6cb9bac"
      },
      "source": [
        "name = (input(\" \") [ ::-1 ] )\n",
        "print(name)\n",
        "# creating string and using slicing : : first and second place starting from the end -1 "
      ],
      "execution_count": null,
      "outputs": [
        {
          "output_type": "stream",
          "name": "stdout",
          "text": [
            " GOKAN BEKTAS\n",
            "SATKEB NAKOG\n"
          ]
        }
      ]
    },
    {
      "cell_type": "code",
      "metadata": {
        "colab": {
          "base_uri": "https://localhost:8080/"
        },
        "id": "25P9uYpuOXxX",
        "outputId": "e6f8ef08-0a1a-4507-d77d-b7213ffb3422"
      },
      "source": [
        "fname = input(\" : \")\n",
        "lname = input(\" : \")\n",
        "print(\"Hello \" + lname + ' ' + fname)"
      ],
      "execution_count": null,
      "outputs": [
        {
          "output_type": "stream",
          "name": "stdout",
          "text": [
            " : gokan\n",
            " : bektas\n",
            "Hello bektas gokan\n"
          ]
        }
      ]
    },
    {
      "cell_type": "markdown",
      "metadata": {
        "id": "m8PWA4yRSq-Z"
      },
      "source": [
        "## Display the first and last colors from a given list"
      ]
    },
    {
      "cell_type": "code",
      "metadata": {
        "colab": {
          "base_uri": "https://localhost:8080/"
        },
        "id": "BLkY6Of0S9Bk",
        "outputId": "9050e217-c155-4d1c-fe15-8d68bc4ca6e4"
      },
      "source": [
        "color_list = [\"red\", \"green\", \" white\", \"black\", \"orange\", \"blue\"]\n",
        "print(color_list[0], color_list[-1])"
      ],
      "execution_count": null,
      "outputs": [
        {
          "output_type": "stream",
          "name": "stdout",
          "text": [
            "red blue\n"
          ]
        }
      ]
    },
    {
      "cell_type": "markdown",
      "metadata": {
        "id": "l8owkBMJTWpt"
      },
      "source": [
        "## Input an integer(h) and computes the value of n+nn+nn"
      ]
    },
    {
      "cell_type": "code",
      "metadata": {
        "id": "13SzSUJVV2SY"
      },
      "source": [
        "n = int(input(\"Enter a number: \"))\n",
        "print(n + n **2 + n **3)"
      ],
      "execution_count": null,
      "outputs": []
    },
    {
      "cell_type": "markdown",
      "metadata": {
        "id": "sr8HZBx4TZ96"
      },
      "source": [
        "##Write a Pyhton script to print the calendar of a given month and year"
      ]
    },
    {
      "cell_type": "code",
      "metadata": {
        "colab": {
          "base_uri": "https://localhost:8080/"
        },
        "id": "BMoAfCERTZ51",
        "outputId": "b365b146-787e-4262-f529-92d6fb0da657"
      },
      "source": [
        "import calendar\n",
        "y = int(input(\" Please enter a year : \"))\n",
        "m = int(input(\" Please enter a month : \"))\n",
        "d = int(input(\" Please enter a day \" ))\n",
        "print(calendar.month(y, m, d))\n",
        "\n",
        "\n",
        "#https://www.w3resource.com/python-exercises/python-basic-exercise-12.php "
      ],
      "execution_count": null,
      "outputs": [
        {
          "output_type": "stream",
          "name": "stdout",
          "text": [
            " Please enter a year : 2017\n",
            " Please enter a month : 8\n",
            " Please enter a day 13\n",
            "                                           August 2017\n",
            "    Monday       Tuesday      Wednesday      Thursday       Friday       Saturday       Sunday\n",
            "                     1             2             3             4             5             6\n",
            "       7             8             9            10            11            12            13\n",
            "      14            15            16            17            18            19            20\n",
            "      21            22            23            24            25            26            27\n",
            "      28            29            30            31\n",
            "\n"
          ]
        }
      ]
    },
    {
      "cell_type": "code",
      "metadata": {
        "colab": {
          "base_uri": "https://localhost:8080/"
        },
        "id": "6RlbTgPhTZx-",
        "outputId": "fe2c5182-89dc-49d4-a81a-ad6a44f63427"
      },
      "source": [
        "import calendar\n",
        "y = int(input(\" Please enter a year : \"))\n",
        "m = int(input(\" Please enter a month : \"))\n",
        "print(calendar.month(y, m,  ))\n",
        "#https://www.w3resource.com/python-exercises/python-basic-exercise-12.php "
      ],
      "execution_count": null,
      "outputs": [
        {
          "output_type": "stream",
          "name": "stdout",
          "text": [
            " Please enter a year : 2017\n",
            " Please enter a month : 8\n",
            "    August 2017\n",
            "Mo Tu We Th Fr Sa Su\n",
            "    1  2  3  4  5  6\n",
            " 7  8  9 10 11 12 13\n",
            "14 15 16 17 18 19 20\n",
            "21 22 23 24 25 26 27\n",
            "28 29 30 31\n",
            "\n"
          ]
        }
      ]
    },
    {
      "cell_type": "markdown",
      "metadata": {
        "id": "tiBVkszhTZuz"
      },
      "source": [
        "## Python script to get the volume of a sphere with radius 6\n",
        "\n",
        "### Entend the script to calculate the volume of any sphere!!"
      ]
    },
    {
      "cell_type": "code",
      "metadata": {
        "id": "koYkwg_BTZsC",
        "colab": {
          "base_uri": "https://localhost:8080/"
        },
        "outputId": "dc2fbe8b-fc93-4d92-d4a4-200f17c4ad42"
      },
      "source": [
        "pi = 3.1415926535897931\n",
        "r= 6.0\n",
        "V= 4.0/3.0*pi* r**3\n",
        "print('The volume of the sphere is: ',V)\n"
      ],
      "execution_count": 91,
      "outputs": [
        {
          "output_type": "stream",
          "name": "stdout",
          "text": [
            "The volume of the sphere is:  904.7786842338603\n"
          ]
        }
      ]
    },
    {
      "cell_type": "markdown",
      "metadata": {
        "id": "cxS2k-m0TZpq"
      },
      "source": [
        "## Write a Python script to find whether a given number (accept from the user) is even or odd"
      ]
    },
    {
      "cell_type": "code",
      "metadata": {
        "id": "YxqikLEBTZnR",
        "colab": {
          "base_uri": "https://localhost:8080/"
        },
        "outputId": "229a5977-eff1-4200-a03a-4212d33a81ba"
      },
      "source": [
        "num = int(input(\"Enter a number: \"))\n",
        "mod = num % 2\n",
        "if mod > 0:\n",
        "    print(\"This is an odd number.\")\n",
        "else:\n",
        "    print(\"This is an even number.\")\n",
        "#https://www.w3resource.com/python-exercises/python-basic-exercise-21.php"
      ],
      "execution_count": 92,
      "outputs": [
        {
          "output_type": "stream",
          "name": "stdout",
          "text": [
            "Enter a number: 1\n",
            "This is an odd number.\n"
          ]
        }
      ]
    },
    {
      "cell_type": "markdown",
      "metadata": {
        "id": "q7Xst4BtTlTz"
      },
      "source": [
        "## Write  Python program to count the number 7 in a given list"
      ]
    },
    {
      "cell_type": "code",
      "metadata": {
        "id": "_Sdm-UxOTlQ7",
        "colab": {
          "base_uri": "https://localhost:8080/"
        },
        "outputId": "11ca0268-90db-4203-fed4-4b2db2270202"
      },
      "source": [
        "mylist2 = (1, 3, 7, 8, 7, 5, 4, 6, 8, 5)\n",
        "\n",
        "x = mylist2.count(7)\n",
        "\n",
        "print(x)"
      ],
      "execution_count": 93,
      "outputs": [
        {
          "output_type": "stream",
          "name": "stdout",
          "text": [
            "2\n"
          ]
        }
      ]
    },
    {
      "cell_type": "code",
      "metadata": {
        "colab": {
          "base_uri": "https://localhost:8080/"
        },
        "id": "YRxwdfL7lFpc",
        "outputId": "325c4f2d-9aae-43ab-c6aa-7ec1ec1d6cc7"
      },
      "source": [
        "def list_count_7(nums):\n",
        "  count = 0 \n",
        "  for num in nums:\n",
        "    if num == 5:\n",
        "      count = count + 1\n",
        "  return count\n",
        "\n",
        "print(list_count_7 ( [1, 3, 7, 8, 7, 5, 4, 6, 8, 5]))"
      ],
      "execution_count": 97,
      "outputs": [
        {
          "output_type": "stream",
          "name": "stdout",
          "text": [
            "2\n"
          ]
        }
      ]
    },
    {
      "cell_type": "markdown",
      "metadata": {
        "id": "IoQ0sPcdTlOU"
      },
      "source": [
        "## A script that will accept the base and height of a triangle and compute the area"
      ]
    },
    {
      "cell_type": "code",
      "metadata": {
        "id": "HSeGw9-HTmYv",
        "colab": {
          "base_uri": "https://localhost:8080/"
        },
        "outputId": "e7217486-e25c-418c-ce35-eee9ab4b11ff"
      },
      "source": [
        "b = int(input(\"Input the base : \"))\n",
        "h = int(input(\"Input the height : \"))\n",
        "\n",
        "area = b*h/2\n",
        "\n",
        "print(\"area = \", area)\n"
      ],
      "execution_count": 98,
      "outputs": [
        {
          "output_type": "stream",
          "name": "stdout",
          "text": [
            "Input the base : 20\n",
            "Input the height : 10\n",
            "area =  100.0\n"
          ]
        }
      ]
    },
    {
      "cell_type": "markdown",
      "metadata": {
        "id": "XyAV7VO3nbRG"
      },
      "source": [
        "## A script to sum of three given integers however, if two values are equal sum will be zero"
      ]
    },
    {
      "cell_type": "code",
      "metadata": {
        "colab": {
          "base_uri": "https://localhost:8080/"
        },
        "id": "OiET1PrlovrR",
        "outputId": "6df39348-01dd-4cb2-9d6a-7d6293b389a7"
      },
      "source": [
        "def sum(x, y, z):\n",
        "    if x == y or y == z or x==z:\n",
        "        sum = 0\n",
        "    else:\n",
        "        sum = x + y + z\n",
        "    return sum\n",
        "\n",
        "print(sum(2, 1, 2))\n",
        "print(sum(3, 2, 2))\n",
        "print(sum(2, 2, 2))\n",
        "print(sum(1, 2, 3))\n",
        "\n",
        "\n",
        "\n",
        "#https://www.w3resource.com/python-exercises/python-basic-exercise-33.php"
      ],
      "execution_count": 99,
      "outputs": [
        {
          "output_type": "stream",
          "name": "stdout",
          "text": [
            "0\n",
            "0\n",
            "0\n",
            "6\n"
          ]
        }
      ]
    },
    {
      "cell_type": "markdown",
      "metadata": {
        "id": "sM_W0KYRovmr"
      },
      "source": [
        "## A script to solve (x +y) * (x +y)"
      ]
    },
    {
      "cell_type": "code",
      "metadata": {
        "colab": {
          "base_uri": "https://localhost:8080/"
        },
        "id": "5u3MuO8soviL",
        "outputId": "d389268f-e9f7-42e6-dc26-62b97ad5b979"
      },
      "source": [
        "x, y = 4, 3\n",
        "result = x * x + 2 * x * y + y * y\n",
        "print(\"({} + {}) ^ 2) = {}\".format(x, y, result))"
      ],
      "execution_count": 105,
      "outputs": [
        {
          "output_type": "stream",
          "name": "stdout",
          "text": [
            "(4 + 3) ^ 2) = 49\n"
          ]
        }
      ]
    },
    {
      "cell_type": "markdown",
      "metadata": {
        "id": "5g0JTeFZoveg"
      },
      "source": [
        "## A script to convert the distance (in feet) to inches, yards,and miles"
      ]
    },
    {
      "cell_type": "code",
      "metadata": {
        "colab": {
          "base_uri": "https://localhost:8080/"
        },
        "id": "wVKuqULbovaC",
        "outputId": "388f524c-ecc3-445b-e83c-69d04f024463"
      },
      "source": [
        "d_ft = int(input(\"Input distance in feet: \"))\n",
        "d_inches = d_ft * 12\n",
        "d_yards = d_ft / 3.0\n",
        "d_miles = d_ft / 5280.0\n",
        "\n",
        "print(\"The distance in inches is %i inches.\" % d_inches)\n",
        "print(\"The distance in yards is %.2f yards.\" % d_yards)\n",
        "print(\"The distance in miles is %.2f miles.\" % d_miles)"
      ],
      "execution_count": 106,
      "outputs": [
        {
          "output_type": "stream",
          "name": "stdout",
          "text": [
            "Input distance in feet: 1500\n",
            "The distance in inches is 18000 inches.\n",
            "The distance in yards is 500.00 yards.\n",
            "The distance in miles is 0.28 miles.\n"
          ]
        }
      ]
    },
    {
      "cell_type": "markdown",
      "metadata": {
        "id": "QvRoq2XEovVX"
      },
      "source": [
        "## A Script to calculate the hypotenuse of a right angled triangle"
      ]
    },
    {
      "cell_type": "code",
      "metadata": {
        "colab": {
          "base_uri": "https://localhost:8080/"
        },
        "id": "MZhZal16wgxs",
        "outputId": "0895a6d2-3724-438b-be6d-e969043410c3"
      },
      "source": [
        "from math import sqrt\n",
        "print(\"Input lengths of shorter triangle sides:\")\n",
        "a = float(input(\"a: \"))\n",
        "b = float(input(\"b: \"))\n",
        "c = sqrt(a**2 + b**2)\n",
        "print(\"The length of the hypotenuse is:\", c )\n",
        "\n",
        "#https://www.w3resource.com/python-exercises/python-basic-exercise-60.php"
      ],
      "execution_count": 108,
      "outputs": [
        {
          "output_type": "stream",
          "name": "stdout",
          "text": [
            "Input lengths of shorter triangle sides:\n",
            "a: 3\n",
            "b: 4\n",
            "The length of the hypotenuse is: 5.0\n"
          ]
        }
      ]
    },
    {
      "cell_type": "code",
      "metadata": {
        "id": "NrrZGFhLzo80"
      },
      "source": [
        ""
      ],
      "execution_count": null,
      "outputs": []
    }
  ]
}