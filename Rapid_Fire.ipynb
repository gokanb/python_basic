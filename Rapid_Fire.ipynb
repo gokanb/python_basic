{
  "nbformat": 4,
  "nbformat_minor": 0,
  "metadata": {
    "colab": {
      "name": "Rapid Fire.ipynb",
      "provenance": [],
      "collapsed_sections": [
        "IqpgNWk8qVxI",
        "RtddvJgc4THO",
        "Hemh3KI9qVi6",
        "weRgSx1GA7wL",
        "kg9xt7IRK2Ye",
        "m8PWA4yRSq-Z",
        "tiBVkszhTZuz",
        "cxS2k-m0TZpq",
        "q7Xst4BtTlTz",
        "IoQ0sPcdTlOU",
        "XyAV7VO3nbRG"
      ],
      "authorship_tag": "ABX9TyP0A1re0+STC378WifHzsSF",
      "include_colab_link": true
    },
    "kernelspec": {
      "name": "python3",
      "display_name": "Python 3"
    },
    "language_info": {
      "name": "python"
    }
  },
  "cells": [
    {
      "cell_type": "markdown",
      "metadata": {
        "id": "view-in-github",
        "colab_type": "text"
      },
      "source": [
        "<a href=\"https://colab.research.google.com/github/gokanb/python_basic/blob/main/Rapid_Fire.ipynb\" target=\"_parent\"><img src=\"https://colab.research.google.com/assets/colab-badge.svg\" alt=\"Open In Colab\"/></a>"
      ]
    },
    {
      "cell_type": "code",
      "metadata": {
        "id": "oLkIUx1WqEyf"
      },
      "source": [
        "'''\n",
        "# What do i want ?\n",
        "- 1. State the probelem.\n",
        "\n",
        "# What do i need ?\n",
        "- 2. Design your problem solution(algotrithm)\n",
        "\n",
        "# What do i have ? \n",
        "- 3. This is data provided by either the problem or assumed data.\n",
        "'''"
      ],
      "execution_count": null,
      "outputs": []
    },
    {
      "cell_type": "markdown",
      "metadata": {
        "id": "IqpgNWk8qVxI"
      },
      "source": [
        "##Return the count of a given substring from a substring "
      ]
    },
    {
      "cell_type": "code",
      "metadata": {
        "colab": {
          "base_uri": "https://localhost:8080/"
        },
        "id": "O08dlY-5qVvB",
        "outputId": "7526271b-1c40-451c-9c6e-1b81e59a07dd"
      },
      "source": [
        "# What do i want? \n",
        "#i want to get any string and then get a subset of it and then count the length.\n",
        "#------------------\n",
        "\n",
        "\n",
        "\n",
        "#------------------\n",
        "\n",
        "\n",
        "# What do i need: \n",
        "#i need a string on any from! and i would take the length of it using the len() function\n",
        "\n",
        "\n",
        "'''len(strg2)\n",
        "len(strg3)\n",
        "len(strg0)\n",
        "'''\n",
        "\n",
        "\n",
        "\n",
        "#------------------\n",
        "# What do i have?\n",
        "# I can just make a string myself or ask the user for something. \n",
        "\n",
        "\n",
        "'''strg0 = input(\"Tell me something: \")\n",
        "strg01 = strg0[-1:4]\n",
        "strg = \"any string\"\n",
        "strg2 = \"any\"\n",
        "strg3= srtg[1:5]\n",
        "'''\n",
        "\n",
        "\n",
        "#------------#\n",
        "strg0 = input(\"Tell me something: \")\n",
        "strg01 = strg0[-1: ]\n",
        "print(f'The user entered: {strg0} and the length of a substring is {len(strg0)}')\n",
        "\n",
        "# we created two string and formatted and used len command to measure the length of string."
      ],
      "execution_count": 2,
      "outputs": [
        {
          "output_type": "stream",
          "name": "stdout",
          "text": [
            "Tell me something: hey babe\n",
            "The user entered: hey babe and the length of a substring is 8\n"
          ]
        }
      ]
    },
    {
      "cell_type": "markdown",
      "metadata": {
        "id": "RtddvJgc4THO"
      },
      "source": [
        "## Display numbers divisible by 5 from a list\n"
      ]
    },
    {
      "cell_type": "code",
      "metadata": {
        "colab": {
          "base_uri": "https://localhost:8080/"
        },
        "id": "WhH3dlZOqVll",
        "outputId": "ca04367b-a760-46ef-ffd0-829d7a337b5f"
      },
      "source": [
        "# What do i want?\n",
        "# we want to numbers divisible by 5.\n",
        "#-----------------\n",
        "\n",
        "\n",
        "# What do i need?\n",
        "# i need list of numbers.\n",
        "#-----------------\n",
        "\n",
        "\n",
        "# What do i have?\n",
        "# I have a list.\n",
        "\n",
        "\n",
        "num = [11, 56, 54, 67, 87, 55, 100, 15].                \n",
        "print(f'Given my list: {num}')                          \n",
        "print('Numbers divisible by 5 from the list are: ')     \n",
        "for i in num:\n",
        "  if i % 5 == 0:\n",
        "    print(i)\n",
        "\n",
        "# I created as list of numbers and formated my list and used for loops method to see if any numbers divisible by 5 and printed out any numbers in the list divisible by 5."
      ],
      "execution_count": null,
      "outputs": [
        {
          "output_type": "stream",
          "name": "stdout",
          "text": [
            "Given my list: [11, 56, 54, 67, 87, 55, 100, 15]\n",
            "Numbers divisible by 5 from the list are: \n",
            "55\n",
            "100\n",
            "15\n"
          ]
        }
      ]
    },
    {
      "cell_type": "markdown",
      "metadata": {
        "id": "Hemh3KI9qVi6"
      },
      "source": [
        "## Check if the first and last number of a list is the same"
      ]
    },
    {
      "cell_type": "code",
      "metadata": {
        "colab": {
          "base_uri": "https://localhost:8080/",
          "height": 54
        },
        "id": "T2dBOretA70-",
        "outputId": "2d31e4e2-5961-48c3-a791-524c8dcb57a9"
      },
      "source": [
        "# What do i want?\n",
        "# check the list first and last number same\n",
        "#-----------------\n",
        "\n",
        "\n",
        "# What do i need?\n",
        "# make a list of number \n",
        "#-----------------\n",
        "\n",
        "\n",
        "# What do i have?\n",
        "#-----------------\n",
        "\n",
        "num = [ 2,4,5,6,7,8,2]\n",
        "\n",
        "# num = [ ]\n",
        "# numb = int(input(\"Enter a number\"))\n",
        "# numbbc = num.append(numb)\n",
        "\n",
        "first = num[0]\n",
        "last = num[-1]\n",
        "\n",
        "if first == last:\n",
        "  print('True') \n",
        "else:\n",
        "  print('False')\n",
        "\n",
        "\n",
        "# i created a list of numbers and used boolen method the verify if first and last numbers in the list are match.  \n",
        "\n",
        "#------one way of solution------#\n",
        "\n",
        "'''\n",
        " num = [ 2,4,5,6,7,8,2]\n",
        "\n",
        "num = [ ]\n",
        "numb = int(input(\"Enter a number\"))\n",
        "numbbc = num.append(numb)\n",
        "\n",
        "if first == last:\n",
        "  print('True') \n",
        "else:\n",
        "  print('False')\n",
        "\n",
        "'''\n",
        "\n",
        "\n",
        "\n",
        "\n"
      ],
      "execution_count": 1,
      "outputs": [
        {
          "output_type": "stream",
          "name": "stdout",
          "text": [
            "True\n"
          ]
        },
        {
          "output_type": "execute_result",
          "data": {
            "application/vnd.google.colaboratory.intrinsic+json": {
              "type": "string"
            },
            "text/plain": [
              "'\\n num = [ 2,4,5,6,7,8,2]\\n\\nnum = [ ]\\nnumb = int(input(\"Enter a number\"))\\nnumbbc = num.append(numb)\\n\\nif first == last:\\n  print(\\'True\\') \\nelse:\\n  print(\\'False\\')\\n\\n'"
            ]
          },
          "metadata": {},
          "execution_count": 1
        }
      ]
    },
    {
      "cell_type": "markdown",
      "metadata": {
        "id": "weRgSx1GA7wL"
      },
      "source": [
        "## Print multiplication form 1 to 10"
      ]
    },
    {
      "cell_type": "code",
      "metadata": {
        "id": "VrH-mn0ZJOxd",
        "colab": {
          "base_uri": "https://localhost:8080/",
          "height": 224
        },
        "outputId": "0415cc06-c99d-4f93-ae16-21814efae468"
      },
      "source": [
        "# What do i want?\n",
        "# form for multiplication 1 to 10\n",
        "#-----------------\n",
        "\n",
        "\n",
        "# What do i need?\n",
        "# for loop method\n",
        "#-----------------\n",
        "\n",
        "\n",
        "# What do i have?\n",
        "#----------------\n",
        "\n",
        "\n",
        "for i in range(1,11):\n",
        "  for j in range(1,11):\n",
        "    print(i * j, end=\" \")\n",
        "  print(\"\\t\\t\")\n",
        "\n",
        "\n",
        "\n",
        "'''\n",
        "\n",
        "#-- Another way to solve the problem --#\n",
        "\n",
        "\n",
        "for i in range(1,11):\n",
        "    print(\"\\n\\nMULTIPLICATION TABLE FOR %d\\n\" %(i))\n",
        "    for j in range(1,11):\n",
        "        print(\"%-5d X %5d = %5d\" % (i, j, i*j))\n",
        "\n",
        "\n",
        "'''"
      ],
      "execution_count": 5,
      "outputs": [
        {
          "output_type": "stream",
          "name": "stdout",
          "text": [
            "1 2 3 4 5 6 7 8 9 10 \t\t\n",
            "2 4 6 8 10 12 14 16 18 20 \t\t\n",
            "3 6 9 12 15 18 21 24 27 30 \t\t\n",
            "4 8 12 16 20 24 28 32 36 40 \t\t\n",
            "5 10 15 20 25 30 35 40 45 50 \t\t\n",
            "6 12 18 24 30 36 42 48 54 60 \t\t\n",
            "7 14 21 28 35 42 49 56 63 70 \t\t\n",
            "8 16 24 32 40 48 56 64 72 80 \t\t\n",
            "9 18 27 36 45 54 63 72 81 90 \t\t\n",
            "10 20 30 40 50 60 70 80 90 100 \t\t\n"
          ]
        },
        {
          "output_type": "execute_result",
          "data": {
            "application/vnd.google.colaboratory.intrinsic+json": {
              "type": "string"
            },
            "text/plain": [
              "'\\n\\n#-- Another way to solve the problem --#\\n\\n\\nfor i in range(1,11):\\n    print(\"\\n\\nMULTIPLICATION TABLE FOR %d\\n\" %(i))\\n    for j in range(1,11):\\n        print(\"%-5d X %5d = %5d\" % (i, j, i*j))\\n\\n\\n'"
            ]
          },
          "metadata": {},
          "execution_count": 5
        }
      ]
    },
    {
      "cell_type": "code",
      "metadata": {
        "id": "hVUmZcrCGeiz"
      },
      "source": [
        ""
      ],
      "execution_count": null,
      "outputs": []
    },
    {
      "cell_type": "code",
      "metadata": {
        "id": "gxh7n6dMGeUF"
      },
      "source": [
        ""
      ],
      "execution_count": null,
      "outputs": []
    },
    {
      "cell_type": "markdown",
      "metadata": {
        "id": "USPCqcu9Kci1"
      },
      "source": [
        "## Display the current and time"
      ]
    },
    {
      "cell_type": "code",
      "metadata": {
        "colab": {
          "base_uri": "https://localhost:8080/"
        },
        "id": "KX-goiT_Kn6G",
        "outputId": "bde11472-3b7c-4e95-cd1d-681f06fb914e"
      },
      "source": [
        "# What do i want?\n",
        "# print put current date and time\n",
        "#-----------------\n",
        "\n",
        "\n",
        "# What do i need?\n",
        "# create a script\n",
        "#-----------------\n",
        "\n",
        "\n",
        "# What do i have?\n",
        "# import method \n",
        "#----------------\n",
        "\n",
        "import datetime\n",
        "now = datetime.datetime.now()\n",
        "print(\"Current date and time : \")\n",
        "print(now.strftime(\"%Y-%m-%d %H:%M:%S\"))\n",
        "\n",
        "# importing datetime,  creating variable equal to date "
      ],
      "execution_count": null,
      "outputs": [
        {
          "output_type": "stream",
          "name": "stdout",
          "text": [
            "Current date and time : \n",
            "2021-11-12 17:21:45\n"
          ]
        }
      ]
    },
    {
      "cell_type": "markdown",
      "metadata": {
        "id": "kg9xt7IRK2Ye"
      },
      "source": [
        "## Print first and last name in reverse order with a space a between them"
      ]
    },
    {
      "cell_type": "code",
      "metadata": {
        "colab": {
          "base_uri": "https://localhost:8080/"
        },
        "id": "25P9uYpuOXxX",
        "outputId": "e6f8ef08-0a1a-4507-d77d-b7213ffb3422"
      },
      "source": [
        "# What do i want?\n",
        "# i need to print out couple of string and print them out reverse and spaces between.\n",
        "#-----------------\n",
        "\n",
        "\n",
        "# What do i need?\n",
        "# create strings\n",
        "#-----------------\n",
        "\n",
        "\n",
        "# What do i have?\n",
        "# concatination method \n",
        "#----------------\n",
        "\n",
        "\n",
        "fname = input(\" : \")\n",
        "lname = input(\" : \")\n",
        "print(\"Hello \" + lname + ' ' + fname)\n",
        "\n",
        "# Created strings and used print command and Concatination method"
      ],
      "execution_count": null,
      "outputs": [
        {
          "output_type": "stream",
          "name": "stdout",
          "text": [
            " : gokan\n",
            " : bektas\n",
            "Hello bektas gokan\n"
          ]
        }
      ]
    },
    {
      "cell_type": "markdown",
      "metadata": {
        "id": "m8PWA4yRSq-Z"
      },
      "source": [
        "## Display the first and last colors from a given list"
      ]
    },
    {
      "cell_type": "code",
      "metadata": {
        "colab": {
          "base_uri": "https://localhost:8080/"
        },
        "id": "BLkY6Of0S9Bk",
        "outputId": "9050e217-c155-4d1c-fe15-8d68bc4ca6e4"
      },
      "source": [
        "# What do i want?\n",
        "# Printing put first and last colors from a given list\n",
        "#-----------------\n",
        "\n",
        "\n",
        "# What do i need?\n",
        "# i need a list that inlcudes colors in it.\n",
        "#-----------------\n",
        "\n",
        "\n",
        "# What do i have?\n",
        "# \n",
        "#----------------\n",
        "\n",
        "color_list = [\"red\", \"green\", \" white\", \"black\", \"orange\", \"blue\"]\n",
        "print(color_list[0], color_list[-1])\n",
        "\n",
        "#i created a list of colors and print out with using slicing medhod."
      ],
      "execution_count": null,
      "outputs": [
        {
          "output_type": "stream",
          "name": "stdout",
          "text": [
            "red blue\n"
          ]
        }
      ]
    },
    {
      "cell_type": "markdown",
      "metadata": {
        "id": "l8owkBMJTWpt"
      },
      "source": [
        "## Input an integer(h) and computes the value of n+nn+nn"
      ]
    },
    {
      "cell_type": "code",
      "metadata": {
        "id": "13SzSUJVV2SY"
      },
      "source": [
        "# What do i want?\n",
        "# write script ask for integer and computes the value of n+nn+nn\n",
        "#-----------------\n",
        "\n",
        "\n",
        "# What do i need?\n",
        "# i need a variable formatted inters asking for input and get the solution.\n",
        "#-----------------\n",
        "\n",
        "\n",
        "# What do i have?\n",
        "#  \n",
        "#----------------\n",
        "\n",
        "n = int(input(\"Enter a number: \"))\n",
        "print(n + n **2 + n **3)\n",
        "\n",
        "# we create a var that asking input and excepting integer and we print out solution with built in math method."
      ],
      "execution_count": null,
      "outputs": []
    },
    {
      "cell_type": "markdown",
      "metadata": {
        "id": "sr8HZBx4TZ96"
      },
      "source": [
        "##Write a Pyhton script to print the calendar of a given month and year"
      ]
    },
    {
      "cell_type": "code",
      "metadata": {
        "colab": {
          "base_uri": "https://localhost:8080/"
        },
        "id": "BMoAfCERTZ51",
        "outputId": "76aca0a8-ec8b-4ff6-afcf-1aa5d606c769"
      },
      "source": [
        "import calendar\n",
        "y = int(input(\" Please enter a year : \"))\n",
        "m = int(input(\" Please enter a month : \"))\n",
        "print(calendar.month(y, m,  ))\n",
        "\n",
        "#import calendar from python and created script asking user input integer.\n",
        "\n",
        "#https://www.w3resource.com/python-exercises/python-basic-exercise-12.php "
      ],
      "execution_count": 6,
      "outputs": [
        {
          "output_type": "stream",
          "name": "stdout",
          "text": [
            " Please enter a year : 2017\n",
            " Please enter a month : 3\n",
            "     March 2017\n",
            "Mo Tu We Th Fr Sa Su\n",
            "       1  2  3  4  5\n",
            " 6  7  8  9 10 11 12\n",
            "13 14 15 16 17 18 19\n",
            "20 21 22 23 24 25 26\n",
            "27 28 29 30 31\n",
            "\n"
          ]
        }
      ]
    },
    {
      "cell_type": "markdown",
      "metadata": {
        "id": "tiBVkszhTZuz"
      },
      "source": [
        "## Python script to get the volume of a sphere with radius 6\n",
        "\n",
        "### Entend the script to calculate the volume of any sphere!!"
      ]
    },
    {
      "cell_type": "code",
      "metadata": {
        "id": "koYkwg_BTZsC",
        "colab": {
          "base_uri": "https://localhost:8080/"
        },
        "outputId": "dc2fbe8b-fc93-4d92-d4a4-200f17c4ad42"
      },
      "source": [
        "pi = 3.1415926535897931\n",
        "r= 6.0\n",
        "V= 4.0/3.0*pi* r**3\n",
        "print('The volume of the sphere is: ',V)\n"
      ],
      "execution_count": 91,
      "outputs": [
        {
          "output_type": "stream",
          "name": "stdout",
          "text": [
            "The volume of the sphere is:  904.7786842338603\n"
          ]
        }
      ]
    },
    {
      "cell_type": "markdown",
      "metadata": {
        "id": "cxS2k-m0TZpq"
      },
      "source": [
        "## Write a Python script to find whether a given number (accept from the user) is even or odd"
      ]
    },
    {
      "cell_type": "code",
      "metadata": {
        "id": "YxqikLEBTZnR",
        "colab": {
          "base_uri": "https://localhost:8080/"
        },
        "outputId": "229a5977-eff1-4200-a03a-4212d33a81ba"
      },
      "source": [
        "num = int(input(\"Enter a number: \"))\n",
        "mod = num % 2\n",
        "if mod > 0:\n",
        "    print(\"This is an odd number.\")\n",
        "else:\n",
        "    print(\"This is an even number.\")\n",
        "\n",
        "#https://www.w3resource.com/python-exercises/python-basic-exercise-21.php"
      ],
      "execution_count": 92,
      "outputs": [
        {
          "output_type": "stream",
          "name": "stdout",
          "text": [
            "Enter a number: 1\n",
            "This is an odd number.\n"
          ]
        }
      ]
    },
    {
      "cell_type": "markdown",
      "metadata": {
        "id": "q7Xst4BtTlTz"
      },
      "source": [
        "## Write  Python program to count the number 7 in a given list"
      ]
    },
    {
      "cell_type": "code",
      "metadata": {
        "id": "_Sdm-UxOTlQ7",
        "colab": {
          "base_uri": "https://localhost:8080/"
        },
        "outputId": "e102e456-97ff-4117-82d6-f9e0f954e24c"
      },
      "source": [
        "mylist2 = (1, 3, 7, 8, 7, 5, 4, 6, 8, 5)\n",
        "\n",
        "x = mylist2.count(7)\n",
        "\n",
        "print(x)\n",
        "\n",
        "\n",
        "# we created a list of numbers and used count commaand the find out how many sevens are in the given list. \n",
        "\n",
        "'''\n",
        "#-----another solution-----#\n",
        "\n",
        "def list_count_7(nums):\n",
        "  count = 0 \n",
        "  for num in nums:\n",
        "    if num == 5:\n",
        "      count = count + 1\n",
        "  return count\n",
        "\n",
        "print(list_count_7 ( [1, 3, 7, 8, 7, 5, 4, 6, 8, 5]))\n",
        "\n",
        "\n",
        "'''\n",
        "\n",
        "\n",
        "# we also used def funtion for second solution. "
      ],
      "execution_count": 7,
      "outputs": [
        {
          "output_type": "stream",
          "name": "stdout",
          "text": [
            "2\n"
          ]
        }
      ]
    },
    {
      "cell_type": "markdown",
      "metadata": {
        "id": "IoQ0sPcdTlOU"
      },
      "source": [
        "## A script that will accept the base and height of a triangle and compute the area"
      ]
    },
    {
      "cell_type": "code",
      "metadata": {
        "id": "HSeGw9-HTmYv",
        "colab": {
          "base_uri": "https://localhost:8080/"
        },
        "outputId": "e7217486-e25c-418c-ce35-eee9ab4b11ff"
      },
      "source": [
        "b = int(input(\"Input the base : \"))\n",
        "h = int(input(\"Input the height : \"))\n",
        "\n",
        "area = b*h/2\n",
        "\n",
        "print(\"area = \", area)\n",
        "\n",
        "\n",
        "# we create a var that asking user input as a integer and and we also used math tech solve the problem. "
      ],
      "execution_count": 98,
      "outputs": [
        {
          "output_type": "stream",
          "name": "stdout",
          "text": [
            "Input the base : 20\n",
            "Input the height : 10\n",
            "area =  100.0\n"
          ]
        }
      ]
    },
    {
      "cell_type": "markdown",
      "metadata": {
        "id": "XyAV7VO3nbRG"
      },
      "source": [
        "## A script to sum of three given integers however, if two values are equal sum will be zero"
      ]
    },
    {
      "cell_type": "code",
      "metadata": {
        "colab": {
          "base_uri": "https://localhost:8080/"
        },
        "id": "OiET1PrlovrR",
        "outputId": "6df39348-01dd-4cb2-9d6a-7d6293b389a7"
      },
      "source": [
        "def sum(x, y, z):\n",
        "    if x == y or y == z or x==z:\n",
        "        sum = 0\n",
        "    else:\n",
        "        sum = x + y + z\n",
        "    return sum\n",
        "\n",
        "print(sum(2, 1, 2))\n",
        "print(sum(3, 2, 2))\n",
        "print(sum(2, 2, 2))\n",
        "print(sum(1, 2, 3))\n",
        "\n",
        "\n",
        "#https://www.w3resource.com/python-exercises/python-basic-exercise-33.php"
      ],
      "execution_count": 99,
      "outputs": [
        {
          "output_type": "stream",
          "name": "stdout",
          "text": [
            "0\n",
            "0\n",
            "0\n",
            "6\n"
          ]
        }
      ]
    },
    {
      "cell_type": "markdown",
      "metadata": {
        "id": "sM_W0KYRovmr"
      },
      "source": [
        "## A script to solve (x +y) * (x +y)"
      ]
    },
    {
      "cell_type": "code",
      "metadata": {
        "colab": {
          "base_uri": "https://localhost:8080/"
        },
        "id": "5u3MuO8soviL",
        "outputId": "d389268f-e9f7-42e6-dc26-62b97ad5b979"
      },
      "source": [
        "x, y = 4, 3\n",
        "result = x * x + 2 * x * y + y * y\n",
        "print(\"({} + {}) ^ 2) = {}\".format(x, y, result))"
      ],
      "execution_count": 105,
      "outputs": [
        {
          "output_type": "stream",
          "name": "stdout",
          "text": [
            "(4 + 3) ^ 2) = 49\n"
          ]
        }
      ]
    },
    {
      "cell_type": "markdown",
      "metadata": {
        "id": "5g0JTeFZoveg"
      },
      "source": [
        "## A script to convert the distance (in feet) to inches, yards,and miles"
      ]
    },
    {
      "cell_type": "code",
      "metadata": {
        "colab": {
          "base_uri": "https://localhost:8080/"
        },
        "id": "wVKuqULbovaC",
        "outputId": "388f524c-ecc3-445b-e83c-69d04f024463"
      },
      "source": [
        "d_ft = int(input(\"Input distance in feet: \"))\n",
        "d_inches = d_ft * 12\n",
        "d_yards = d_ft / 3.0\n",
        "d_miles = d_ft / 5280.0\n",
        "\n",
        "print(\"The distance in inches is %i inches.\" % d_inches)\n",
        "print(\"The distance in yards is %.2f yards.\" % d_yards)\n",
        "print(\"The distance in miles is %.2f miles.\" % d_miles)\n",
        "\n",
        "# we asked for user input to calculate ft to inc, yards, and miles. "
      ],
      "execution_count": 106,
      "outputs": [
        {
          "output_type": "stream",
          "name": "stdout",
          "text": [
            "Input distance in feet: 1500\n",
            "The distance in inches is 18000 inches.\n",
            "The distance in yards is 500.00 yards.\n",
            "The distance in miles is 0.28 miles.\n"
          ]
        }
      ]
    },
    {
      "cell_type": "markdown",
      "metadata": {
        "id": "QvRoq2XEovVX"
      },
      "source": [
        "## A Script to calculate the hypotenuse of a right angled triangle"
      ]
    },
    {
      "cell_type": "code",
      "metadata": {
        "colab": {
          "base_uri": "https://localhost:8080/"
        },
        "id": "MZhZal16wgxs",
        "outputId": "0895a6d2-3724-438b-be6d-e969043410c3"
      },
      "source": [
        "from math import sqrt\n",
        "print(\"Input lengths of shorter triangle sides:\")\n",
        "a = float(input(\"a: \"))\n",
        "b = float(input(\"b: \"))\n",
        "c = sqrt(a**2 + b**2)\n",
        "print(\"The length of the hypotenuse is:\", c )\n",
        "\n",
        "#https://www.w3resource.com/python-exercises/python-basic-exercise-60.php"
      ],
      "execution_count": 108,
      "outputs": [
        {
          "output_type": "stream",
          "name": "stdout",
          "text": [
            "Input lengths of shorter triangle sides:\n",
            "a: 3\n",
            "b: 4\n",
            "The length of the hypotenuse is: 5.0\n"
          ]
        }
      ]
    }
  ]
}