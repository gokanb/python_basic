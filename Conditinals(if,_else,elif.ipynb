{
  "nbformat": 4,
  "nbformat_minor": 0,
  "metadata": {
    "colab": {
      "name": "Conditinals(if, else,elif.ipynb",
      "provenance": [],
      "authorship_tag": "ABX9TyNWgqxxuun0OfAT7TXpViT9",
      "include_colab_link": true
    },
    "kernelspec": {
      "name": "python3",
      "display_name": "Python 3"
    },
    "language_info": {
      "name": "python"
    }
  },
  "cells": [
    {
      "cell_type": "markdown",
      "metadata": {
        "id": "view-in-github",
        "colab_type": "text"
      },
      "source": [
        "<a href=\"https://colab.research.google.com/github/gokanb/python_basic/blob/main/Conditinals(if%2C_else%2Celif.ipynb\" target=\"_parent\"><img src=\"https://colab.research.google.com/assets/colab-badge.svg\" alt=\"Open In Colab\"/></a>"
      ]
    },
    {
      "cell_type": "markdown",
      "metadata": {
        "id": "h0CWnp-XoI7N"
      },
      "source": [
        "#Conditionals (if, else, elif )"
      ]
    },
    {
      "cell_type": "code",
      "metadata": {
        "id": "sb0htzFYoS-u"
      },
      "source": [
        "fruits = ['cherry', 'mangos', 'bananas', 'pineapple', 'value']"
      ],
      "execution_count": 1,
      "outputs": []
    },
    {
      "cell_type": "code",
      "metadata": {
        "id": "6eoKBUpRoS8n"
      },
      "source": [
        "fruitDict = dict.fromkeys(fruits, 'in stock')  "
      ],
      "execution_count": 3,
      "outputs": []
    },
    {
      "cell_type": "code",
      "metadata": {
        "colab": {
          "base_uri": "https://localhost:8080/"
        },
        "id": "BFuerdLBoj03",
        "outputId": "16c560db-d160-477e-a761-1da44828f318"
      },
      "source": [
        "fruitDict"
      ],
      "execution_count": 4,
      "outputs": [
        {
          "output_type": "execute_result",
          "data": {
            "text/plain": [
              "{'bananas': 'in stock',\n",
              " 'cherry': 'in stock',\n",
              " 'mangos': 'in stock',\n",
              " 'pineapple': 'in stock',\n",
              " 'value': 'in stock'}"
            ]
          },
          "metadata": {},
          "execution_count": 4
        }
      ]
    },
    {
      "cell_type": "code",
      "metadata": {
        "id": "gbb14F9TonOx"
      },
      "source": [
        ""
      ],
      "execution_count": null,
      "outputs": []
    },
    {
      "cell_type": "code",
      "metadata": {
        "colab": {
          "base_uri": "https://localhost:8080/"
        },
        "id": "hd1-51eWoxxD",
        "outputId": "d7ec4b27-47b4-4c46-e81b-bd1aa7141ee0"
      },
      "source": [
        "if 3 > 2:\n",
        "  print('Hi there')"
      ],
      "execution_count": 5,
      "outputs": [
        {
          "output_type": "stream",
          "name": "stdout",
          "text": [
            "Hi there\n"
          ]
        }
      ]
    },
    {
      "cell_type": "code",
      "metadata": {
        "colab": {
          "base_uri": "https://localhost:8080/"
        },
        "id": "W9d5SLaEoxPT",
        "outputId": "7aef5fc6-8de7-42f9-bf1c-c107a7f7860c"
      },
      "source": [
        "if 4 > 7:\n",
        "  print('Right')\n",
        "else:\n",
        "  print(\"Wrong\")"
      ],
      "execution_count": 9,
      "outputs": [
        {
          "output_type": "stream",
          "name": "stdout",
          "text": [
            "Wrong\n"
          ]
        }
      ]
    },
    {
      "cell_type": "code",
      "metadata": {
        "colab": {
          "base_uri": "https://localhost:8080/"
        },
        "id": "u-d5nWMEoxMW",
        "outputId": "8f2cbbef-5cab-479d-fbfc-b54f8523801c"
      },
      "source": [
        "a = 3 \n",
        "b = 5\n",
        "\n",
        "if a > b:\n",
        "  print('Yes, It is right!!!')\n",
        "else:\n",
        "  print('Try again !!!')  \n"
      ],
      "execution_count": 10,
      "outputs": [
        {
          "output_type": "stream",
          "name": "stdout",
          "text": [
            "Try again !!!\n"
          ]
        }
      ]
    },
    {
      "cell_type": "code",
      "metadata": {
        "colab": {
          "base_uri": "https://localhost:8080/"
        },
        "id": "wL_ga045oxJK",
        "outputId": "5e543a7e-e77c-4c9a-ca4d-22b9aea4e9ce"
      },
      "source": [
        "drink = \"Tea\"\n",
        "\n",
        "if drink == \"Coffee\":\n",
        "  print(\"Humanity runs on Coffee\")\n",
        "else:\n",
        "  print(\"Where there is a Tea, There is a hope!!!!\")"
      ],
      "execution_count": 11,
      "outputs": [
        {
          "output_type": "stream",
          "name": "stdout",
          "text": [
            "Where there is a Tea, There is a hope!!!!\n"
          ]
        }
      ]
    },
    {
      "cell_type": "code",
      "metadata": {
        "colab": {
          "base_uri": "https://localhost:8080/"
        },
        "id": "x4IT97dLoxFE",
        "outputId": "138159fc-60ea-4983-df0e-2d9b1b84f03e"
      },
      "source": [
        "print(\"Options: Coffee, Coke, Tea, Water \")\n",
        "drink = input('What would you like to drink? ')\n",
        "\n",
        "if drink == \"Coffee\":\n",
        "  print(\"Humanity runs on Coffee\")\n",
        "elif drink == \"Water\":\n",
        "  print(\"Water is the soul of Earth !!! \")\n",
        "elif drink == ('Coke'):\n",
        "  print(\"Coke is the new fuel for the Programmer\")\n",
        "else:\n",
        "  print(\"Where there is a Tea, There is a hope !!! \")"
      ],
      "execution_count": 14,
      "outputs": [
        {
          "output_type": "stream",
          "name": "stdout",
          "text": [
            "Options: Coffee, Coke, Tea, Water \n",
            "What would you like to drink? Coke\n",
            "Coke is the new fuel for the Programmer\n"
          ]
        }
      ]
    },
    {
      "cell_type": "code",
      "metadata": {
        "colab": {
          "base_uri": "https://localhost:8080/"
        },
        "id": "yU2S7xJyoxB8",
        "outputId": "afc20898-f629-401a-92c2-d39892d3f620"
      },
      "source": [
        "passwords = ['asdasdasd', 'asdasdasdsa', 'password', 'asdas', ' asdasdsdasdfwq']\n",
        "\n",
        "for p in passwords:\n",
        "  if p == 'password':\n",
        "   print('Correct password')\n",
        "  else:\n",
        "   print(\"Try again\")"
      ],
      "execution_count": 20,
      "outputs": [
        {
          "output_type": "stream",
          "name": "stdout",
          "text": [
            "Try again\n",
            "Try again\n",
            "Correct password\n",
            "Try again\n",
            "Try again\n"
          ]
        }
      ]
    },
    {
      "cell_type": "code",
      "metadata": {
        "id": "KllwtHFwqL0C"
      },
      "source": [
        ""
      ],
      "execution_count": null,
      "outputs": []
    },
    {
      "cell_type": "code",
      "metadata": {
        "id": "DMOKprgQqLwK"
      },
      "source": [
        ""
      ],
      "execution_count": null,
      "outputs": []
    },
    {
      "cell_type": "code",
      "metadata": {
        "id": "Y3jtY3HbqLs7"
      },
      "source": [
        ""
      ],
      "execution_count": null,
      "outputs": []
    }
  ]
}