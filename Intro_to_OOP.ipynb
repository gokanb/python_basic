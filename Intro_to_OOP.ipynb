{
  "nbformat": 4,
  "nbformat_minor": 0,
  "metadata": {
    "colab": {
      "name": "Intro to OOP.ipynb",
      "provenance": [],
      "collapsed_sections": [],
      "authorship_tag": "ABX9TyNG9O99yCgxM4HawgG4oZDj",
      "include_colab_link": true
    },
    "kernelspec": {
      "name": "python3",
      "display_name": "Python 3"
    },
    "language_info": {
      "name": "python"
    }
  },
  "cells": [
    {
      "cell_type": "markdown",
      "metadata": {
        "id": "view-in-github",
        "colab_type": "text"
      },
      "source": [
        "<a href=\"https://colab.research.google.com/github/gokanb/python_basic/blob/main/Intro_to_OOP.ipynb\" target=\"_parent\"><img src=\"https://colab.research.google.com/assets/colab-badge.svg\" alt=\"Open In Colab\"/></a>"
      ]
    },
    {
      "cell_type": "code",
      "metadata": {
        "id": "4WIcxQgZJ6wl"
      },
      "source": [
        "class car : \n",
        "  year = 2021\n",
        "  name = \"BMW\"\n",
        "  model = 'X5'\n",
        "  color = 'Red'"
      ],
      "execution_count": 5,
      "outputs": []
    },
    {
      "cell_type": "code",
      "metadata": {
        "id": "5gcIpKLgJ-fZ"
      },
      "source": [
        "c = car()"
      ],
      "execution_count": 6,
      "outputs": []
    },
    {
      "cell_type": "code",
      "metadata": {
        "colab": {
          "base_uri": "https://localhost:8080/"
        },
        "id": "1Fn9rjYyJ-dB",
        "outputId": "a241adf5-18d2-4cc9-bee4-d0fd0053e08e"
      },
      "source": [
        "type(c)"
      ],
      "execution_count": 7,
      "outputs": [
        {
          "output_type": "execute_result",
          "data": {
            "text/plain": [
              "__main__.car"
            ]
          },
          "metadata": {},
          "execution_count": 7
        }
      ]
    },
    {
      "cell_type": "code",
      "metadata": {
        "colab": {
          "base_uri": "https://localhost:8080/"
        },
        "id": "5v0FfT6jJ-ac",
        "outputId": "690ba4b9-24f2-4f5b-fbd0-d847f6ce6424"
      },
      "source": [
        "print(f'My car made is {c.name}, the color is {c.color}, the year is {c.year}, and the model is {c.model}' )"
      ],
      "execution_count": 8,
      "outputs": [
        {
          "output_type": "stream",
          "name": "stdout",
          "text": [
            "My car made is BMW, the color is Red, the year is 2021, and the model is X5\n"
          ]
        }
      ]
    },
    {
      "cell_type": "code",
      "metadata": {
        "id": "BKEmcmIBJ-YP"
      },
      "source": [
        ""
      ],
      "execution_count": null,
      "outputs": []
    },
    {
      "cell_type": "code",
      "metadata": {
        "id": "0BJVIHvNJ-V2"
      },
      "source": [
        "class animal:\n",
        "  name = \"Dog\"\n",
        "  color = \"Brown\"\n",
        "  age = 10"
      ],
      "execution_count": 9,
      "outputs": []
    },
    {
      "cell_type": "code",
      "metadata": {
        "id": "Cs28fy1cMCUN"
      },
      "source": [
        "pitbull = animal"
      ],
      "execution_count": 12,
      "outputs": []
    },
    {
      "cell_type": "code",
      "metadata": {
        "colab": {
          "base_uri": "https://localhost:8080/"
        },
        "id": "n5UBbeEqMEY1",
        "outputId": "f84845c9-2757-4e15-bfad-77593ca499d0"
      },
      "source": [
        "print(f'My pitbull a {pitbull.name} and he is {pitbull.age} years old' )"
      ],
      "execution_count": 13,
      "outputs": [
        {
          "output_type": "stream",
          "name": "stdout",
          "text": [
            "My pitbull a Dog and he is 10 years old\n"
          ]
        }
      ]
    },
    {
      "cell_type": "code",
      "metadata": {
        "id": "dC-KanHMMVh6"
      },
      "source": [
        ""
      ],
      "execution_count": null,
      "outputs": []
    },
    {
      "cell_type": "code",
      "metadata": {
        "id": "iSrmxJpfMbc5"
      },
      "source": [
        "class sunglasses:\n",
        "  name = \"Prada\"\n",
        "  make = \"Italy\"\n",
        "  year = 2021\n",
        "  createdby = \"Francisco\""
      ],
      "execution_count": 15,
      "outputs": []
    },
    {
      "cell_type": "code",
      "metadata": {
        "id": "5GqNBQbmMbZk"
      },
      "source": [
        "s = sunglasses"
      ],
      "execution_count": 16,
      "outputs": []
    },
    {
      "cell_type": "code",
      "metadata": {
        "colab": {
          "base_uri": "https://localhost:8080/"
        },
        "id": "JtpxthBmMbWD",
        "outputId": "34c9fe84-a78b-4c4f-85e9-11bf2475a05f"
      },
      "source": [
        "print(f\"My sunglass a {s.name}, created by {s.createdby}, in year {s.year}, made in {s.make} \")"
      ],
      "execution_count": 19,
      "outputs": [
        {
          "output_type": "stream",
          "name": "stdout",
          "text": [
            "My sunglass a Prada, created by Francisco, in year 2021, made in Italy \n"
          ]
        }
      ]
    },
    {
      "cell_type": "code",
      "metadata": {
        "id": "Axjc3LjgN3pZ"
      },
      "source": [
        ""
      ],
      "execution_count": null,
      "outputs": []
    },
    {
      "cell_type": "code",
      "metadata": {
        "id": "kWynCPWkP9Id"
      },
      "source": [
        "class Car:\n",
        "  def __init__(self, name, model, year, color):\n",
        "    self.name = name\n",
        "    self.model = model\n",
        "    self.year = year\n",
        "    self.color = color\n"
      ],
      "execution_count": 32,
      "outputs": []
    },
    {
      "cell_type": "code",
      "metadata": {
        "id": "wen17MDhP9FA"
      },
      "source": [
        "c = Car('BMW', 'X5', 2022, 'Blue')"
      ],
      "execution_count": 33,
      "outputs": []
    },
    {
      "cell_type": "code",
      "metadata": {
        "colab": {
          "base_uri": "https://localhost:8080/"
        },
        "id": "Te_zGeWiP9Bf",
        "outputId": "552ff40f-988e-4b60-b383-cc2e7b957f11"
      },
      "source": [
        "print(c.name, c.color, c.year)"
      ],
      "execution_count": 34,
      "outputs": [
        {
          "output_type": "stream",
          "name": "stdout",
          "text": [
            "BMW Blue 2022\n"
          ]
        }
      ]
    },
    {
      "cell_type": "code",
      "metadata": {
        "id": "YyJljb24P8-L"
      },
      "source": [
        "class Car2:\n",
        "  pass"
      ],
      "execution_count": 35,
      "outputs": []
    },
    {
      "cell_type": "code",
      "metadata": {
        "colab": {
          "base_uri": "https://localhost:8080/"
        },
        "id": "IYgSYIAWS8yJ",
        "outputId": "845b4cc6-017a-4a22-f9df-ce7b073ee2c9"
      },
      "source": [
        "c = Car2()\n",
        "c.name = \"Jeep\"\n",
        "c.model = \"Cherokee\"\n",
        "print(c.name, c.model)"
      ],
      "execution_count": 39,
      "outputs": [
        {
          "output_type": "stream",
          "name": "stdout",
          "text": [
            "Jeep Cherokee\n"
          ]
        }
      ]
    },
    {
      "cell_type": "code",
      "metadata": {
        "id": "e_gNONuqTHkJ"
      },
      "source": [
        "class Car3:\n",
        "  '''This is a instance method'''\n",
        "  model = 2022\n",
        "  def cartype(self):\n",
        "    print('Sports Car')"
      ],
      "execution_count": 49,
      "outputs": []
    },
    {
      "cell_type": "code",
      "metadata": {
        "id": "BLeLE7MqTLcM"
      },
      "source": [
        "c = Car3()\n"
      ],
      "execution_count": 50,
      "outputs": []
    },
    {
      "cell_type": "code",
      "metadata": {
        "colab": {
          "base_uri": "https://localhost:8080/"
        },
        "id": "kBg5tHCGU9gF",
        "outputId": "83852d3e-d1ef-4816-ae81-a56dd18b0c57"
      },
      "source": [
        "print(c.model)"
      ],
      "execution_count": 51,
      "outputs": [
        {
          "output_type": "stream",
          "name": "stdout",
          "text": [
            "2022\n"
          ]
        }
      ]
    },
    {
      "cell_type": "code",
      "metadata": {
        "colab": {
          "base_uri": "https://localhost:8080/"
        },
        "id": "aRG0QOyVVKBa",
        "outputId": "7b084fc3-b4e5-4479-bebd-4469bb837f16"
      },
      "source": [
        "print(Car3.__doc__)"
      ],
      "execution_count": 52,
      "outputs": [
        {
          "output_type": "stream",
          "name": "stdout",
          "text": [
            "This is a instance method\n"
          ]
        }
      ]
    },
    {
      "cell_type": "code",
      "metadata": {
        "id": "srmXndJVVTGk"
      },
      "source": [
        "class Car4:\n",
        "  '''This is the iteration of the car class'''\n",
        "  def __init__(self, make, color): \n",
        "    self.make = make \n",
        "    self.color = color\n",
        "\n",
        "  def car_detail(self):\n",
        "    print('Name of car is', self.make)\n",
        "    print('Color of car is', self.color)\n",
        "    \n",
        "# We create class of car and used def method to initialize name and color and then we use another def method for car details. "
      ],
      "execution_count": 77,
      "outputs": []
    },
    {
      "cell_type": "code",
      "metadata": {
        "id": "9nZtUEAKXlBc"
      },
      "source": [
        "cr = Car4(\"Jeep\", \"White\")\n",
        "# # we define name and model.  "
      ],
      "execution_count": 82,
      "outputs": []
    },
    {
      "cell_type": "code",
      "metadata": {
        "colab": {
          "base_uri": "https://localhost:8080/"
        },
        "id": "BntNKyxqX5Br",
        "outputId": "bfefed9e-305e-4e0b-efe3-ed2a2e649b8e"
      },
      "source": [
        "cr.car_detail()\n",
        "# we printed out car detail."
      ],
      "execution_count": 83,
      "outputs": [
        {
          "output_type": "stream",
          "name": "stdout",
          "text": [
            "Name of car is Jeep\n",
            "Color of car is White\n"
          ]
        }
      ]
    },
    {
      "cell_type": "code",
      "metadata": {
        "id": "q5EpKaHYX64f"
      },
      "source": [
        "crv = Car4('Honda', 'Red')"
      ],
      "execution_count": 84,
      "outputs": []
    },
    {
      "cell_type": "code",
      "metadata": {
        "colab": {
          "base_uri": "https://localhost:8080/"
        },
        "id": "f5rI0o-_cVtR",
        "outputId": "ef7633e2-53a0-46fb-99e8-387f6d343333"
      },
      "source": [
        "cr.car_detail()"
      ],
      "execution_count": 85,
      "outputs": [
        {
          "output_type": "stream",
          "name": "stdout",
          "text": [
            "Name of car is Jeep\n",
            "Color of car is White\n"
          ]
        }
      ]
    },
    {
      "cell_type": "code",
      "metadata": {
        "id": "WCdCvuXSfItQ"
      },
      "source": [
        ""
      ],
      "execution_count": null,
      "outputs": []
    },
    {
      "cell_type": "code",
      "metadata": {
        "id": "vwsLv7lohyW9"
      },
      "source": [
        ""
      ],
      "execution_count": null,
      "outputs": []
    },
    {
      "cell_type": "markdown",
      "metadata": {
        "id": "TRtdTfkWhySb"
      },
      "source": [
        "## Circle Class Example"
      ]
    },
    {
      "cell_type": "code",
      "metadata": {
        "id": "48-H_cAPhyOI"
      },
      "source": [
        "class Circle():\n",
        "  pi = 3.14\n",
        "\n",
        "  # When the circle class gets instantiated, the radius is default to 1\n",
        "  def __init__(self, radius=1):\n",
        "    self.radius = radius\n",
        "\n",
        "  # This method calculates the area.\n",
        "  def area(self):\n",
        "    return self.radius * self.radius * Circle.pi\n",
        "\n",
        "  # This method is used to reset the radius\n",
        "  def setRadius(self, radius):\n",
        "    self.radius = radius \n",
        "\n",
        "  #This method is used for getting the radius (same as just calling .radius)\n",
        "  def getRadius(self):\n",
        "    return self.radius"
      ],
      "execution_count": 92,
      "outputs": []
    },
    {
      "cell_type": "code",
      "metadata": {
        "id": "bGlcjckNhyKE"
      },
      "source": [
        "circ = Circle()"
      ],
      "execution_count": 93,
      "outputs": []
    },
    {
      "cell_type": "code",
      "metadata": {
        "colab": {
          "base_uri": "https://localhost:8080/"
        },
        "id": "7syBSgu6hx4o",
        "outputId": "398cc1f0-6296-4912-f39c-1e5452393624"
      },
      "source": [
        "circ.area()"
      ],
      "execution_count": 94,
      "outputs": [
        {
          "output_type": "execute_result",
          "data": {
            "text/plain": [
              "3.14"
            ]
          },
          "metadata": {},
          "execution_count": 94
        }
      ]
    },
    {
      "cell_type": "code",
      "metadata": {
        "id": "DIQKEjq0kI69"
      },
      "source": [
        "circ.setRadius(5)"
      ],
      "execution_count": 95,
      "outputs": []
    },
    {
      "cell_type": "code",
      "metadata": {
        "colab": {
          "base_uri": "https://localhost:8080/"
        },
        "id": "7bEb2LqVkMhD",
        "outputId": "4c101436-85bb-422e-bc87-7e87acb30e85"
      },
      "source": [
        "circ.area()"
      ],
      "execution_count": 96,
      "outputs": [
        {
          "output_type": "execute_result",
          "data": {
            "text/plain": [
              "78.5"
            ]
          },
          "metadata": {},
          "execution_count": 96
        }
      ]
    },
    {
      "cell_type": "code",
      "metadata": {
        "colab": {
          "base_uri": "https://localhost:8080/"
        },
        "id": "r2WHgIiYkUbI",
        "outputId": "01d5718b-4907-4bdf-8d9f-aee283f0ec47"
      },
      "source": [
        "print(f'The radius of my circle is {circ.getRadius()}, and the are is {circ.area()}')"
      ],
      "execution_count": 97,
      "outputs": [
        {
          "output_type": "stream",
          "name": "stdout",
          "text": [
            "The radius of my circle is 5, and the are is 78.5\n"
          ]
        }
      ]
    },
    {
      "cell_type": "code",
      "metadata": {
        "id": "wezutiDakljD"
      },
      "source": [
        "class square():\n",
        "  x = size\n",
        "\n",
        "  def area(self):\n",
        "    return self.square * self.square \n"
      ],
      "execution_count": null,
      "outputs": []
    }
  ]
}