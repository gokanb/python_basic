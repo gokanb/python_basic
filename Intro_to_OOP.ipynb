{
  "nbformat": 4,
  "nbformat_minor": 0,
  "metadata": {
    "colab": {
      "name": "Intro to OOP.ipynb",
      "provenance": [],
      "collapsed_sections": [],
      "authorship_tag": "ABX9TyP8BFjwGVZvY0mPpRzmbrfV",
      "include_colab_link": true
    },
    "kernelspec": {
      "name": "python3",
      "display_name": "Python 3"
    },
    "language_info": {
      "name": "python"
    }
  },
  "cells": [
    {
      "cell_type": "markdown",
      "metadata": {
        "id": "view-in-github",
        "colab_type": "text"
      },
      "source": [
        "<a href=\"https://colab.research.google.com/github/gokanb/python_basic/blob/main/Intro_to_OOP.ipynb\" target=\"_parent\"><img src=\"https://colab.research.google.com/assets/colab-badge.svg\" alt=\"Open In Colab\"/></a>"
      ]
    },
    {
      "cell_type": "code",
      "metadata": {
        "id": "4WIcxQgZJ6wl"
      },
      "source": [
        "class car : \n",
        "  year = 2021\n",
        "  name = \"BMW\"\n",
        "  model = 'X5'\n",
        "  color = 'Red'"
      ],
      "execution_count": 5,
      "outputs": []
    },
    {
      "cell_type": "code",
      "metadata": {
        "id": "5gcIpKLgJ-fZ"
      },
      "source": [
        "c = car()"
      ],
      "execution_count": 6,
      "outputs": []
    },
    {
      "cell_type": "code",
      "metadata": {
        "colab": {
          "base_uri": "https://localhost:8080/"
        },
        "id": "1Fn9rjYyJ-dB",
        "outputId": "a241adf5-18d2-4cc9-bee4-d0fd0053e08e"
      },
      "source": [
        "type(c)"
      ],
      "execution_count": 7,
      "outputs": [
        {
          "output_type": "execute_result",
          "data": {
            "text/plain": [
              "__main__.car"
            ]
          },
          "metadata": {},
          "execution_count": 7
        }
      ]
    },
    {
      "cell_type": "code",
      "metadata": {
        "colab": {
          "base_uri": "https://localhost:8080/"
        },
        "id": "5v0FfT6jJ-ac",
        "outputId": "690ba4b9-24f2-4f5b-fbd0-d847f6ce6424"
      },
      "source": [
        "print(f'My car made is {c.name}, the color is {c.color}, the year is {c.year}, and the model is {c.model}' )"
      ],
      "execution_count": 8,
      "outputs": [
        {
          "output_type": "stream",
          "name": "stdout",
          "text": [
            "My car made is BMW, the color is Red, the year is 2021, and the model is X5\n"
          ]
        }
      ]
    },
    {
      "cell_type": "code",
      "metadata": {
        "id": "BKEmcmIBJ-YP"
      },
      "source": [
        ""
      ],
      "execution_count": null,
      "outputs": []
    },
    {
      "cell_type": "code",
      "metadata": {
        "id": "0BJVIHvNJ-V2"
      },
      "source": [
        "class animal:\n",
        "  name = \"Dog\"\n",
        "  color = \"Brown\"\n",
        "  age = 10"
      ],
      "execution_count": 9,
      "outputs": []
    },
    {
      "cell_type": "code",
      "metadata": {
        "id": "Cs28fy1cMCUN"
      },
      "source": [
        "pitbull = animal"
      ],
      "execution_count": 12,
      "outputs": []
    },
    {
      "cell_type": "code",
      "metadata": {
        "colab": {
          "base_uri": "https://localhost:8080/"
        },
        "id": "n5UBbeEqMEY1",
        "outputId": "f84845c9-2757-4e15-bfad-77593ca499d0"
      },
      "source": [
        "print(f'My pitbull a {pitbull.name} and he is {pitbull.age} years old' )"
      ],
      "execution_count": 13,
      "outputs": [
        {
          "output_type": "stream",
          "name": "stdout",
          "text": [
            "My pitbull a Dog and he is 10 years old\n"
          ]
        }
      ]
    },
    {
      "cell_type": "code",
      "metadata": {
        "id": "dC-KanHMMVh6"
      },
      "source": [
        ""
      ],
      "execution_count": null,
      "outputs": []
    },
    {
      "cell_type": "code",
      "metadata": {
        "id": "iSrmxJpfMbc5"
      },
      "source": [
        "class sunglasses:\n",
        "  name = \"Prada\"\n",
        "  make = \"Italy\"\n",
        "  year = 2021\n",
        "  createdby = \"Francisco\""
      ],
      "execution_count": 15,
      "outputs": []
    },
    {
      "cell_type": "code",
      "metadata": {
        "id": "5GqNBQbmMbZk"
      },
      "source": [
        "s = sunglasses"
      ],
      "execution_count": 16,
      "outputs": []
    },
    {
      "cell_type": "code",
      "metadata": {
        "colab": {
          "base_uri": "https://localhost:8080/"
        },
        "id": "JtpxthBmMbWD",
        "outputId": "34c9fe84-a78b-4c4f-85e9-11bf2475a05f"
      },
      "source": [
        "print(f\"My sunglass a {s.name}, created by {s.createdby}, in year {s.year}, made in {s.make} \")"
      ],
      "execution_count": 19,
      "outputs": [
        {
          "output_type": "stream",
          "name": "stdout",
          "text": [
            "My sunglass a Prada, created by Francisco, in year 2021, made in Italy \n"
          ]
        }
      ]
    },
    {
      "cell_type": "code",
      "metadata": {
        "id": "Axjc3LjgN3pZ"
      },
      "source": [
        ""
      ],
      "execution_count": null,
      "outputs": []
    },
    {
      "cell_type": "code",
      "metadata": {
        "id": "kWynCPWkP9Id"
      },
      "source": [
        "class Car:\n",
        "  def __init__(self, name, model, year, color):\n",
        "    self.name = name\n",
        "    self.model = model\n",
        "    self.year = year\n",
        "    self.color = color\n"
      ],
      "execution_count": 32,
      "outputs": []
    },
    {
      "cell_type": "code",
      "metadata": {
        "id": "wen17MDhP9FA"
      },
      "source": [
        "c = Car('BMW', 'X5', 2022, 'Blue')"
      ],
      "execution_count": 33,
      "outputs": []
    },
    {
      "cell_type": "code",
      "metadata": {
        "colab": {
          "base_uri": "https://localhost:8080/"
        },
        "id": "Te_zGeWiP9Bf",
        "outputId": "552ff40f-988e-4b60-b383-cc2e7b957f11"
      },
      "source": [
        "print(c.name, c.color, c.year)"
      ],
      "execution_count": 34,
      "outputs": [
        {
          "output_type": "stream",
          "name": "stdout",
          "text": [
            "BMW Blue 2022\n"
          ]
        }
      ]
    },
    {
      "cell_type": "code",
      "metadata": {
        "id": "YyJljb24P8-L"
      },
      "source": [
        "class Car2:\n",
        "  pass"
      ],
      "execution_count": 35,
      "outputs": []
    },
    {
      "cell_type": "code",
      "metadata": {
        "colab": {
          "base_uri": "https://localhost:8080/"
        },
        "id": "IYgSYIAWS8yJ",
        "outputId": "845b4cc6-017a-4a22-f9df-ce7b073ee2c9"
      },
      "source": [
        "c = Car2()\n",
        "c.name = \"Jeep\"\n",
        "c.model = \"Cherokee\"\n",
        "print(c.name, c.model)"
      ],
      "execution_count": 39,
      "outputs": [
        {
          "output_type": "stream",
          "name": "stdout",
          "text": [
            "Jeep Cherokee\n"
          ]
        }
      ]
    },
    {
      "cell_type": "code",
      "metadata": {
        "id": "e_gNONuqTHkJ"
      },
      "source": [
        "class Car3:\n",
        "  '''This is a instance method'''\n",
        "  model = 2022\n",
        "  def cartype(self):\n",
        "    print('Sports Car')"
      ],
      "execution_count": 49,
      "outputs": []
    },
    {
      "cell_type": "code",
      "metadata": {
        "id": "BLeLE7MqTLcM"
      },
      "source": [
        "c = Car3()\n"
      ],
      "execution_count": 50,
      "outputs": []
    },
    {
      "cell_type": "code",
      "metadata": {
        "colab": {
          "base_uri": "https://localhost:8080/"
        },
        "id": "kBg5tHCGU9gF",
        "outputId": "83852d3e-d1ef-4816-ae81-a56dd18b0c57"
      },
      "source": [
        "print(c.model)"
      ],
      "execution_count": 51,
      "outputs": [
        {
          "output_type": "stream",
          "name": "stdout",
          "text": [
            "2022\n"
          ]
        }
      ]
    },
    {
      "cell_type": "code",
      "metadata": {
        "colab": {
          "base_uri": "https://localhost:8080/"
        },
        "id": "aRG0QOyVVKBa",
        "outputId": "7b084fc3-b4e5-4479-bebd-4469bb837f16"
      },
      "source": [
        "print(Car3.__doc__)"
      ],
      "execution_count": 52,
      "outputs": [
        {
          "output_type": "stream",
          "name": "stdout",
          "text": [
            "This is a instance method\n"
          ]
        }
      ]
    },
    {
      "cell_type": "code",
      "metadata": {
        "id": "srmXndJVVTGk"
      },
      "source": [
        "class Car4:\n",
        "  '''This is the iteration of the car class'''\n",
        "  def __init__(self, name, color):\n",
        "    self.name = name\n",
        "    self.color = color\n",
        "\n",
        "  def car_detail(self):\n",
        "    print('Name of car', self.name)\n",
        "    print('Color of car', self.color)\n",
        "    \n",
        "# We create class of car and used def method to initialize name and color and then we use another def method for car details. "
      ],
      "execution_count": 55,
      "outputs": []
    },
    {
      "cell_type": "code",
      "metadata": {
        "id": "9nZtUEAKXlBc"
      },
      "source": [
        "cr = Car4(\"Jeep\", \"White\")\n",
        "# we define name and model. "
      ],
      "execution_count": 56,
      "outputs": []
    },
    {
      "cell_type": "code",
      "metadata": {
        "colab": {
          "base_uri": "https://localhost:8080/"
        },
        "id": "BntNKyxqX5Br",
        "outputId": "04208bc8-64bd-49f1-8711-e3613da8faae"
      },
      "source": [
        "cr.car_detail()\n",
        "# we printed out car detail."
      ],
      "execution_count": 57,
      "outputs": [
        {
          "output_type": "stream",
          "name": "stdout",
          "text": [
            "Name of car Jeep\n",
            "Color of car White\n"
          ]
        }
      ]
    },
    {
      "cell_type": "code",
      "metadata": {
        "id": "q5EpKaHYX64f"
      },
      "source": [
        ""
      ],
      "execution_count": null,
      "outputs": []
    }
  ]
}