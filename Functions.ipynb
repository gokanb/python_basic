{
  "nbformat": 4,
  "nbformat_minor": 0,
  "metadata": {
    "colab": {
      "name": "Functions.ipynb",
      "provenance": [],
      "collapsed_sections": [
        "K9_ymyBctdEg"
      ],
      "authorship_tag": "ABX9TyN4EldYQcvdydER2fI0BkC3",
      "include_colab_link": true
    },
    "kernelspec": {
      "name": "python3",
      "display_name": "Python 3"
    },
    "language_info": {
      "name": "python"
    }
  },
  "cells": [
    {
      "cell_type": "markdown",
      "metadata": {
        "id": "view-in-github",
        "colab_type": "text"
      },
      "source": [
        "<a href=\"https://colab.research.google.com/github/gokanb/python_basic/blob/main/Functions.ipynb\" target=\"_parent\"><img src=\"https://colab.research.google.com/assets/colab-badge.svg\" alt=\"Open In Colab\"/></a>"
      ]
    },
    {
      "cell_type": "markdown",
      "metadata": {
        "id": "VHD4VZ1ZKt9g"
      },
      "source": [
        "# Functions"
      ]
    },
    {
      "cell_type": "markdown",
      "metadata": {
        "id": "0TylCe7ymgGt"
      },
      "source": [
        "## Defining a funtion.\n"
      ]
    },
    {
      "cell_type": "code",
      "metadata": {
        "id": "R0AqOv_BKt5p"
      },
      "source": [
        "\n",
        "def my_function():\n",
        "  print('Hello there')"
      ],
      "execution_count": 1,
      "outputs": []
    },
    {
      "cell_type": "code",
      "metadata": {
        "colab": {
          "base_uri": "https://localhost:8080/"
        },
        "id": "nOswyg4kKt1S",
        "outputId": "513d46e1-95f0-456d-b611-5ab32ee3831f"
      },
      "source": [
        "my_function()"
      ],
      "execution_count": 2,
      "outputs": [
        {
          "output_type": "stream",
          "name": "stdout",
          "text": [
            "Hello there\n"
          ]
        }
      ]
    },
    {
      "cell_type": "code",
      "metadata": {
        "id": "iHpr6TeAKtww"
      },
      "source": [
        "def my_function2(): \n",
        "  '''\n",
        "Created by  : Gokan Bektas\n",
        "Input       : None\n",
        "Outut       : It prints 'Hello'\n",
        "  '''\n",
        "  print('Hello')"
      ],
      "execution_count": 8,
      "outputs": []
    },
    {
      "cell_type": "code",
      "metadata": {
        "colab": {
          "base_uri": "https://localhost:8080/"
        },
        "id": "AbMTZTbYKtto",
        "outputId": "be9929e2-99c8-4452-ec1b-6b1aa90df90e"
      },
      "source": [
        "my_function2()"
      ],
      "execution_count": 7,
      "outputs": [
        {
          "output_type": "stream",
          "name": "stdout",
          "text": [
            "Hello\n"
          ]
        }
      ]
    },
    {
      "cell_type": "code",
      "metadata": {
        "id": "nxSVaJK0KtqO"
      },
      "source": [
        "def greeting(name):\n",
        "  print(f'Hi there {name} ')"
      ],
      "execution_count": 16,
      "outputs": []
    },
    {
      "cell_type": "code",
      "metadata": {
        "colab": {
          "base_uri": "https://localhost:8080/"
        },
        "id": "BYe6rpN_Ktng",
        "outputId": "07fe3520-c136-4c26-ab50-e8b5de7811ef"
      },
      "source": [
        "greeting('Gokan')"
      ],
      "execution_count": 17,
      "outputs": [
        {
          "output_type": "stream",
          "name": "stdout",
          "text": [
            "Hi there Gokan \n"
          ]
        }
      ]
    },
    {
      "cell_type": "code",
      "metadata": {
        "id": "3V35P5lXKtkk"
      },
      "source": [
        "def greeting(name='Bektas'):\n",
        "  print(f'Hi there {name} ')"
      ],
      "execution_count": 18,
      "outputs": []
    },
    {
      "cell_type": "code",
      "metadata": {
        "colab": {
          "base_uri": "https://localhost:8080/"
        },
        "id": "YBVuHRxzKtha",
        "outputId": "1bd2fae4-05cb-4a63-957c-9ad5e39b39c7"
      },
      "source": [
        "greeting('Tim')"
      ],
      "execution_count": 20,
      "outputs": [
        {
          "output_type": "stream",
          "name": "stdout",
          "text": [
            "Hi there Tim \n"
          ]
        }
      ]
    },
    {
      "cell_type": "code",
      "metadata": {
        "id": "u6pSLFA5KteO"
      },
      "source": [
        "def greeting(name='Bektas'):\n",
        "  return f'Hi there {name} '"
      ],
      "execution_count": 21,
      "outputs": []
    },
    {
      "cell_type": "code",
      "metadata": {
        "colab": {
          "base_uri": "https://localhost:8080/",
          "height": 37
        },
        "id": "vTUSB7VqIeSJ",
        "outputId": "2379e7d3-fe38-41f0-d5ea-127b0e0c26ba"
      },
      "source": [
        "greeting()"
      ],
      "execution_count": 22,
      "outputs": [
        {
          "output_type": "execute_result",
          "data": {
            "application/vnd.google.colaboratory.intrinsic+json": {
              "type": "string"
            },
            "text/plain": [
              "'Hi there Bektas '"
            ]
          },
          "metadata": {},
          "execution_count": 22
        }
      ]
    },
    {
      "cell_type": "code",
      "metadata": {
        "id": "GNdxvdyeIePX"
      },
      "source": [
        "def add( a, b, c, ):\n",
        "  return a + b + c"
      ],
      "execution_count": 30,
      "outputs": []
    },
    {
      "cell_type": "code",
      "metadata": {
        "colab": {
          "base_uri": "https://localhost:8080/"
        },
        "id": "oJ0Lz3V_IeMt",
        "outputId": "5b4578d6-b7a6-4364-fe93-0d3d7ce08b24"
      },
      "source": [
        "add(3,4,5)"
      ],
      "execution_count": 31,
      "outputs": [
        {
          "output_type": "execute_result",
          "data": {
            "text/plain": [
              "12"
            ]
          },
          "metadata": {},
          "execution_count": 31
        }
      ]
    },
    {
      "cell_type": "code",
      "metadata": {
        "id": "2exwIyJjIeKW"
      },
      "source": [
        "# create a funtion for :\n",
        "'''\n",
        "subtraction\n",
        "multiplication\n",
        "division\n",
        "exponent\n",
        "'''"
      ],
      "execution_count": null,
      "outputs": []
    },
    {
      "cell_type": "code",
      "metadata": {
        "colab": {
          "base_uri": "https://localhost:8080/",
          "height": 88
        },
        "id": "2Xt8Gx9SIeH-",
        "outputId": "46b14a3f-d919-4be4-d934-356f97486bb7"
      },
      "source": [
        "def my_sub(x = 1, y = 2, z = 3):\n",
        "  '''\n",
        "Created by  : Gokan Bektas\n",
        "Input       : This function takes three number parameters.\n",
        "Output       : This function returns the subtraction of three given number parameter.\n",
        "  '''\n",
        "  int(input('Enter a number for x'))\n",
        "  int(input('Enter a number for y'))\n",
        "  int(input('Enter a number for z'))\n",
        "  return f'The sub of x, y, and z, is: {x - y - z}'\n",
        "my_sub() "
      ],
      "execution_count": 41,
      "outputs": [
        {
          "name": "stdout",
          "output_type": "stream",
          "text": [
            "Enter a number for x15\n",
            "Enter a number for y5\n",
            "Enter a number for z2\n"
          ]
        },
        {
          "output_type": "execute_result",
          "data": {
            "application/vnd.google.colaboratory.intrinsic+json": {
              "type": "string"
            },
            "text/plain": [
              "'The sub of x, y, and z, is: -4'"
            ]
          },
          "metadata": {},
          "execution_count": 41
        }
      ]
    },
    {
      "cell_type": "code",
      "metadata": {
        "colab": {
          "base_uri": "https://localhost:8080/"
        },
        "id": "WmH5L11tIeFh",
        "outputId": "f48ed2d8-0e66-44d4-883b-aece86fb2722"
      },
      "source": [
        "def my_mult(x = 1, y = 2, z = 3):\n",
        "  '''\n",
        "  Created by  : Gokan Bektas\n",
        "  Input       : This function takes three number parameters.\n",
        "  Output       : This function returns the multipolication of three given number parameter.\n",
        "  '''\n",
        "  return x * y * z\n",
        "my_mult(10, 5 , 5)\n"
      ],
      "execution_count": 50,
      "outputs": [
        {
          "output_type": "execute_result",
          "data": {
            "text/plain": [
              "250"
            ]
          },
          "metadata": {},
          "execution_count": 50
        }
      ]
    },
    {
      "cell_type": "code",
      "metadata": {
        "id": "fDL5wzbDIeC4"
      },
      "source": [
        "def my_div(x = 1, y = 2):\n",
        "  '''\n",
        "  Created by  : Gokan Bektas\n",
        "  Input       : This function takes two number parameters.\n",
        "  Output       : This function returns the division of two given number parameter.\n",
        "  '''\n",
        "  return x / y \n",
        "\n"
      ],
      "execution_count": 57,
      "outputs": []
    },
    {
      "cell_type": "code",
      "metadata": {
        "colab": {
          "base_uri": "https://localhost:8080/"
        },
        "id": "V1rCuysIIFwI",
        "outputId": "25c5062e-4d30-4d34-b426-27ccf26955f3"
      },
      "source": [
        "my_div(100, 5 )"
      ],
      "execution_count": 58,
      "outputs": [
        {
          "output_type": "execute_result",
          "data": {
            "text/plain": [
              "20.0"
            ]
          },
          "metadata": {},
          "execution_count": 58
        }
      ]
    },
    {
      "cell_type": "code",
      "metadata": {
        "id": "A1wpNcoWWCN_"
      },
      "source": [
        "def my_exp(x = 1, y = 2):\n",
        "  '''\n",
        "  Created by  : Gokan Bektas\n",
        "  Input       : This function takes two number parameters.\n",
        "  Output       : This function returns the exponent of two given number parameter.\n",
        "  '''\n",
        "  return x ** y\n"
      ],
      "execution_count": 59,
      "outputs": []
    },
    {
      "cell_type": "code",
      "metadata": {
        "colab": {
          "base_uri": "https://localhost:8080/"
        },
        "id": "iyFGOcDYWsmc",
        "outputId": "c5d84831-e81e-4b18-8213-ff342e1bf562"
      },
      "source": [
        "my_exp(5, 2)"
      ],
      "execution_count": 61,
      "outputs": [
        {
          "output_type": "execute_result",
          "data": {
            "text/plain": [
              "25"
            ]
          },
          "metadata": {},
          "execution_count": 61
        }
      ]
    },
    {
      "cell_type": "code",
      "metadata": {
        "colab": {
          "base_uri": "https://localhost:8080/"
        },
        "id": "c2y3-gUUW8D3",
        "outputId": "3319773a-1295-4c1b-cd9d-00038a69bb89"
      },
      "source": [
        "type(add)"
      ],
      "execution_count": 63,
      "outputs": [
        {
          "output_type": "execute_result",
          "data": {
            "text/plain": [
              "function"
            ]
          },
          "metadata": {},
          "execution_count": 63
        }
      ]
    },
    {
      "cell_type": "code",
      "metadata": {
        "id": "11bRH9IMZy3Q"
      },
      "source": [
        "def even_number(list):\n",
        "  \n",
        "  '''\n",
        "  Created by  : Gokan Bektas\n",
        "  Input       : This function takes a list of digits.\n",
        "  Output      : This function returns a list of even numbers. \n",
        "\n",
        "  '''\n",
        "  \n",
        "  num = [ ]\n",
        "  for x in list:\n",
        "    if x % 2 == 0:\n",
        "      num.append(x)\n",
        "  return(num)\n"
      ],
      "execution_count": 66,
      "outputs": []
    },
    {
      "cell_type": "code",
      "metadata": {
        "colab": {
          "base_uri": "https://localhost:8080/"
        },
        "id": "pDCcK0XebGV3",
        "outputId": "2ae47d3c-b955-4c7e-f641-47d025ad3b4b"
      },
      "source": [
        "even_number([34, 5, 7, 32, 45, 66, 22, 36, 1923])"
      ],
      "execution_count": 68,
      "outputs": [
        {
          "output_type": "execute_result",
          "data": {
            "text/plain": [
              "[34, 32, 66, 22, 36]"
            ]
          },
          "metadata": {},
          "execution_count": 68
        }
      ]
    },
    {
      "cell_type": "code",
      "metadata": {
        "id": "JaPdmiNlbMuM"
      },
      "source": [
        "# Write a function to retun odd numbers\n",
        "# write a runction to return nubers divisible by 3."
      ],
      "execution_count": null,
      "outputs": []
    },
    {
      "cell_type": "code",
      "metadata": {
        "id": "5TY4KADPfUsQ"
      },
      "source": [
        "def odd_number(lst):\n",
        "  \n",
        "  '''\n",
        "  Created by  : Gokan Bektas\n",
        "  Input       : This function takes a list of digits.\n",
        "  Output      : This function returns a list of odd numbers. \n",
        "\n",
        "  '''\n",
        "  \n",
        "  num = [ ]\n",
        "  for x in lst:\n",
        "    if x % 2 != 0:\n",
        "      num.append(x)\n",
        "  return(num)"
      ],
      "execution_count": 96,
      "outputs": []
    },
    {
      "cell_type": "code",
      "metadata": {
        "colab": {
          "base_uri": "https://localhost:8080/"
        },
        "id": "6ztMzS9YfUnz",
        "outputId": "e2b62a55-ffc0-4656-d9ee-e4ea9740428a"
      },
      "source": [
        "odd_number([34, 5, 7, 32, 45, 66, 22, 36, 1923])"
      ],
      "execution_count": 97,
      "outputs": [
        {
          "output_type": "execute_result",
          "data": {
            "text/plain": [
              "[5, 7, 45, 1923]"
            ]
          },
          "metadata": {},
          "execution_count": 97
        }
      ]
    },
    {
      "cell_type": "code",
      "metadata": {
        "id": "IzYPmPvrg1Q-"
      },
      "source": [
        "def div_three(lst):\n",
        "  \n",
        "  '''\n",
        "  Created by  : Gokan Bektas\n",
        "  Input       : This function takes a list of digits.\n",
        "  Output      : This function returns a list of division 3 numbers. \n",
        "\n",
        "  '''\n",
        "  \n",
        "  num = [ ]\n",
        "    # creating empty list. \n",
        "  for x in lst:\n",
        "    # itirate list.\n",
        "    if x % 3 == 0:\n",
        "    # if numbers divisible and reminder is 0. \n",
        "      num.append(x)\n",
        "    # appending numbers to the list which divisible to 3. \n",
        "  return(num) \n",
        "    # returning numbers which divisible 3.\n"
      ],
      "execution_count": 98,
      "outputs": []
    },
    {
      "cell_type": "code",
      "metadata": {
        "colab": {
          "base_uri": "https://localhost:8080/"
        },
        "id": "3etVHEsHhbNQ",
        "outputId": "057931b9-e0cc-4159-b11d-2397a70c6ba0"
      },
      "source": [
        "div_three([11, 56, 54, 67, 87, 55, 100, 15])"
      ],
      "execution_count": 99,
      "outputs": [
        {
          "output_type": "execute_result",
          "data": {
            "text/plain": [
              "[54, 87, 15]"
            ]
          },
          "metadata": {},
          "execution_count": 99
        }
      ]
    },
    {
      "cell_type": "markdown",
      "metadata": {
        "id": "gN9ZDQF1mRyD"
      },
      "source": [
        "## *args and *kwargs"
      ]
    },
    {
      "cell_type": "markdown",
      "metadata": {
        "id": "K9_ymyBctdEg"
      },
      "source": [
        "###args"
      ]
    },
    {
      "cell_type": "code",
      "metadata": {
        "id": "jQCMSw0amRrr"
      },
      "source": [
        "def new_fcnt(a, b, c):\n",
        "  return a,b,c\n"
      ],
      "execution_count": 103,
      "outputs": []
    },
    {
      "cell_type": "code",
      "metadata": {
        "colab": {
          "base_uri": "https://localhost:8080/"
        },
        "id": "k3_UewJCmRmh",
        "outputId": "22f4bdbc-6145-4d06-ba78-f2b300a3f0a5"
      },
      "source": [
        "new_fcnt(\"hi\", \"10\", \"hello\")"
      ],
      "execution_count": 107,
      "outputs": [
        {
          "output_type": "execute_result",
          "data": {
            "text/plain": [
              "('hi', '10', 'hello')"
            ]
          },
          "metadata": {},
          "execution_count": 107
        }
      ]
    },
    {
      "cell_type": "code",
      "metadata": {
        "id": "MWgIsIllmRg5"
      },
      "source": [
        "def new_fcnt2(*args):\n",
        "  return args"
      ],
      "execution_count": 112,
      "outputs": []
    },
    {
      "cell_type": "code",
      "metadata": {
        "colab": {
          "base_uri": "https://localhost:8080/"
        },
        "id": "rlOcOsUpmRdk",
        "outputId": "a292e91f-9eb8-4d01-9fa5-634241926602"
      },
      "source": [
        "new_fcnt2('hello', '19')"
      ],
      "execution_count": 113,
      "outputs": [
        {
          "output_type": "execute_result",
          "data": {
            "text/plain": [
              "('hello', '19')"
            ]
          },
          "metadata": {},
          "execution_count": 113
        }
      ]
    },
    {
      "cell_type": "code",
      "metadata": {
        "id": "ALD0gzs0mRac"
      },
      "source": [
        "def pr(a, b):\n",
        "  return sum((a, b)) * 0.4"
      ],
      "execution_count": 114,
      "outputs": []
    },
    {
      "cell_type": "code",
      "metadata": {
        "colab": {
          "base_uri": "https://localhost:8080/"
        },
        "id": "spGrLjE7mRXO",
        "outputId": "1d094cc8-9fda-47c1-8241-a8f59ccfd657"
      },
      "source": [
        "pr(30,70)"
      ],
      "execution_count": 115,
      "outputs": [
        {
          "output_type": "execute_result",
          "data": {
            "text/plain": [
              "40.0"
            ]
          },
          "metadata": {},
          "execution_count": 115
        }
      ]
    },
    {
      "cell_type": "code",
      "metadata": {
        "id": "n7hg4yChhddn"
      },
      "source": [
        "def pr2(*args):\n",
        "  return sum((args)) * 0.4"
      ],
      "execution_count": 116,
      "outputs": []
    },
    {
      "cell_type": "code",
      "metadata": {
        "colab": {
          "base_uri": "https://localhost:8080/"
        },
        "id": "ua0AT_d3qOGc",
        "outputId": "1cf31dd1-7b55-4c50-d944-788f23fa098d"
      },
      "source": [
        "pr2(30, 70, 89, 4)"
      ],
      "execution_count": 118,
      "outputs": [
        {
          "output_type": "execute_result",
          "data": {
            "text/plain": [
              "77.2"
            ]
          },
          "metadata": {},
          "execution_count": 118
        }
      ]
    },
    {
      "cell_type": "code",
      "metadata": {
        "id": "947dF7VpqQYS"
      },
      "source": [
        "# Give me paragraph that explaining function. \n",
        "\n",
        "'''\n",
        "\n",
        "Function is general speaking the special purpose of activity. \n",
        "In programming a set of instructions bundled together to achieve a specific outcome.\n",
        "In pyhton a function is a block of code that only runs when it is called. \n",
        "Python functions return a value using a return statement, if one is specified. Python has two types of function user-defined and built in. \n",
        "\n",
        "'''"
      ],
      "execution_count": null,
      "outputs": []
    },
    {
      "cell_type": "code",
      "metadata": {
        "id": "lcCD7_iptFho"
      },
      "source": [
        "def new_fcnt3(*)"
      ],
      "execution_count": null,
      "outputs": []
    },
    {
      "cell_type": "markdown",
      "metadata": {
        "id": "whPgE875tFdt"
      },
      "source": [
        "### kwargs"
      ]
    },
    {
      "cell_type": "code",
      "metadata": {
        "id": "I-NRfsAOtFZz"
      },
      "source": [
        "def new_fcnt4(**kwargs):\n",
        "  print(kwargs)\n",
        "  if 'flower' in kwargs:\n",
        "    print(\"We have {} for you! \".format(kwargs['flower']))\n",
        "  else:\n",
        "    print(\"We dont have flowers for you! \")"
      ],
      "execution_count": 121,
      "outputs": []
    },
    {
      "cell_type": "code",
      "metadata": {
        "colab": {
          "base_uri": "https://localhost:8080/"
        },
        "id": "7wkv8nqztFVz",
        "outputId": "c7703057-f7b3-40d2-89cd-d7f4b7e2d1c1"
      },
      "source": [
        "new_fcnt4( color = \"Orange\", flower = 'Rose')"
      ],
      "execution_count": 122,
      "outputs": [
        {
          "output_type": "stream",
          "name": "stdout",
          "text": [
            "{'color': 'Orange', 'flower': 'Rose'}\n",
            "We have Rose for you! \n"
          ]
        }
      ]
    },
    {
      "cell_type": "code",
      "metadata": {
        "id": "ckiIqencubfR"
      },
      "source": [
        "def new_fcnt5(*args, **kwargs):\n",
        "  print(args)\n",
        "  print(kwargs)\n",
        "  print('I would like to have {} {}! ' .format(args[0], kwargs['fruit']))"
      ],
      "execution_count": 123,
      "outputs": []
    },
    {
      "cell_type": "code",
      "metadata": {
        "colab": {
          "base_uri": "https://localhost:8080/"
        },
        "id": "gprHzZ0LwEty",
        "outputId": "b754fa51-0310-44eb-9679-99d1022d49cd"
      },
      "source": [
        "new_fcnt5(1,2,3, color = 'Green', fruit = 'Apple')"
      ],
      "execution_count": 125,
      "outputs": [
        {
          "output_type": "stream",
          "name": "stdout",
          "text": [
            "(1, 2, 3)\n",
            "{'color': 'Green', 'fruit': 'Apple'}\n",
            "I would like to have 1 Apple! \n"
          ]
        }
      ]
    },
    {
      "cell_type": "code",
      "metadata": {
        "id": "xBSKQEW_wFtp"
      },
      "source": [
        ""
      ],
      "execution_count": null,
      "outputs": []
    }
  ]
}