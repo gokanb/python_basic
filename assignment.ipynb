{
  "nbformat": 4,
  "nbformat_minor": 0,
  "metadata": {
    "colab": {
      "name": "assignment.ipynb",
      "provenance": [],
      "collapsed_sections": [],
      "authorship_tag": "ABX9TyPhObBqruTcy4iCqTyAkF1s",
      "include_colab_link": true
    },
    "kernelspec": {
      "name": "python3",
      "display_name": "Python 3"
    },
    "language_info": {
      "name": "python"
    }
  },
  "cells": [
    {
      "cell_type": "markdown",
      "metadata": {
        "id": "view-in-github",
        "colab_type": "text"
      },
      "source": [
        "<a href=\"https://colab.research.google.com/github/gokanb/python_basic/blob/main/assignment.ipynb\" target=\"_parent\"><img src=\"https://colab.research.google.com/assets/colab-badge.svg\" alt=\"Open In Colab\"/></a>"
      ]
    },
    {
      "cell_type": "code",
      "metadata": {
        "id": "yRP_OLdu2mO3"
      },
      "source": [
        "import socket    \n",
        "import psutil\n",
        "host_name = socket.gethostname()    \n",
        "IPAddress = socket.gethostbyname(host_name)    \n",
        "print(\"Your Computer Name is:\" + host_name)    \n",
        "print(\"Your Computer IP Address is:\" + IPAddress) \n",
        "#How to get the IP address of a client using socket module\n",
        "\n",
        "ip = socket.gethostbyname (socket.gethostname())\n",
        "for port in range(10):      #check for all available ports\n",
        "    try:\n",
        "   \n",
        "        serv = socket.socket(socket.AF_INET,socket.SOCK_STREAM) # create a new socket\n",
        "        serv.bind((ip,port)) # bind socket with address\n",
        "              \n",
        "    except:\n",
        "  \n",
        "        print('[OPEN] Port open :',port) #print open port number\n",
        "    serv.close() #close connection\n",
        "#How to check ports are open or not. \n",
        "    \n",
        "\n",
        "hostname, aliases, addresses = socket.gethostbyaddr('192.168.122.124')\n",
        "print ('Hostname:', hostname)\n",
        "print ('Aliases :', aliases)\n",
        "print ('Addresses:', addresses)\n",
        "#how to get dns information\n",
        "\n",
        "\n",
        "\n",
        "print('RAM memory % used:', psutil.virtual_memory()[2])\n",
        "# Getting % usage of virtual_memory ( 3rd field)"
      ],
      "execution_count": null,
      "outputs": []
    }
  ]
}