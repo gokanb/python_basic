{
  "nbformat": 4,
  "nbformat_minor": 0,
  "metadata": {
    "colab": {
      "name": "exception handling.ipynb",
      "provenance": [],
      "collapsed_sections": [],
      "mount_file_id": "1XKDNbKq4dRH0TZLRVWNyNZa9u9FTWa0q",
      "authorship_tag": "ABX9TyPuMi9Dcq/kR3332Q7elI1E",
      "include_colab_link": true
    },
    "kernelspec": {
      "name": "python3",
      "display_name": "Python 3"
    },
    "language_info": {
      "name": "python"
    }
  },
  "cells": [
    {
      "cell_type": "markdown",
      "metadata": {
        "id": "view-in-github",
        "colab_type": "text"
      },
      "source": [
        "<a href=\"https://colab.research.google.com/github/gokanb/python_basic/blob/main/exception_handling.ipynb\" target=\"_parent\"><img src=\"https://colab.research.google.com/assets/colab-badge.svg\" alt=\"Open In Colab\"/></a>"
      ]
    },
    {
      "cell_type": "markdown",
      "metadata": {
        "id": "lmWFYb_P0Rj1"
      },
      "source": [
        "# Exception Handling\n",
        "\n",
        "# Try , Except "
      ]
    },
    {
      "cell_type": "code",
      "metadata": {
        "colab": {
          "base_uri": "https://localhost:8080/"
        },
        "id": "TFzRLE8D0pmj",
        "outputId": "d0f266a5-5eed-43e3-cb21-9e0cd6f0a7b1"
      },
      "source": [
        "try:\n",
        "  f = open('/content/drive/MyDrive/Colab Notebooks/sample1.txt', 'r')\n",
        "  f.read()\n",
        "\n",
        "except IOError:\n",
        "  # This will only check if the file loads or not!\n",
        "  print('ERROR: Could not find the to read the data')\n",
        "\n",
        "else:\n",
        "  print(\"File found and data ready\")\n",
        "  f.close()"
      ],
      "execution_count": 10,
      "outputs": [
        {
          "output_type": "stream",
          "name": "stdout",
          "text": [
            "ERROR: Could not find the to read the data\n"
          ]
        }
      ]
    },
    {
      "cell_type": "code",
      "metadata": {
        "id": "ikeZGJHK0pkN"
      },
      "source": [
        ""
      ],
      "execution_count": null,
      "outputs": []
    },
    {
      "cell_type": "code",
      "metadata": {
        "id": "ivO2yGym0phr"
      },
      "source": [
        "def numint():\n",
        "  try:\n",
        "    val = int(input(\"Enter a number\"))\n",
        "\n",
        "  except:\n",
        "    print(\"Dude, you did not enter a valid integer\")\n",
        "    val = int(input(\"Enter a number\"))\n",
        "\n",
        "  finally:\n",
        "    print(\"Alas, you've done what I've asked!\")\n",
        "\n",
        "  print(val)"
      ],
      "execution_count": 13,
      "outputs": []
    },
    {
      "cell_type": "code",
      "metadata": {
        "colab": {
          "base_uri": "https://localhost:8080/"
        },
        "id": "QARohV3n0pfO",
        "outputId": "17c0b105-d651-45f4-fd90-e2935b84a783"
      },
      "source": [
        "numint()"
      ],
      "execution_count": 14,
      "outputs": [
        {
          "output_type": "stream",
          "name": "stdout",
          "text": [
            "Enter a numbert\n",
            "Dude, you did not enter a valid integer\n",
            "Enter a number2\n",
            "Alas, you've done what I've asked!\n",
            "2\n"
          ]
        }
      ]
    },
    {
      "cell_type": "code",
      "metadata": {
        "id": "grQAnEun0pc5"
      },
      "source": [
        ""
      ],
      "execution_count": null,
      "outputs": []
    },
    {
      "cell_type": "code",
      "metadata": {
        "id": "hEBn1xcr0paX"
      },
      "source": [
        ""
      ],
      "execution_count": null,
      "outputs": []
    },
    {
      "cell_type": "code",
      "metadata": {
        "id": "rov-G_5O0pXs"
      },
      "source": [
        ""
      ],
      "execution_count": null,
      "outputs": []
    }
  ]
}